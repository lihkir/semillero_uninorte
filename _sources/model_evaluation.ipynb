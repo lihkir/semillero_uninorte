{
 "cells": [
  {
   "cell_type": "markdown",
   "metadata": {},
   "source": [
    "# Evaluación de modelos"
   ]
  },
  {
   "cell_type": "markdown",
   "metadata": {},
   "source": [
    "- Después de haber discutido los fundamentos del `aprendizaje supervisado` y de sus `algoritmos`, nos adentraremos en la `evaluación de los modelos` y en la `selección de los parámetros`. Nos centraremos en los modelos supervisados, la `regresión` y la `clasificación`, ya que la evaluación y selección de modelos en el aprendizaje no supervisado suele ser un proceso muy cualitativo.\n",
    "\n",
    "- Para evaluar nuestros modelos supervisados, hasta ahora hemos dividido nuestro conjunto de datos en un conjunto de `entrenamiento` y un conjunto de `prueba` utilizando la función `train_test_split`, hemos construido un modelo en el conjunto de entrenamiento llamando al método `fit`, y lo hemos evaluado en el conjunto de `prueba` utilizando el método `score`, que para la clasificación, calcula la `fracción de muestras correctamente clasificadas`. He aquí\n",
    "un ejemplo de este proceso"
   ]
  },
  {
   "cell_type": "code",
   "execution_count": 1,
   "metadata": {},
   "outputs": [],
   "source": [
    "import warnings\n",
    "warnings.filterwarnings('ignore')"
   ]
  },
  {
   "cell_type": "code",
   "execution_count": 2,
   "metadata": {},
   "outputs": [],
   "source": [
    "from sklearn.datasets import make_blobs\n",
    "from sklearn.linear_model import LogisticRegression\n",
    "from sklearn.model_selection import train_test_split"
   ]
  },
  {
   "cell_type": "markdown",
   "metadata": {},
   "source": [
    "- Creamos un conjunto de datos sintéticos"
   ]
  },
  {
   "cell_type": "code",
   "execution_count": 3,
   "metadata": {},
   "outputs": [],
   "source": [
    "X, y = make_blobs(random_state=0)"
   ]
  },
  {
   "cell_type": "markdown",
   "metadata": {},
   "source": [
    "- Dividimos los datos y las etiquetas en un conjunto de entrenamiento y otro de prueba"
   ]
  },
  {
   "cell_type": "code",
   "execution_count": 4,
   "metadata": {},
   "outputs": [],
   "source": [
    "X_train, X_test, y_train, y_test = train_test_split(X, y, random_state=0)"
   ]
  },
  {
   "cell_type": "markdown",
   "metadata": {},
   "source": [
    "- Instanciar el modelo y ajustarlo al conjunto de entrenamiento"
   ]
  },
  {
   "cell_type": "code",
   "execution_count": 5,
   "metadata": {},
   "outputs": [],
   "source": [
    "logreg = LogisticRegression().fit(X_train, y_train)"
   ]
  },
  {
   "cell_type": "markdown",
   "metadata": {},
   "source": [
    "- Evaluar el modelo en el conjunto de prueba"
   ]
  },
  {
   "cell_type": "code",
   "execution_count": 6,
   "metadata": {},
   "outputs": [
    {
     "name": "stdout",
     "output_type": "stream",
     "text": [
      "Test set score: 0.88\n"
     ]
    }
   ],
   "source": [
    "print(\"Test set score: {:.2f}\".format(logreg.score(X_test, y_test)))"
   ]
  },
  {
   "cell_type": "markdown",
   "metadata": {},
   "source": [
    "- Evaluar el modelo en el conjunto de entrenamiento"
   ]
  },
  {
   "cell_type": "code",
   "execution_count": 7,
   "metadata": {},
   "outputs": [
    {
     "name": "stdout",
     "output_type": "stream",
     "text": [
      "Train set score: 0.91\n"
     ]
    }
   ],
   "source": [
    "print(\"Train set score: {:.2f}\".format(logreg.score(X_train, y_train)))"
   ]
  },
  {
   "cell_type": "markdown",
   "metadata": {},
   "source": [
    "- Recuerde que la razón por la que dividimos nuestros datos en conjuntos de entrenamiento y de prueba, es que estamos interesados en medir lo bien que nuestro modelo se generaliza a nuevos datos no vistos anteriormente. `No nos interesa lo bien que nuestro modelo se ajusta al conjunto de entrenamiento, sino lo bien que puede hacer predicciones sobre datos no observados durante el entrenamiento`.\n",
    "\n",
    "- En esta sección, ampliaremos dos aspectos de esta evaluación. En primer lugar, introduciremos la `validación cruzada` (cross-validation), una forma más sólida de `evaluar el rendimiento de la generalización`, y discutiremos los métodos para `evaluar el rendimiento de la clasificación y la regresión` que van más allá de las medidas por defecto de precisión (accuracy) y $R^2$ proporcionadas por el método `score`. También hablaremos del `grid search`, un método eficaz para ajustar los parámetros de los modelos supervisados y obtener el `mejor rendimiento de la generalización`."
   ]
  },
  {
   "cell_type": "markdown",
   "metadata": {},
   "source": [
    "## Cross-Validation"
   ]
  },
  {
   "cell_type": "markdown",
   "metadata": {},
   "source": [
    "- La `validación cruzada (cross-validation)` es un `método estadístico` para evaluar el rendimiento de la generalización que es `más estable y exhaustivo` que el uso de una división en un conjunto de entrenamiento y otro de prueba. En la validación cruzada, `los datos se dividen repetidamente y se entrenan múltiples modelos`. La versión más utilizada de la validación cruzada es la `k-fold cross-validation`, donde `k` es un número `especificado por el usuario, normalmente 5 o 10`. \n",
    "\n",
    "- `Cuando se realiza la validación cruzada five-fold, los datos se dividen primero en cinco partes de tamaño (aproximadamente) igual, llamadas pliegues (folds)`. A continuación, se entrena una secuencia de modelos. `El primer modelo se entrena utilizando el primer pliegue como conjunto de prueba, y los pliegues restantes (2-5) se utilizan como conjunto de entrenamiento. El modelo se construye utilizando los datos de los pliegues 2-5, y luego se evalúa la precisión en el pliegue 1`. A continuación, luego se construye otro modelo, esta vez utilizando el pliegue 2 como conjunto de prueba y los datos de los pliegues 1, 3, 4 y 5 como conjunto de entrenamiento. Este proceso se repite utilizando los pliegues 3, 4 y 5 como conjuntos de prueba. Para cada una de estas cinco divisiones de los datos en conjuntos de entrenamiento y de prueba, calculamos la precisión. Al final, hemos recogido cinco valores de precisión."
   ]
  },
  {
   "cell_type": "code",
   "execution_count": 8,
   "metadata": {},
   "outputs": [
    {
     "data": {
      "image/png": "[encoded data removed]",
      "text/plain": [
       "<Figure size 864x144 with 1 Axes>"
      ]
     },
     "metadata": {
      "needs_background": "light"
     },
     "output_type": "display_data"
    }
   ],
   "source": [
    "import mglearn\n",
    "mglearn.plots.plot_cross_validation()"
   ]
  },
  {
   "cell_type": "markdown",
   "metadata": {},
   "source": [
    "- Normalmente, la primera quinta parte de los datos es el primer `fold`, la segunda quinta parte de los datos es el\n",
    "segundo `fold`, y así sucesivamente."
   ]
  },
  {
   "cell_type": "markdown",
   "metadata": {},
   "source": [
    "### Validación cruzada en scikit-learn\n",
    "\n",
    "- La validación cruzada se implementa en `scikit-learn` utilizando la función `cross_val_score` del módulo `model_selection`. `Los parámetros de la función cross_val_score son, el modelo que queremos evaluar, los datos de entrenamiento y las etiquetas reales`. Vamos a evaluar `LogisticRegression` en el conjunto de datos `iris`. Utilizaremos los parámetros por defecto de este modelo, mas adelante estudiaremos como conseguir los mas óptimos por medio de `grid-search`, por ahora solo estamos interesados en evaluar el modelo por defecto usando `cross_val_score`. Para mas información acerca de los argumentos del modelo (ver [sklearn.linear_model.LogisticRegression](https://scikit-learn.org/stable/modules/generated/sklearn.linear_model.LogisticRegression.html))."
   ]
  },
  {
   "cell_type": "code",
   "execution_count": 9,
   "metadata": {},
   "outputs": [],
   "source": [
    "from sklearn.model_selection import cross_val_score\n",
    "from sklearn.datasets import load_iris\n",
    "from sklearn.linear_model import LogisticRegression"
   ]
  },
  {
   "cell_type": "code",
   "execution_count": 10,
   "metadata": {},
   "outputs": [],
   "source": [
    "iris = load_iris()\n",
    "logreg = LogisticRegression()"
   ]
  },
  {
   "cell_type": "code",
   "execution_count": 11,
   "metadata": {},
   "outputs": [
    {
     "name": "stdout",
     "output_type": "stream",
     "text": [
      "Cross-validation scores: [0.96666667 1.         0.93333333 0.96666667 1.        ]\n"
     ]
    }
   ],
   "source": [
    "scores = cross_val_score(logreg, iris.data, iris.target);\n",
    "print(\"Cross-validation scores: {}\".format(scores))"
   ]
  },
  {
   "cell_type": "markdown",
   "metadata": {},
   "source": [
    "- Por defecto, `cross_val_score` realiza una `five-fold cross validation`, devolviendo cinco valores de precisión. Podemos cambiar el número de pliegues `(folds)` utilizados, cambiando el parámetro `cv`:"
   ]
  },
  {
   "cell_type": "code",
   "execution_count": 12,
   "metadata": {},
   "outputs": [
    {
     "name": "stdout",
     "output_type": "stream",
     "text": [
      "Cross-validation scores: [1.         0.93333333 1.         1.         0.93333333 0.93333333\n",
      " 0.93333333 1.         1.         1.        ]\n"
     ]
    }
   ],
   "source": [
    "scores = cross_val_score(logreg, iris.data, iris.target, cv=10);\n",
    "print(\"Cross-validation scores: {}\".format(scores))"
   ]
  },
  {
   "cell_type": "markdown",
   "metadata": {},
   "source": [
    "- Una forma habitual de `resumir la precisión de la validación cruzada es calcular la media`"
   ]
  },
  {
   "cell_type": "code",
   "execution_count": 13,
   "metadata": {},
   "outputs": [
    {
     "name": "stdout",
     "output_type": "stream",
     "text": [
      "Average cross-validation score: 0.97\n"
     ]
    }
   ],
   "source": [
    "print(\"Average cross-validation score: {:.2f}\".format(scores.mean()))"
   ]
  },
  {
   "cell_type": "markdown",
   "metadata": {},
   "source": [
    "- Utilizando la `validación cruzada media` podemos concluir que, esperamos que el modelo sea de precisión en torno al 97% de media. Si observamos las cinco puntuaciones producidas por la validación cruzada de cinco pliegues `five-fold cross validation`, también podemos concluir que hay una varianza relativamente alta en la precisión entre pliegues, que va del 100% de precisión al 93.33% de precisión aproximadamente. Esto podría implicar que el modelo es muy `dependiente de los pliegues particulares utilizados para el entrenamiento`, pero también podría ser simplemente una `consecuencia del pequeño tamaño del conjunto de datos`."
   ]
  },
  {
   "cell_type": "markdown",
   "metadata": {},
   "source": [
    "### Ventajas de la validación cruzada"
   ]
  },
  {
   "cell_type": "markdown",
   "metadata": {},
   "source": [
    "- Son varios los beneficios de utilizar la `validación cruzada` en lugar de una única división en un conjunto de entrenamiento y otro de prueba. En primer lugar, recuerde que `train_test_split` realiza una división aleatoria de los datos. `Imaginemos que tenemos \"suerte\" al dividir aleatoriamente los datos, y todos los ejemplos que son difíciles de clasificar acaban en el conjunto de entrenamiento. En ese caso, el conjunto de prueba sólo contendrá ejemplos \"fáciles\", y nuestra precisión en el conjunto de prueba será irrealmente alto. Por el contrario, si tenemos \"mala suerte\", es posible que pongamos al azar todos los ejemplos difíciles de clasificar en el conjunto de prueba y en consecuencia, obtener una scoring irrealmente baja`.\n",
    "\n",
    "- Sin embargo, al utilizar la validación cruzada, cada ejemplo estará en el conjunto de entrenamiento exactamente una vez: cada ejemplo está en uno de los pliegues (`folds`), y cada pliegue es el conjunto de prueba una vez. Por lo tanto, `el modelo tiene que generalizar bien a todas las muestras del conjunto de datos, para que todas las validaciones cruzadas (y su media) sean altas`. El hecho de `tener múltiples divisiones de los datos también proporciona cierta información sobre la sensibilidad de nuestro modelo a la selección a la selección del conjunto de datos de entrenamiento`. \n",
    "\n",
    "- En el caso del conjunto de datos `iris`, vimos precisiones de entre el 93.33% y el 100%. `Se trata de un rango bastante amplio que nos da una idea de cómo podría funcionar el modelo en el peor y el mejor de los casos, cuando se aplica a nuevos datos`. Otro beneficio de la validación cruzada en comparación con el uso de una única división de los datos es que utilizamos nuestros datos de forma más eficaz. Al utilizar `train_test_split`, solemos utilizar `75% de los datos para el entrenamiento y 25% de los datos para la evaluación`. Cuando se utiliza la validación cruzada de cinco pliegues (`five-fold`), en cada iteración podemos utilizar cuatro quintos de los datos (80%) para ajustar el modelo. Cuando se utiliza la validación cruzada de 10 veces, podemos utilizar nueve décimas partes de los datos (90%) para ajustar el modelo. Un `mayor número de datos suele dar lugar a modelos más precisos`. La principal `desventaja de la validación cruzada es el aumento del coste computacional`. Como ahora `estamos entrenando k modelos en lugar de un único modelo`, la validación cruzada será aproximadamente `k` veces más lenta que hacer una única división de los datos."
   ]
  },
  {
   "cell_type": "markdown",
   "metadata": {},
   "source": [
    "```{admonition} Observación\n",
    ":class: tip\n",
    "\n",
    "Es importante tener en cuenta que la `validación cruzada no es una forma de construir un modelo que pueda aplicarse a nuevos datos. La validación cruzada no devuelve un modelo`. Cuando se llama a `cross_validation_score`, se construyen internamente múltiples modelos, pero el propósito de la validación cruzada es evaluar lo bien que un algoritmo determinado generalizará cuando es entrenado en un conjunto de datos específico.\n",
    "```"
   ]
  },
  {
   "cell_type": "markdown",
   "metadata": {},
   "source": [
    "## Grid Search"
   ]
  },
  {
   "cell_type": "markdown",
   "metadata": {},
   "source": [
    "- Ahora que sabemos cómo evaluar el grado de generalización de un modelo, podemos dar el siguiente paso y mejorar el rendimiento de la generalización del modelo ajustando sus parámetros. Es importante entender lo que significan los parámetros antes de intentar ajustarlos. Encontrar los valores de los parámetros importantes de un modelo (`los que proporcionan el mejor rendimiento de generalización`) es una tarea complicada, pero necesaria para casi todos los modelos y conjuntos de datos. \n",
    "\n",
    "- Al ser una tarea tan común, existen métodos estándar en `scikit-learn` para ayudarle con ello. El método más utilizado es la `grid search`, que básicamente significa probar todas las combinaciones posibles de los parámetros de interés. Considere el caso de un SVM con un `kernel RBF` (función de base radial), como implementado en la clase SVC. Como ya hemos comentado en el estudio del modelo, hay dos parámetros importantes: el `ancho de banda del kernel, gamma`, y el `parámetro de regularización, C`. \n",
    "\n",
    "- Digamos que queremos probar los valores `0.001, 0.01, 0.1, 1, 10 y 100 para el parámetro C, y lo mismo para gamma`. Como tenemos seis ajustes diferentes para C y gamma que queremos probar, tenemos `36 combinaciones de parámetros en total`. Al ver todas las combinaciones posibles, `se crea una tabla (o red) de parámetros para SVM, como se muestra aquí:"
   ]
  },
  {
   "cell_type": "markdown",
   "metadata": {},
   "source": [
    "```{figure} ./imgs/grid_search_svm.png\n",
    ":name: grid_search_svm\n",
    ":align: center\n",
    ":scale: 70\n",
    "```"
   ]
  },
  {
   "cell_type": "markdown",
   "metadata": {},
   "source": [
    "### Grid Search con validación cruzada"
   ]
  },
  {
   "cell_type": "markdown",
   "metadata": {},
   "source": [
    "- `Aunque el método de dividir los datos en un conjunto de entrenamiento, uno de validación y otro de prueba que acabamos de ver es factible y se utiliza con relativa frecuencia, es bastante sensible a la forma en que se dividen los datos`. De la salida del fragmento de código anterior podemos ver que el `grid-search` selecciona `'C': 10, 'gamma': 0.001`, como los mejores parámetros, mientras que la salida del código de la sección anterior selecciona `'C': 100, 'gamma': 0.001` como los mejores parámetros. Para una mejor estimación del rendimiento de la generalización, `en lugar de usar una única división en un conjunto de entrenamiento y otro de validación, podemos usar la validación cruzada para evaluar el rendimiento de cada combinación de parámetros`. Este método puede codificarse como sigue:"
   ]
  },
  {
   "cell_type": "code",
   "execution_count": 14,
   "metadata": {},
   "outputs": [],
   "source": [
    "X_trainval, X_test, y_trainval, y_test = train_test_split(iris.data, iris.target, random_state=0)"
   ]
  },
  {
   "cell_type": "code",
   "execution_count": 15,
   "metadata": {},
   "outputs": [],
   "source": [
    "import numpy as np\n",
    "from sklearn.svm import SVC"
   ]
  },
  {
   "cell_type": "code",
   "execution_count": 16,
   "metadata": {
    "scrolled": true
   },
   "outputs": [],
   "source": [
    "best_score = 0\n",
    "for gamma in [0.001, 0.01, 0.1, 1, 10, 100]:\n",
    "    for C in [0.001, 0.01, 0.1, 1, 10, 100]:\n",
    "        svm = SVC(gamma=gamma, C=C) # Entrena SVC para cada parámetro\n",
    "        scores = cross_val_score(svm, X_trainval, y_trainval, cv=5) # Calcula validación cruzada\n",
    "        score = np.mean(scores) # Calcula media de la validación cruzada para precisión\n",
    "        if score > best_score:\n",
    "            best_score = score\n",
    "            best_parameters = {'C': C, 'gamma': gamma}"
   ]
  },
  {
   "cell_type": "markdown",
   "metadata": {},
   "source": [
    "- Reconstruimos un modelo en el conjunto combinado de entrenamiento y validación"
   ]
  },
  {
   "cell_type": "code",
   "execution_count": 17,
   "metadata": {},
   "outputs": [
    {
     "data": {
      "text/plain": [
       "SVC(C=10, gamma=0.1)"
      ]
     },
     "execution_count": 17,
     "metadata": {},
     "output_type": "execute_result"
    }
   ],
   "source": [
    "svm = SVC(**best_parameters)\n",
    "svm.fit(X_trainval, y_trainval)"
   ]
  },
  {
   "cell_type": "markdown",
   "metadata": {},
   "source": [
    "- Para evaluar la precisión de `SVM` utilizando un ajuste particular de `C` y `gamma` con `5-fold` validación cruzada, necesitamos entrenar `36 * 5 = 180` modelos. Como puede imaginarse el principal inconveniente del uso de la validación cruzada es el tiempo que lleva entrenar todos estos modelos. La siguiente visualización ilustra cómo se selecciona la mejor configuración de parámetros en el código anterior"
   ]
  },
  {
   "cell_type": "markdown",
   "metadata": {},
   "source": [
    "```{figure} ./imgs/best_params_cv.png\n",
    ":name: best_params_cv\n",
    ":align: center\n",
    "```"
   ]
  },
  {
   "cell_type": "markdown",
   "metadata": {},
   "source": [
    "- Para cada ajuste de parámetros (sólo se muestra un subconjunto), se calculan cinco valores de precisión, uno para cada división en la validación cruzada. A continuación, se calcula la precisión media de la validación para cada parámetro. `Se eligen los parámetros con la mayor precisión media de validación, marcados con un círculo`."
   ]
  },
  {
   "cell_type": "markdown",
   "metadata": {},
   "source": [
    "```{admonition} Observación\n",
    ":class: tip\n",
    "\n",
    "Como hemos dicho antes, la validación cruzada es una forma de evaluar un determinado algoritmo en un conjunto de datos específico. Sin embargo, a menudo se utiliza junto con métodos de búsqueda de parámetros como `Grid Search`. Por esta razón, normalmente se utiliza el término `validación cruzada` coloquialmente para referirse a un `Grid Search` con `validación cruzada`.\n",
    "```"
   ]
  },
  {
   "cell_type": "markdown",
   "metadata": {},
   "source": [
    "- El proceso general de división de los datos, la ejecución de `grid search` y la evaluación de los parámetros finales se ilustra en la siguiente figura"
   ]
  },
  {
   "cell_type": "markdown",
   "metadata": {},
   "source": [
    "```{figure} ./imgs/kfold_validation.png\n",
    ":name: kfold_validation\n",
    ":align: center\n",
    "\n",
    "Resumen del proceso de selección de parámetros y evaluación de modelos con `GridSearchCV`.\n",
    "```"
   ]
  },
  {
   "cell_type": "markdown",
   "metadata": {},
   "source": [
    "- Debido a que `grid search` con `validación cruzada` es un método tan comúnmente utilizado para ajustar parámetros, `scikit-learn` proporciona la clase `GridSearchCV`, que lo implementa en la forma de un estimador. Para utilizar la clase `GridSearchCV`, primero hay que especificar los parámetros sobre los que se quiere buscar utilizando un `diccionario`. A continuación, `GridSearchCV` realizará todos los ajustes necesarios del modelo. Las `claves` (keys) del diccionario son los nombres de los parámetros que queremos ajustar (tal y como se indican cuando se construye el modelo, en este caso, `C` y `gamma`), y los `valores` (values) son los ajustes de los parámetros que queremos probar. Probar los valores `0,001, 0,01, 0,1, 1, 10 y 100 para C y gamma` se traduce en lo siguiente diccionario"
   ]
  },
  {
   "cell_type": "code",
   "execution_count": 18,
   "metadata": {},
   "outputs": [
    {
     "name": "stdout",
     "output_type": "stream",
     "text": [
      "Parameter grid:\n",
      "{'C': [0.001, 0.01, 0.1, 1, 10, 100], 'gamma': [0.001, 0.01, 0.1, 1, 10, 100]}\n"
     ]
    }
   ],
   "source": [
    "param_grid = {'C': [0.001, 0.01, 0.1, 1, 10, 100],\n",
    "              'gamma': [0.001, 0.01, 0.1, 1, 10, 100]}\n",
    "print(\"Parameter grid:\\n{}\".format(param_grid))"
   ]
  },
  {
   "cell_type": "markdown",
   "metadata": {},
   "source": [
    "- Ahora podemos instanciar la clase `GridSearchCV` con el modelo `(SVC)`, el parámetro a buscar (`param_grid`), y la estrategia de validación cruzada que queremos utilizar (digamos `validación cruzada estratificada 5-fold`):"
   ]
  },
  {
   "cell_type": "code",
   "execution_count": 19,
   "metadata": {},
   "outputs": [],
   "source": [
    "from sklearn.model_selection import GridSearchCV\n",
    "from sklearn.svm import SVC"
   ]
  },
  {
   "cell_type": "code",
   "execution_count": 20,
   "metadata": {},
   "outputs": [],
   "source": [
    "grid_search = GridSearchCV(SVC(), param_grid, cv=5)"
   ]
  },
  {
   "cell_type": "markdown",
   "metadata": {},
   "source": [
    "- `GridSearchCV` utilizará la validación cruzada en lugar de la división en un conjunto de entrenamiento y de prueba que utilizábamos antes. `Sin embargo, todavía tenemos que dividir los datos en un conjunto de entrenamiento y otro de prueba, para evitar el sobreajuste de los parámetros`"
   ]
  },
  {
   "cell_type": "code",
   "execution_count": 21,
   "metadata": {},
   "outputs": [],
   "source": [
    "X_train, X_test, y_train, y_test = train_test_split(iris.data, iris.target, random_state=0)"
   ]
  },
  {
   "cell_type": "markdown",
   "metadata": {},
   "source": [
    "- El objeto `grid_search` que hemos creado se comporta como un clasificador; podemos llamar a los métodos estándar `fit, predict` y `score`. Sin embargo, cuando llamamos a `fit`, se ejecutará una validación cruzada para cada combinación de parámetros que hayamos especificado en `param_grid`"
   ]
  },
  {
   "cell_type": "code",
   "execution_count": 22,
   "metadata": {},
   "outputs": [
    {
     "data": {
      "text/plain": [
       "GridSearchCV(cv=5, estimator=SVC(),\n",
       "             param_grid={'C': [0.001, 0.01, 0.1, 1, 10, 100],\n",
       "                         'gamma': [0.001, 0.01, 0.1, 1, 10, 100]})"
      ]
     },
     "execution_count": 22,
     "metadata": {},
     "output_type": "execute_result"
    }
   ],
   "source": [
    "grid_search.fit(X_train, y_train)"
   ]
  },
  {
   "cell_type": "markdown",
   "metadata": {},
   "source": [
    "- El objeto `GridSearchCV` no sólo busca los mejores parámetros, sino que también automáticamente un nuevo modelo en todo el conjunto de datos de entrenamiento con los parámetros que han dado el mejor rendimiento en la validación cruzada. La clase `GridSearchCV` proporciona una interfaz muy conveniente para acceder al modelo reentrenado utilizando los métodos `predict` y `score`. Para evaluar lo bien que generalizan los mejores parámetros encontrados, podemos llamar a `score` en el conjunto de pruebas"
   ]
  },
  {
   "cell_type": "code",
   "execution_count": 23,
   "metadata": {},
   "outputs": [
    {
     "name": "stdout",
     "output_type": "stream",
     "text": [
      "Test set score: 0.97\n"
     ]
    }
   ],
   "source": [
    "print(\"Test set score: {:.2f}\".format(grid_search.score(X_test, y_test)))"
   ]
  },
  {
   "cell_type": "markdown",
   "metadata": {},
   "source": [
    "- Al elegir los parámetros mediante la validación cruzada, `encontramos un modelo que alcanza el 97% de precisión en el conjunto de prueba`. `Lo importante aquí es que no utilizamos el conjunto de prueba para elegir los parámetros`. Los parámetros encontrados se anotan en el atributo `best_params_` y la mejor precisión de la validación cruzada (la precisión media sobre las diferentes divisiones para esta configuración de parámetros) se almacena en `best_score_`"
   ]
  },
  {
   "cell_type": "code",
   "execution_count": 24,
   "metadata": {},
   "outputs": [
    {
     "name": "stdout",
     "output_type": "stream",
     "text": [
      "Best parameters: {'C': 10, 'gamma': 0.1}\n",
      "Best cross-validation score: 0.97\n"
     ]
    }
   ],
   "source": [
    "print(\"Best parameters: {}\".format(grid_search.best_params_))\n",
    "print(\"Best cross-validation score: {:.2f}\".format(grid_search.best_score_))"
   ]
  },
  {
   "cell_type": "markdown",
   "metadata": {},
   "source": [
    "```{admonition} Observación\n",
    ":class: tip\n",
    "\n",
    "De nuevo, tenga cuidado de no confundir `best_score_` con el rendimiento de generalización del modelo calculado por el método score en el conjunto de prueba. El uso del método score (o la evaluación de la salida del método de predicción) emplea un modelo entrenado en todo el conjunto de entrenamiento. `El atributo best_score_ almacena la precisión media de la validación cruzada, con la validación cruzada realizada en el conjunto de entrenamiento`.\n",
    "```"
   ]
  },
  {
   "cell_type": "markdown",
   "metadata": {},
   "source": [
    "- A veces es útil tener acceso al modelo real que se encontró, por ejemplo, para ver los coeficientes o la importancia de las características. Puede acceder al modelo con los mejores parámetros entrenados en todo el conjunto de entrenamiento utilizando el atributo `best_estimator_`"
   ]
  },
  {
   "cell_type": "code",
   "execution_count": 25,
   "metadata": {},
   "outputs": [
    {
     "name": "stdout",
     "output_type": "stream",
     "text": [
      "Best estimator:\n",
      "SVC(C=10, gamma=0.1)\n"
     ]
    }
   ],
   "source": [
    "print(\"Best estimator:\\n{}\".format(grid_search.best_estimator_))"
   ]
  },
  {
   "cell_type": "markdown",
   "metadata": {},
   "source": [
    "- Como el propio `grid_search` tiene métodos de predicción y score, no es necesario utilizar `best_estimator_` para hacer predicciones o evaluar el modelo."
   ]
  },
  {
   "cell_type": "markdown",
   "metadata": {},
   "source": [
    "### Análisis del resultado de la validación cruzada"
   ]
  },
  {
   "cell_type": "markdown",
   "metadata": {},
   "source": [
    "- A menudo es útil visualizar los resultados de la validación cruzada, para entender cómo la generalización del modelo depende de los parámetros que estamos buscando. Como los `grid search` son bastante costosos desde el punto de vista computacional, `a menudo es una buena idea empezar con grids de múltiples medidas, ya sean grandes o pequeños`. A continuación, podemos inspeccionar los resultados del `grid search` validado, y posiblemente ampliar nuestra búsqueda. Los resultados de un `grid search` se pueden encontrar en el atributo `cv_results_`, que es un diccionario que almacena todos los aspectos de la búsqueda. Este contiene muchos detalles, como se puede ver en la siguiente salida, y es mejor verlo después de convertirlo en un `DataFrame` de `pandas`. Mostramos solo algunas columnas, para que se puedan diferenciar en el book, pero en su máquina puede visualizarla todas usando la orden `results.head()`. `GridSearchCV.cv_results_` incluye los `resultados de tiempo para scoring y ajuste de parámetros en cada pliegue`. Por ejemplo `mean_score_time` es la cantidad media de tiempo que se necesita para scoring en los datos de cada pliegue `cv`, para cada conjunto de parámetros que definió en el `grid-search`. "
   ]
  },
  {
   "cell_type": "code",
   "execution_count": 26,
   "metadata": {},
   "outputs": [],
   "source": [
    "import pandas as pd"
   ]
  },
  {
   "cell_type": "code",
   "execution_count": 27,
   "metadata": {},
   "outputs": [
    {
     "data": {
      "text/html": [
       "<div>\n",
       "<style scoped>\n",
       "    .dataframe tbody tr th:only-of-type {\n",
       "        vertical-align: middle;\n",
       "    }\n",
       "\n",
       "    .dataframe tbody tr th {\n",
       "        vertical-align: top;\n",
       "    }\n",
       "\n",
       "    .dataframe thead th {\n",
       "        text-align: right;\n",
       "    }\n",
       "</style>\n",
       "<table border=\"1\" class=\"dataframe\">\n",
       "  <thead>\n",
       "    <tr style=\"text-align: right;\">\n",
       "      <th></th>\n",
       "      <th>mean_fit_time</th>\n",
       "      <th>std_fit_time</th>\n",
       "      <th>mean_score_time</th>\n",
       "      <th>std_score_time</th>\n",
       "      <th>param_C</th>\n",
       "      <th>param_gamma</th>\n",
       "    </tr>\n",
       "  </thead>\n",
       "  <tbody>\n",
       "    <tr>\n",
       "      <th>0</th>\n",
       "      <td>0.000832</td>\n",
       "      <td>0.000416</td>\n",
       "      <td>0.000125</td>\n",
       "      <td>0.000251</td>\n",
       "      <td>0.001</td>\n",
       "      <td>0.001</td>\n",
       "    </tr>\n",
       "    <tr>\n",
       "      <th>1</th>\n",
       "      <td>0.000921</td>\n",
       "      <td>0.001842</td>\n",
       "      <td>0.000710</td>\n",
       "      <td>0.001419</td>\n",
       "      <td>0.001</td>\n",
       "      <td>0.01</td>\n",
       "    </tr>\n",
       "    <tr>\n",
       "      <th>2</th>\n",
       "      <td>0.000000</td>\n",
       "      <td>0.000000</td>\n",
       "      <td>0.000000</td>\n",
       "      <td>0.000000</td>\n",
       "      <td>0.001</td>\n",
       "      <td>0.1</td>\n",
       "    </tr>\n",
       "    <tr>\n",
       "      <th>3</th>\n",
       "      <td>0.001735</td>\n",
       "      <td>0.003469</td>\n",
       "      <td>0.000000</td>\n",
       "      <td>0.000000</td>\n",
       "      <td>0.001</td>\n",
       "      <td>1</td>\n",
       "    </tr>\n",
       "    <tr>\n",
       "      <th>4</th>\n",
       "      <td>0.001584</td>\n",
       "      <td>0.003169</td>\n",
       "      <td>0.000000</td>\n",
       "      <td>0.000000</td>\n",
       "      <td>0.001</td>\n",
       "      <td>10</td>\n",
       "    </tr>\n",
       "  </tbody>\n",
       "</table>\n",
       "</div>"
      ],
      "text/plain": [
       "   mean_fit_time  std_fit_time  mean_score_time  std_score_time param_C  \\\n",
       "0       0.000832      0.000416         0.000125        0.000251   0.001   \n",
       "1       0.000921      0.001842         0.000710        0.001419   0.001   \n",
       "2       0.000000      0.000000         0.000000        0.000000   0.001   \n",
       "3       0.001735      0.003469         0.000000        0.000000   0.001   \n",
       "4       0.001584      0.003169         0.000000        0.000000   0.001   \n",
       "\n",
       "  param_gamma  \n",
       "0       0.001  \n",
       "1        0.01  \n",
       "2         0.1  \n",
       "3           1  \n",
       "4          10  "
      ]
     },
     "execution_count": 27,
     "metadata": {},
     "output_type": "execute_result"
    }
   ],
   "source": [
    "results = pd.DataFrame(grid_search.cv_results_)\n",
    "results[['mean_fit_time', 'std_fit_time', 'mean_score_time',\n",
    "         'std_score_time', 'param_C', 'param_gamma']].head()"
   ]
  },
  {
   "cell_type": "markdown",
   "metadata": {},
   "source": [
    "- Cada fila de resultados corresponde a un ajuste de parámetros concreto. `Para cada ajuste, se registran los resultados de todas las divisiones de validación cruzada, así como la media y la desviación estándar de todas las divisiones`. Como buscamos una red bidimensional de parámetros (`C y gamma`), esto se visualiza mejor como un `mapa de calor`. Primero extraemos las puntuaciones medias de la validación y luego las reformamos para que los ejes correspondan a `C y gamma`."
   ]
  },
  {
   "cell_type": "code",
   "execution_count": 28,
   "metadata": {},
   "outputs": [
    {
     "data": {
      "image/png": "[encoded data removed]",
      "text/plain": [
       "<Figure size 432x288 with 1 Axes>"
      ]
     },
     "metadata": {
      "needs_background": "light"
     },
     "output_type": "display_data"
    }
   ],
   "source": [
    "scores = np.array(results.mean_test_score).reshape(6, 6)\n",
    "mglearn.tools.heatmap(scores, \n",
    "                      xlabel='gamma', \n",
    "                      xticklabels=param_grid['gamma'], \n",
    "                      ylabel='C', \n",
    "                      yticklabels=param_grid['C'], \n",
    "                      cmap=\"viridis\");"
   ]
  },
  {
   "cell_type": "markdown",
   "metadata": {},
   "source": [
    "- Cada punto del mapa de calor corresponde a una ejecución de validación cruzada, con un parámetro en particular. El color codifica la precisión de la validación cruzada, siendo los colores claros los relacioandos con alta precisión y los colores oscuros con baja precisión. Se puede ver que `SVC` es muy sensible a la configuración de los parámetros. Para muchos de los ajustes de los parámetros, la precisión está en torno al 40%, lo que es bastante malo; para otros ajustes, la precisión está en torno al 96%. De este gráfico se desprenden varias cosas. En primer lugar, `los parámetros que ajustamos son muy importantes para obtener un buen rendimiento`. Ambos parámetros `(C y gamma)` son muy importantes, ya que su ajuste puede cambiar la precisión del 40% al 96%. Además, `los rangos que elegimos para los parámetros son rangos en los que vemos cambios significativos en el resultado`. También es importante tener en cuenta que `los rangos de los parámetros son lo suficientemente amplios: los valores óptimos de cada parámetro no están en los bordes del gráfico`. Ahora veamos algunos gráficos en los que el resultado es menos ideal, porque los rangos de búsqueda no fueron elegidos correctamente"
   ]
  },
  {
   "cell_type": "code",
   "execution_count": 29,
   "metadata": {},
   "outputs": [],
   "source": [
    "import matplotlib.pyplot as plt"
   ]
  },
  {
   "cell_type": "code",
   "execution_count": 30,
   "metadata": {},
   "outputs": [
    {
     "data": {
      "image/png": "[encoded data removed]",
      "text/plain": [
       "<Figure size 1080x360 with 3 Axes>"
      ]
     },
     "metadata": {
      "needs_background": "light"
     },
     "output_type": "display_data"
    }
   ],
   "source": [
    "fig, axes = plt.subplots(1, 3, figsize=(15, 5))\n",
    "\n",
    "param_grid_linear = {'C': np.linspace(1, 2, 6), 'gamma': np.linspace(1, 2, 6)}\n",
    "param_grid_one_log = {'C': np.linspace(1, 2, 6), 'gamma': np.logspace(-3, 2, 6)}\n",
    "param_grid_range = {'C': np.logspace(-3, 2, 6), 'gamma': np.logspace(-7, -2, 6)}\n",
    "\n",
    "for param_grid, ax in zip([param_grid_linear, param_grid_one_log, param_grid_range], axes):\n",
    "    grid_search = GridSearchCV(SVC(), param_grid, cv=5)\n",
    "    grid_search.fit(X_train, y_train)\n",
    "    scores = grid_search.cv_results_['mean_test_score'].reshape(6, 6)\n",
    "    \n",
    "    scores_image = mglearn.tools.heatmap(scores, \n",
    "                                         xlabel='gamma', \n",
    "                                         ylabel='C', \n",
    "                                         xticklabels=param_grid['gamma'],\n",
    "                                         yticklabels=param_grid['C'], \n",
    "                                         cmap=\"viridis\", \n",
    "                                         ax=ax)"
   ]
  },
  {
   "cell_type": "markdown",
   "metadata": {},
   "source": [
    "- El primer panel no muestra ningún cambio, con scores aproximadamente constantes en toda la red de parámetros. En este caso, esto se debe a una escala y un `rango inadecuado para los parámetros C y gamma`. Sin embargo, `si no se aprecia ningún cambio en la precisión a lo largo de los diferentes ajustes de los parámetros, también puede ser que un parámetro no sea importante en absoluto`. Suele ser bueno probar primero valores muy extremos, para ver si hay algún cambio en la precisión como resultado de cambiar un parámetro. El segundo panel muestra un patrón de rayas verticales. Esto indica que sólo el ajuste del parámetro `gamma` hace alguna diferencia. Esto podría significar que el parámetro `gamma busca valores interesantes, pero el parámetro C no lo hace, o podría significar que el parámetro C no es importante`.\n",
    "\n",
    "- El tercer panel muestra cambios tanto en C como en gamma. Sin embargo, podemos ver que en toda la toda la parte inferior izquierda del gráfico, no ocurre nada interesante. Probablemente podemos excluir los valores muy pequeños de las futuras búsquedas en la red. `La configuración óptima de los parámetros está en la parte superior derecha`. `Como el óptimo está en el borde del gráfico, podemos esperar que puede haber valores aún mejores más allá de este límite, y podríamos cambiar nuestro rango de búsqueda para incluir más parámetros en esta región`. Ajustar la red de parámetros basándose en las puntuaciones de validación cruzada es perfectamente correcto, y una buena manera de explorar la importancia de los diferentes parámetros. Sin embargo, `no debería probar diferentes rangos de parámetros en el conjunto de pruebas final`, ya que, como hemos dicho antes, `la evaluación del conjunto de pruebas sólo debería realizarse una vez que sepamos exactamente qué modelo queremos utilizar`."
   ]
  },
  {
   "cell_type": "markdown",
   "metadata": {},
   "source": [
    "### Paralelización de la validación cruzada y la búsqueda en red"
   ]
  },
  {
   "cell_type": "markdown",
   "metadata": {},
   "source": [
    "- Si bien la ejecución de una búsqueda en red sobre muchos parámetros y en grandes conjuntos de datos puede ser computacionalmente un reto, pero también es un paralelismo tediosos. Esto significa que la construcción de un modelo utilizando un ajuste de parámetros particular en una división de validación cruzada particular puede hacerse con total independencia de los demás ajustes de parámetros y modelos. `Esto hace que la búsqueda en red y la validación cruzada sean candidatas ideales para la paralelización en múltiples núcleos de CPU o en un clúster`. Se puede hacer uso de múltiples núcleos en `GridSearchCV` y `cross_validation` estableciendo el parámetro `n_jobs con el número de núcleos de CPU que desee utilizar`. `Puede establecer n_jobs=-1 para utilizar todos los núcleos disponibles`.\n",
    "\n",
    "- Debe tener en cuenta que `scikit-learn` no permite el anidamiento de operaciones paralelas. Por lo tanto, si está utilizando la opción `n_jobs` en su modelo (por ejemplo, `random forest`), no puede utilizarla en `GridSearchCV` para buscar sobre este modelo. Si su conjunto de datos y su modelo son muy grandes, puede ser que el uso de muchos núcleos consuma demasiada memoria, y deberías controlar el uso de la memoria cuando construyas modelos grandes en paralelo. `También es posible paralelizar la búsqueda en red y la validación cruzada en varias máquinas en un clúster`. Sin embargo, es posible utilizar el marco paralelo de `IPython` para las búsquedas paralelas de la red, también puede `escribir el bucle for sobre los parámetros como lo hicimos en \"Búsqueda simple en la red\"`. **`Para los usuarios de Spark, también existe el paquete spark-sklearn, recientemente desarrollado, que permite ejecutar una búsqueda grid sobre un cluster Spark ya establecido`**."
   ]
  },
  {
   "cell_type": "markdown",
   "metadata": {},
   "source": [
    "## Métricas de evaluación y scoring"
   ]
  },
  {
   "cell_type": "markdown",
   "metadata": {},
   "source": [
    "- Hasta ahora, hemos evaluado el rendimiento de la clasificación utilizando la precisión (la fracción de muestras correctamente clasificadas) y el rendimiento de la regresión mediante el $R^2$. Sin embargo, éstas son sólo dos de las muchas formas posibles de resumir la eficacia de un modelo supervisado en un conjunto de datos determinado. `En la práctica, estas métricas de evaluación pueden no ser apropiadas para su aplicación, y es importante elegir la métrica correcta cuando se selecciona entre modelos y se ajustan los parámetros`."
   ]
  },
  {
   "cell_type": "markdown",
   "metadata": {},
   "source": [
    "### Tenga en cuenta el objetivo final"
   ]
  },
  {
   "cell_type": "markdown",
   "metadata": {},
   "source": [
    "- Al seleccionar una métrica, siempre hay que tener en cuenta el objetivo final de la aplicación de aprendizaje automático. En la práctica, normalmente nos interesa no sólo hacer predicciones precisas, sino que utilizar estas predicciones como parte de un proceso de decisiones. `Antes de elegir una métrica de aprendizaje automático, debería pensar en el objetivo de alto nivel de la aplicación, a menudo llamado métrica de negocio`. `Las consecuencias de la elección de un algoritmo concreto para una aplicación de aprendizaje automático se denominan impacto empresarial`. \n",
    "\n",
    "- Puede que el objetivo de alto nivel sea evitar accidentes de tráfico, o reducir el número de ingresos hospitalarios. También podría ser conseguir más usuarios para su sitio web, o que los usuarios gasten más dinero en su tienda. Al elegir un modelo o ajustar los parámetros, `debe elegir el modelo o los valores de los parámetros que influyan más positivamente en la métrica del negocio`. A menudo, esto es difícil, ya que `la evaluación del impacto comercial de un modelo particular puede requerir ponerlo en producción en un sistema de la vida real`.\n",
    "\n",
    "- En las primeras fases de desarrollo, y para ajustar los parámetros, `a menudo es inviable poner los modelos en producción sólo para probarlos, debido a los elevados riesgos empresariales o personales que puede conllevar`. Imagínese que se evalúa la capacidad que tiene un coche autodirigido de evitar a los peatones de un coche, dejándolo circular sin verificarlo primero. Si el modelo es malo, los peatones tendrán problemas. Por lo tanto, a menudo tenemos que encontrar un procedimiento de evaluación alternativo, utilizando una métrica de evaluación que sea más fácil de calcular. Por ejemplo, podríamos probar la `clasificación de imágenes de peatones frente a las de no peatones y medir la precisión`.\n",
    "\n",
    "- Hay que tener en cuenta que esto es sólo un sustituto, y que vale la pena encontrar la métrica más cercana al objetivo original de la empresa, que sea factible de evaluar. Esta métrica más cercana debe utilizarse siempre que sea posible para la evaluación y selección de modelos. `El resultado de esta evaluación puede no ser un solo número - consecuencia de su algoritmo puede ser que tenga un 10% más de clientes, pero que cada cliente gaste un 15% menos - pero debería capturar el impacto empresarial esperado de la elección de un modelo en lugar de otro.` En esta sección, primero discutiremos las métricas para el importante caso especial de la clasificación binaria, y luego pasaremos a la clasificación multiclase, y por último, a la regresión."
   ]
  },
  {
   "cell_type": "markdown",
   "metadata": {},
   "source": [
    "### Métricas para la clasificación binaria"
   ]
  },
  {
   "cell_type": "markdown",
   "metadata": {},
   "source": [
    "- La clasificación binaria es probablemente la aplicación más común y conceptualmente simple de aprendizaje automático en la práctica. `Sin embargo, todavía hay una serie de advertencias en evaluar incluso esta sencilla tarea`. Antes de entrar en las métricas alternativas, echemos un vistazo a la forma en que se mide la precisión, la cual puede ser engañosa. Recordemos que para la clasificación binaria, a menudo hablamos de una `clase positiva` y una `clase negativa`, entendiendo que la clase positiva es la que estamos buscando. "
   ]
  },
  {
   "cell_type": "markdown",
   "metadata": {},
   "source": [
    "**`Tipos de errores`**"
   ]
  },
  {
   "cell_type": "markdown",
   "metadata": {},
   "source": [
    "- A menudo, la precisión (`accuracy`), la cual divide el número de predicciones correctas por el número total de predicciones, no es una buena medida del rendimiento predictivo, ya que el número de errores que cometemos no contiene toda la información que nos interesa. `Imagine una aplicación para la detección temprana del cáncer mediante una prueba automatizada. Si la prueba es negativa, el paciente se considerará sano, mientras que si la prueba es positiva, el paciente se someterá a un examen adicional`. En este caso, llamaríamos `clase positiva` a una prueba positiva (un indicio de cáncer), y `clase negativa` a una prueba negativa. `No podemos suponer que nuestro modelo funcione siempre a la perfección, este cometerá errores`. Para cualquier aplicación, tenemos que preguntarnos cuáles son las consecuencias de estos errores en el mundo real.\n",
    "\n",
    "- Un posible error es que un `paciente sano sea clasificado como positivo`, lo que lleva a pruebas adicionales. Esto conlleva algunos costes y una molestia para el paciente (y posiblemente angustia mental). Una `predicción positiva incorrecta se denomina falso positivo`.  Otro error posible es que un `paciente enfermo sea clasificado como negativo`, y no reciba más pruebas ni tratamiento. **`El cáncer no diagnosticado podría dar lugar a graves problemas de salud, e incluso podría ser mortal`**. Un error de este tipo - una `predicción negativa incorrecta se denomina falso negativo`. En estadística, un `falso positivo también se conoce como error de tipo I`, y un `falso negativo como error de tipo II`. Nos ceñiremos a los términos `\"falso negativo\" y \"falso positivo\"`, ya que son más explícitos y fáciles de recordar. En el ejemplo del diagnóstico de cáncer, está claro que `queremos evitar los falsos negativos` en la medida de lo posible, `mientras que los falsos positivos pueden ser un problema, pueden considerarse más bien una molestia menor`.\n",
    "\n",
    "- Aunque este es un ejemplo especialmente drástico, `las consecuencias de los falsos positivos y los falsos negativos no suelen ser las mismas`. En las `aplicaciones comerciales, podría ser posible asignar valores en dólares a ambos tipos de errores, lo que permitiría medir el error de una predicción concreta en dólares, en lugar de en precisión`. Esto podría ser mucho más significativo para tomar decisiones comerciales sobre qué modelo utilizar."
   ]
  },
  {
   "cell_type": "markdown",
   "metadata": {},
   "source": [
    "### Conjuntos de datos desequilibrados"
   ]
  },
  {
   "cell_type": "markdown",
   "metadata": {},
   "source": [
    "- Los tipos de errores desempeñan un papel importante cuando una de las dos clases es mucho más frecuente que la otra. Esto es muy común en la práctica; un buen ejemplo es la predicción de `clicks`, en la que cada punto de datos representa una \"impresión\", es decir, un elemento que se ha mostrado a un usuario. Este elemento puede ser un anuncio, una historia relacionada o una persona relacionada a la que seguir en las redes sociales. El objetivo es, si se muestra un elemento concreto, predecir si un usuario hará click en él (indicando que está interesado). La mayoría de las cosas que se muestran a los usuarios en Internet (en particular, los anuncios) no darán lugar a un click. Es posible que tenga que mostrar a un usuario 100 anuncios o artículos antes de que encuentre algo lo suficientemente interesante como para hacer click. \n",
    "\n",
    "- Esto da lugar a un conjunto de datos en el que, por cada 99 puntos de datos \"no click\", hay 1 punto de datos \"con click\". `En otras palabras, el 99% de las muestras pertenecen a la clase \"no click\"`. **`Conjuntos de datos en los que una clase es mucho más frecuente que la otra se denominan conjuntos de datos con clases desequilibradas`**. En realidad, los datos desequilibrados son la norma, y `es raro que los eventos de interés tengan una frecuencia igual o incluso similar en los datos`. Supongamos que construimos un clasificador que tiene una precisión del 99% en la tarea de predicción de clicks. ¿Qué nos dice esto? `Un 99% de precisión suena impresionante, pero este no toma en cuenta el desequilibrio de clases`.\n",
    "\n",
    "- Se puede conseguir un 99% de precisión sin construir un modelo de aprendizaje automático, prediciendo siempre \"no click\". Por otro lado, incluso con datos desequilibrados, un modelo con un 99% de precisión podría ser bastante bueno. Sin embargo, `la precisión no nos permite distinguir el modelo constante \"no click\" de un modelo potencialmente bueno`. Para ilustrarlo, crearemos un conjunto de datos desequilibrados 9:1 a partir del conjunto de datos `digits`, clasificando el dígito 9 contra las otras nueve clases."
   ]
  },
  {
   "cell_type": "code",
   "execution_count": 31,
   "metadata": {},
   "outputs": [],
   "source": [
    "from sklearn.datasets import load_digits\n",
    "from sklearn.model_selection import train_test_split"
   ]
  },
  {
   "cell_type": "code",
   "execution_count": 32,
   "metadata": {},
   "outputs": [],
   "source": [
    "digits = load_digits()"
   ]
  },
  {
   "cell_type": "code",
   "execution_count": 33,
   "metadata": {},
   "outputs": [
    {
     "name": "stdout",
     "output_type": "stream",
     "text": [
      "Data shape:  (1797, 64) ; Target shape (1797,)\n"
     ]
    }
   ],
   "source": [
    "print(\"Data shape: \", digits.data.shape, \"; Target shape\", digits.target.shape)"
   ]
  },
  {
   "cell_type": "code",
   "execution_count": 34,
   "metadata": {},
   "outputs": [
    {
     "data": {
      "text/plain": [
       "array([0, 1, 2, 3, 4, 5, 6, 7, 8, 9])"
      ]
     },
     "execution_count": 34,
     "metadata": {},
     "output_type": "execute_result"
    }
   ],
   "source": [
    "np.unique(digits.target)"
   ]
  },
  {
   "cell_type": "code",
   "execution_count": 35,
   "metadata": {},
   "outputs": [
    {
     "data": {
      "text/plain": [
       "array([ 0.,  1.,  2.,  3.,  4.,  5.,  6.,  7.,  8.,  9., 10., 11., 12.,\n",
       "       13., 14., 15., 16.])"
      ]
     },
     "execution_count": 35,
     "metadata": {},
     "output_type": "execute_result"
    }
   ],
   "source": [
    "np.unique(digits.data)"
   ]
  },
  {
   "cell_type": "code",
   "execution_count": 36,
   "metadata": {},
   "outputs": [],
   "source": [
    "y = digits.target == 9 # Boolean\n",
    "X_train, X_test, y_train, y_test = train_test_split(digits.data, y, random_state=0)"
   ]
  },
  {
   "cell_type": "markdown",
   "metadata": {},
   "source": [
    "- Podemos utilizar `DummyClassifier` para predecir siempre la clase mayoritaria (aquí \"not nine\") `para ver lo poco informativa que puede ser el (accuracy)`"
   ]
  },
  {
   "cell_type": "code",
   "execution_count": 37,
   "metadata": {},
   "outputs": [],
   "source": [
    "from sklearn.dummy import DummyClassifier\n",
    "import numpy as np"
   ]
  },
  {
   "cell_type": "code",
   "execution_count": 38,
   "metadata": {},
   "outputs": [
    {
     "name": "stdout",
     "output_type": "stream",
     "text": [
      "Unique predicted labels: [False]\n",
      "Test score: 0.90\n"
     ]
    }
   ],
   "source": [
    "dummy_majority = DummyClassifier(strategy='most_frequent').fit(X_train, y_train)\n",
    "pred_most_frequent = dummy_majority.predict(X_test)\n",
    "print(\"Unique predicted labels: {}\".format(np.unique(pred_most_frequent)))\n",
    "print(\"Test score: {:.2f}\".format(dummy_majority.score(X_test, y_test)))"
   ]
  },
  {
   "cell_type": "markdown",
   "metadata": {},
   "source": [
    "- Obtuvimos una precisión cercana al 90% sin aprender nada. Esto puede parecer sorprendente, pero pero piénselo un momento. `Imagine que alguien le dice que su modelo tiene un 90% de precisión. Podrías pensar que han hecho un buen trabajo. Pero dependiendo del problema, ¡eso podría ser posible con sólo predecir una clase! Comparemos esto con el uso de un clasificador real`."
   ]
  },
  {
   "cell_type": "code",
   "execution_count": 39,
   "metadata": {},
   "outputs": [],
   "source": [
    "from sklearn.tree import DecisionTreeClassifier"
   ]
  },
  {
   "cell_type": "code",
   "execution_count": 40,
   "metadata": {},
   "outputs": [
    {
     "name": "stdout",
     "output_type": "stream",
     "text": [
      "Test score: 0.92\n"
     ]
    }
   ],
   "source": [
    "tree = DecisionTreeClassifier(max_depth=2).fit(X_train, y_train)\n",
    "pred_tree = tree.predict(X_test)\n",
    "print(\"Test score: {:.2f}\".format(tree.score(X_test, y_test)))"
   ]
  },
  {
   "cell_type": "markdown",
   "metadata": {},
   "source": [
    "- Según la precisión, el `DecisionTreeClassifier es sólo ligeramente mejor que el predictor constante. Esto podría indicar que algo está mal en la forma en que utilizamos DecisionTreeClassifier, o bien que accuracy no es una buena medida en este caso`. Para comparar, evaluemos otro clasificador, `LogisticRegression`"
   ]
  },
  {
   "cell_type": "code",
   "execution_count": 41,
   "metadata": {},
   "outputs": [],
   "source": [
    "from sklearn.linear_model import LogisticRegression"
   ]
  },
  {
   "cell_type": "code",
   "execution_count": 42,
   "metadata": {},
   "outputs": [
    {
     "name": "stdout",
     "output_type": "stream",
     "text": [
      "logreg score: 0.98\n"
     ]
    }
   ],
   "source": [
    "logreg = LogisticRegression(C=0.1).fit(X_train, y_train)\n",
    "pred_logreg = logreg.predict(X_test)\n",
    "print(\"logreg score: {:.2f}\".format(logreg.score(X_test, y_test)))"
   ]
  },
  {
   "cell_type": "markdown",
   "metadata": {},
   "source": [
    "- El clasificador `dummy` que produce resultados aleatorios es claramente el peor de todos (según su `accuracy`), mientras que `LogisticRegression` produce muy buenos resultados. Esto hace que sea muy difícil juzgar cuál de estos resultados es realmente útil. El problema es que accuracy es una medida inadecuada para cuantificar el rendimiento predictivo en este entorno desequilibrado. `En el resto de este capítulo, exploraremos métricas alternativas que proporcionen una mejor orientación en la selección de modelos`. En particular, nos gustaría disponer de métricas que nos digan cuán mejor es un modelo, en vez de hacer predicciones \"más frecuentes\" o predicciones aleatorias, como se calculan en `pred_most_frequent`. `Si utilizamos una métrica adecuada para evaluar nuestros modelos, debería ser capaz de eliminar estas predicciones sin sentido`."
   ]
  },
  {
   "cell_type": "markdown",
   "metadata": {},
   "source": [
    "### Matrices de confusión"
   ]
  },
  {
   "cell_type": "markdown",
   "metadata": {},
   "source": [
    "- Una de las formas más completas de representar el resultado de la evaluación de la clasificación binaria es el uso de `matrices de confusión`. Inspeccionemos las predicciones de `LogisticRegres` de la sección anterior utilizando la función `confusion_matrix`. Ya hemos almacenado las predicciones del conjunto de prueba en `pred_logreg`"
   ]
  },
  {
   "cell_type": "code",
   "execution_count": 43,
   "metadata": {},
   "outputs": [],
   "source": [
    "from sklearn.metrics import confusion_matrix"
   ]
  },
  {
   "cell_type": "code",
   "execution_count": 44,
   "metadata": {},
   "outputs": [
    {
     "name": "stdout",
     "output_type": "stream",
     "text": [
      "Confusion matrix:\n",
      "[[402   1]\n",
      " [  6  41]]\n"
     ]
    }
   ],
   "source": [
    "confusion = confusion_matrix(y_test, pred_logreg)\n",
    "print(\"Confusion matrix:\\n{}\".format(confusion))"
   ]
  },
  {
   "cell_type": "markdown",
   "metadata": {},
   "source": [
    "- La salida de `confusion_matrix` es una `matriz de dos por dos, donde las filas corresponden a las clases verdaderas y las columnas corresponden a las clases predichas`. Cada entrada cuenta la frecuencia con la que una muestra que pertenece a la clase correspondiente a la fila (aquí \"not nine\" y \"nine\") fue clasificada como la clase correspondiente a la columna."
   ]
  },
  {
   "cell_type": "code",
   "execution_count": 45,
   "metadata": {},
   "outputs": [
    {
     "data": {
      "image/png": "[encoded data removed]",
      "text/plain": [
       "<Figure size 576x576 with 1 Axes>"
      ]
     },
     "metadata": {
      "needs_background": "light"
     },
     "output_type": "display_data"
    }
   ],
   "source": [
    "mglearn.plots.plot_confusion_matrix_illustration()"
   ]
  },
  {
   "cell_type": "markdown",
   "metadata": {},
   "source": [
    "- Las entradas de la `diagonal principal de la matriz de confusión corresponden a las clasificaciones correctas, mientras que las demás entradas nos indican cuántas muestras se han clasificado erróneamente en una clase`. Si declaramos que \"nine\" es la clase positiva, podemos relacionar las entradas de la matriz de confusión con los términos `falso positivo y falso negativo` que hemos introducido anteriormente. Para completar el cuadro, llamamos `verdaderos positivos a las muestras correctamente clasificadas que pertenecen a la clase positiva y verdaderos negativos a las muestras correctamente clasificadas que pertenecen a la clase negativa. Estos términos suelen abreviarse como` **FP, FN, TP y TN**, y conducen a la siguiente interpretación de la matriz de confusión"
   ]
  },
  {
   "cell_type": "code",
   "execution_count": 46,
   "metadata": {},
   "outputs": [
    {
     "data": {
      "image/png": "[encoded data removed]",
      "text/plain": [
       "<Figure size 432x288 with 1 Axes>"
      ]
     },
     "metadata": {
      "needs_background": "light"
     },
     "output_type": "display_data"
    }
   ],
   "source": [
    "mglearn.plots.plot_binary_confusion_matrix()"
   ]
  },
  {
   "cell_type": "markdown",
   "metadata": {},
   "source": [
    "- Ahora utilicemos la `matriz de confusión` para comparar los modelos que hemos ajustado antes (los dos modelos `dummy, árbol de decisión y regresión logística`)"
   ]
  },
  {
   "cell_type": "code",
   "execution_count": 47,
   "metadata": {},
   "outputs": [
    {
     "name": "stdout",
     "output_type": "stream",
     "text": [
      "\n",
      "Dummy model:\n",
      "[[403   0]\n",
      " [ 47   0]]\n"
     ]
    }
   ],
   "source": [
    "print(\"\\nDummy model:\")\n",
    "print(confusion_matrix(y_test, pred_most_frequent))"
   ]
  },
  {
   "cell_type": "code",
   "execution_count": 48,
   "metadata": {},
   "outputs": [
    {
     "name": "stdout",
     "output_type": "stream",
     "text": [
      "\n",
      "Decision tree:\n",
      "[[390  13]\n",
      " [ 24  23]]\n"
     ]
    }
   ],
   "source": [
    "print(\"\\nDecision tree:\")\n",
    "print(confusion_matrix(y_test, pred_tree))"
   ]
  },
  {
   "cell_type": "code",
   "execution_count": 49,
   "metadata": {},
   "outputs": [
    {
     "name": "stdout",
     "output_type": "stream",
     "text": [
      "\n",
      "Logistic Regression\n",
      "[[402   1]\n",
      " [  6  41]]\n"
     ]
    }
   ],
   "source": [
    "print(\"\\nLogistic Regression\")\n",
    "print(confusion_matrix(y_test, pred_logreg))"
   ]
  },
  {
   "cell_type": "markdown",
   "metadata": {},
   "source": [
    "- Si se observa la matriz de confusión, está claro que algo va mal con `pred_most_frequent` porque siempre predice la misma clase, tiene cero verdaderos y falsos positivos (0). `Las predicciones realizadas por el árbol de decisión tienen mucho más sentido que las predicciones dummy, aunque el accuracy era casi el misma`. Por último, podemos ver que la regresión logística es mejor que `pred_tree` en todos los aspectos: tiene más verdaderos positivos y verdaderos negativos, mientras que tiene menos falsos positivos y falsos negativos. `De esta comparación se desprende que, sólo el árbol de decisión y la regresión logística dan resultados razonables, y que la regresión logística funciona mejor que el árbol en todos los aspectos`. Sin embargo, la inspección de la matriz de confusión completa es un poco acumulativa, y aunque obtuvimos mucha información al observar todos los aspectos de la matriz, `el proceso fue muy manual y cualitativo`. Hay varias formas de resumir la información de la matriz de confusión, las cuales discutiremos a continuación."
   ]
  },
  {
   "cell_type": "markdown",
   "metadata": {},
   "source": [
    "```{admonition} Accuracy\n",
    ":class: tip\n",
    "\n",
    "Ya vimos una forma de resumir el resultado en la `matriz de confusión`, calculando su `accuracy`, que puede expresarse como\n",
    "\n",
    "$$\n",
    "\\text{Accuracy}=\\frac{TP+TN}{TP+TN+FP+FN}.\n",
    "$$\n",
    "\n",
    "En otras palabras, el `accuracy es el número de predicciones correctas (TP y TN) dividido por el número de todas las muestras` (todas las entradas de la matriz de confusión sumadas).\n",
    "```"
   ]
  },
  {
   "cell_type": "markdown",
   "metadata": {},
   "source": [
    "- `Precision, recall y f-score`. Hay otras formas de resumir la matriz de confusión, siendo las más comunes: `precision, recall y f-score`."
   ]
  },
  {
   "cell_type": "markdown",
   "metadata": {},
   "source": [
    "```{admonition} Precision\n",
    ":class: tip\n",
    "\n",
    "`Precision` mide cuántas de las muestras predichas como positivas son realmente positivas, es decir, `precision` intenta responder a la siguiente pregunta: ¿qué proporción de identificaciones positivas fue correcta?\n",
    "\n",
    "$$\n",
    "\\text{Precision} = \\frac{TP}{TP+FP} \n",
    "$$\n",
    "\n",
    "`Precision` se utiliza como métrica de rendimiento cuando el objetivo es limitar el número de falsos positivos. \n",
    "```"
   ]
  },
  {
   "cell_type": "markdown",
   "metadata": {},
   "source": [
    "- Como ejemplo, imaginemos un modelo para predecir si un nuevo medicamento será eficaz en el tratamiento de una enfermedad en los ensayos clínicos. `Los ensayos clínicos son notoriamente caros, y una empresa farmacéutica sólo querrá realizar un experimento si está muy seguro de que el fármaco funcionará realmente. Por lo tanto, es importante que el modelo no produzca muchos falsos positivos`, es decir, que tenga `precision` alto. `Precision` `también se conoce como valor predictivo positivo (VPP)`. Nótese que: $FP\\rightarrow0$ cuando $\\text{Precision}\\rightarrow1$ y viceversa; similarmente, $FN\\rightarrow0$ cuando $\\text{Recall}\\rightarrow1$ y viceversa."
   ]
  },
  {
   "cell_type": "markdown",
   "metadata": {},
   "source": [
    "```{admonition} Recall\n",
    ":class: tip\n",
    "\n",
    "El `recall` mide cuántas de las muestras de la clase positiva son realmente predichas positivas, es decir, `recall` intenta responder a la siguiente pregunta: ¿qué proporción de positivos reales se identificó en forma correcta?\n",
    "\n",
    "$$\n",
    "\\text{Recall} = \\frac{TP}{TP+FN} \n",
    "$$\n",
    "\n",
    "`Recall` se utiliza como métrica de rendimiento cuando el objetivo es limitar el número de falsos negativos.\n",
    "```"
   ]
  },
  {
   "cell_type": "markdown",
   "metadata": {},
   "source": [
    "- Existe un equilibrio entre la optimización del `recall` y el `precision`. Se puede obtener de forma sencilla, una recuperación perfecta si se predice que todas las muestras pertenecen a la clase positiva. Si se predice que todas las muestras pertenecen a la clase positiva, no habrá falsos negativos ni verdaderos negativos. Sin embargo, predecir todas las muestras como positivas, dará lugar a muchos falsos positivos y, por lo tanto, su `precision` será muy baja. Por otro lado, si se encuentra un modelo que predice sólo el punto de datos del que se está más seguro como positivo y el resto como negativo, entonces `precision` será perfecto (suponiendo que este punto de datos sea de hecho positivo), pero el `recall` será muy malo."
   ]
  },
  {
   "cell_type": "markdown",
   "metadata": {},
   "source": [
    "```{admonition} Observación\n",
    ":class: tip\n",
    "\n",
    "`Precision` y `recall` son sólo dos de las muchas medidas de clasificación derivadas de `TP, FP, TN y FN`. Puede encontrar un gran resumen de todas las medidas en [Sensitivity_and_specificity](https://en.wikipedia.org/wiki/Sensitivity_and_specificity). En la comunidad del aprendizaje automático, `precision` y `recall` son las medidas más utilizadas para la clasificación binaria, aunque pueden utilizar otras métricas relacionadas.\n",
    "```"
   ]
  },
  {
   "cell_type": "markdown",
   "metadata": {},
   "source": [
    "```{admonition} $f_{1}$-score\n",
    ":class: tip\n",
    "\n",
    "Por lo tanto, aunque `precision` y `recall` sean medidas muy importantes, si sólo se tiene en cuenta una de ellas no se obtiene una visión completa. Una forma de resumirlas es usando el `f-score o f-measure`, que es la `media armónica entre precision y recall`:\n",
    "\n",
    "$$\n",
    "F=2\\cdot\\frac{\\text{precision}\\cdot\\text{recall}}{\\text{precision}+\\text{recall}}.\n",
    "$$\n",
    "\n",
    "Esta variante concreta también se conoce como $f_{1}$-score.\n",
    "```"
   ]
  },
  {
   "cell_type": "markdown",
   "metadata": {},
   "source": [
    "- Como tiene en cuenta a `precision` (precisión) y `recall` (recuperación) el $f_{1}$-score puede ser una medida mejor que `accuracy` (exactitud) en conjuntos de datos de clasificación binaria desequilibrados. Vamos a aplicarlo a las predicciones del conjunto de datos \"nine vs. rest\" que hemos calculado antes. En este caso, supondremos que la clase \"nine\" es la clase positiva (está etiquetada como `True` mientras que el resto está etiquetado como `False`), por lo que la clase positiva es la clase minoritaria."
   ]
  },
  {
   "cell_type": "code",
   "execution_count": 50,
   "metadata": {},
   "outputs": [],
   "source": [
    "from sklearn.metrics import f1_score"
   ]
  },
  {
   "cell_type": "code",
   "execution_count": 51,
   "metadata": {},
   "outputs": [
    {
     "name": "stdout",
     "output_type": "stream",
     "text": [
      "f1 score dummy: 0.00\n"
     ]
    }
   ],
   "source": [
    "print(\"f1 score dummy: {:.2f}\".format(f1_score(y_test, pred_most_frequent)))"
   ]
  },
  {
   "cell_type": "code",
   "execution_count": 52,
   "metadata": {},
   "outputs": [
    {
     "name": "stdout",
     "output_type": "stream",
     "text": [
      "f1 score tree: 0.55\n"
     ]
    }
   ],
   "source": [
    "print(\"f1 score tree: {:.2f}\".format(f1_score(y_test, pred_tree)))"
   ]
  },
  {
   "cell_type": "code",
   "execution_count": 53,
   "metadata": {},
   "outputs": [
    {
     "name": "stdout",
     "output_type": "stream",
     "text": [
      "f1 score logistic regression: 0.92\n"
     ]
    }
   ],
   "source": [
    "print(\"f1 score logistic regression: {:.2f}\".format(f1_score(y_test, pred_logreg)))"
   ]
  },
  {
   "cell_type": "markdown",
   "metadata": {},
   "source": [
    "- Podemos ver una distinción bastante fuerte entre las predicciones dummy y las predicciones del árbol, lo que no estaba claro cuando se miraba `accuracy` por sí sola. Utilizando $f$-score para la evaluación, resumimos el rendimiento predictivo de nuevo en un número. `Sin embargo,` $f$`-score parece captar nuestra intuición de lo que es un buen modelo mucho mejor que el accuracy`. \n",
    "\n",
    "- Sin embargo, una desventaja del $f$-score es que es más difícil de interpretar y explicar que accuracy. Si queremos un resumen más completo de `precision`, `recall` y $f_{1}$-score, podemos utilizar la función de conveniencia `classification_report` para calcular los tres a la vez e imprimirlos en un formato agradable. Las dos últimas filas corresponden a `macro avg` que da a cada predicción un peso similar al calcular la pérdida, pero para datos desequilibrados como lo es este caso, se quiera dar más importancia a alguna predicción en función de su proporción, en ese caso se utiliza la `weighted avg`. Para mas información acerca del uso de `classification_report` (ver [sklearn.metrics.classification_report](https://scikit-learn.org/stable/modules/generated/sklearn.metrics.classification_report.html))."
   ]
  },
  {
   "cell_type": "code",
   "execution_count": 54,
   "metadata": {},
   "outputs": [],
   "source": [
    "from sklearn.metrics import classification_report"
   ]
  },
  {
   "cell_type": "code",
   "execution_count": 55,
   "metadata": {},
   "outputs": [
    {
     "name": "stdout",
     "output_type": "stream",
     "text": [
      "              precision    recall  f1-score   support\n",
      "\n",
      "    not nine       0.90      1.00      0.94       403\n",
      "        nine       0.00      0.00      0.00        47\n",
      "\n",
      "    accuracy                           0.90       450\n",
      "   macro avg       0.45      0.50      0.47       450\n",
      "weighted avg       0.80      0.90      0.85       450\n",
      "\n"
     ]
    }
   ],
   "source": [
    "print(classification_report(y_test, pred_most_frequent, target_names=[\"not nine\", \"nine\"]))"
   ]
  },
  {
   "cell_type": "markdown",
   "metadata": {},
   "source": [
    "- La función `classification_report` produce una línea por clase (aquí, `True` y `False`) e informa `precision, recall` y $f$`-score`. Si consideramos la clase positiva por \"not nine\", podemos ver en la salida de `classification_report` que obtenemos un $f$-score de 0.94 con el modelo `dummy`. Además, para la clase \"not nine\" tenemos un `recall` de 1, ya que clasificamos todas las muestras como \"not nine\".\n",
    "\n",
    "- La última columna junto al $f$-score proporciona el soporte de cada clase, lo que significa simplemente el número de muestras en esta clase según la verdad básica. La última fila del informe de clasificación muestra una media ponderada (por el número de muestras en la clase) de los números de cada clase. Aquí hay dos informes más, uno para el clasificador `arbol de decisión` y otro para la `regresión logística`"
   ]
  },
  {
   "cell_type": "code",
   "execution_count": 56,
   "metadata": {},
   "outputs": [
    {
     "name": "stdout",
     "output_type": "stream",
     "text": [
      "              precision    recall  f1-score   support\n",
      "\n",
      "    not nine       0.94      0.97      0.95       403\n",
      "        nine       0.64      0.49      0.55        47\n",
      "\n",
      "    accuracy                           0.92       450\n",
      "   macro avg       0.79      0.73      0.75       450\n",
      "weighted avg       0.91      0.92      0.91       450\n",
      "\n"
     ]
    }
   ],
   "source": [
    "print(classification_report(y_test, pred_tree, target_names=[\"not nine\", \"nine\"]))"
   ]
  },
  {
   "cell_type": "code",
   "execution_count": 57,
   "metadata": {},
   "outputs": [
    {
     "name": "stdout",
     "output_type": "stream",
     "text": [
      "              precision    recall  f1-score   support\n",
      "\n",
      "    not nine       0.99      1.00      0.99       403\n",
      "        nine       0.98      0.87      0.92        47\n",
      "\n",
      "    accuracy                           0.98       450\n",
      "   macro avg       0.98      0.93      0.96       450\n",
      "weighted avg       0.98      0.98      0.98       450\n",
      "\n"
     ]
    }
   ],
   "source": [
    "print(classification_report(y_test, pred_logreg, target_names=[\"not nine\", \"nine\"]))"
   ]
  },
  {
   "cell_type": "markdown",
   "metadata": {},
   "source": [
    "- Como puede observar al mirar los informes, las diferencias entre los modelos `dummy` y un modelo muy bueno ya no son tan claras. La elección de la clase que se declarada como clase positiva, tiene un gran impacto en las métricas. Mientras que el $f$-score de la clasificación `dummy` es de 0.13 (frente a 0.89 para la `regresión logística`) en la clase \"nine\" es de 0.90 frente a 0.99, lo que parece un resultado razonable. Sin embargo, si se observan todas las cifras juntas, se obtiene una imagen bastante precisa, y podemos ver claramente la superioridad de la regresión logística."
   ]
  },
  {
   "cell_type": "markdown",
   "metadata": {},
   "source": [
    "## Curvas precision-recall y ROC"
   ]
  },
  {
   "cell_type": "markdown",
   "metadata": {},
   "source": [
    "- Como acabamos de comentar, cambiar el umbral que se utiliza para tomar una decisión de clasificación en un modelo es una forma de ajustar el equilibrio entre `precision` y `recall` para una clase determinada. Tal vez quiera fallar menos del 10% de las muestras positivas, lo que significa un `recall` deseado del 90%. `Esta decisión depende de la aplicación, y debe ser impulsada por objetivos empresariales`. Una vez que se ha establecido un objetivo concreto por ejemplo, un valor de `recall` o de `precision` para una clase, se puede establecer un umbral adecuado. Siempre es posible establecer un umbral para cumplir un objetivo concreto, como el 90% de `recall`. Lo difícil es desarrollar un modelo que siga teniendo una precisión razonable con este umbral: si clasifica todo como como positivo, tendrá un `recall` del 100%, pero su modelo será inútil. `Establecer un requisito para un clasificador, como el 90% de recall, suele denominarse establecer el punto operativo`.\n",
    "\n",
    "- La fijación de un `punto operativo` suele ser útil en el ámbito empresarial para ofrecer garantías de rendimiento a los clientes o a otros grupos de la organización. A menudo, cuando se desarrolla un nuevo modelo, no está del todo claro cuál será el `punto operativo`. Por esta razón, y para entender mejor un problema de modelamiento, es instructivo examinar todos los umbrales posibles, o todas las compensaciones posibles de `precision-recall` una vez. `Esto es posible gracias a una herramienta llamada curva precision-recall`. Puede encontrar la función para calcular la curva `precision-recall en el módulo sklearn.metrics`. Esta necesita el etiquetado real y las incertidumbres predichas, creadas a través de `decision_function` o `predict_proba`"
   ]
  },
  {
   "cell_type": "code",
   "execution_count": 58,
   "metadata": {},
   "outputs": [],
   "source": [
    "from sklearn.metrics import precision_recall_curve\n",
    "from mglearn.datasets import make_blobs"
   ]
  },
  {
   "cell_type": "code",
   "execution_count": 59,
   "metadata": {},
   "outputs": [],
   "source": [
    "X, y = make_blobs(n_samples=(400, 50), centers=2, cluster_std=[7.0, 2], random_state=22)\n",
    "X_train, X_test, y_train, y_test = train_test_split(X, y, random_state=0)\n",
    "svc = SVC(gamma=.05).fit(X_train, y_train)"
   ]
  },
  {
   "cell_type": "code",
   "execution_count": 60,
   "metadata": {},
   "outputs": [
    {
     "name": "stdout",
     "output_type": "stream",
     "text": [
      "              precision    recall  f1-score   support\n",
      "\n",
      "           0       0.97      0.89      0.93       104\n",
      "           1       0.35      0.67      0.46         9\n",
      "\n",
      "    accuracy                           0.88       113\n",
      "   macro avg       0.66      0.78      0.70       113\n",
      "weighted avg       0.92      0.88      0.89       113\n",
      "\n"
     ]
    }
   ],
   "source": [
    "print(classification_report(y_test, svc.predict(X_test)))"
   ]
  },
  {
   "cell_type": "code",
   "execution_count": 61,
   "metadata": {},
   "outputs": [],
   "source": [
    "precision, recall, thresholds = precision_recall_curve(y_test, svc.decision_function(X_test))"
   ]
  },
  {
   "cell_type": "markdown",
   "metadata": {},
   "source": [
    "- La función `precision_recall_curve` devuelve una lista de valores `precision` y `recall` para todos los umbrales posibles (todos los valores que aparecen en la función de decisión) en orden para que podamos trazar una curva, como se ve en la siguiente figura. Puede utilizar más puntos de datos para obtener una curva más suave. Recuerde que `make_blobs` generar blobs gaussianos isotrópicos para la agrupación  (ver [sklearn.datasets.make_blobs](https://scikit-learn.org/stable/modules/generated/sklearn.datasets.make_blobs.html))."
   ]
  },
  {
   "cell_type": "code",
   "execution_count": 62,
   "metadata": {},
   "outputs": [],
   "source": [
    "X, y = make_blobs(n_samples=(4000, 500), centers=2, cluster_std=[7.0, 2], random_state=22)"
   ]
  },
  {
   "cell_type": "code",
   "execution_count": 63,
   "metadata": {},
   "outputs": [],
   "source": [
    "X_train, X_test, y_train, y_test = train_test_split(X, y, random_state=0)"
   ]
  },
  {
   "cell_type": "code",
   "execution_count": 64,
   "metadata": {},
   "outputs": [],
   "source": [
    "svc = SVC(gamma=.05).fit(X_train, y_train)"
   ]
  },
  {
   "cell_type": "code",
   "execution_count": 65,
   "metadata": {},
   "outputs": [],
   "source": [
    "precision, recall, thresholds = precision_recall_curve(y_test, svc.decision_function(X_test))"
   ]
  },
  {
   "cell_type": "markdown",
   "metadata": {},
   "source": [
    "- Encontrar el umbral más cercano a cero"
   ]
  },
  {
   "cell_type": "code",
   "execution_count": 66,
   "metadata": {},
   "outputs": [],
   "source": [
    "close_zero = np.argmin(np.abs(thresholds))"
   ]
  },
  {
   "cell_type": "code",
   "execution_count": 67,
   "metadata": {},
   "outputs": [
    {
     "data": {
      "image/png": "[encoded data removed]",
      "text/plain": [
       "<Figure size 432x288 with 1 Axes>"
      ]
     },
     "metadata": {
      "needs_background": "light"
     },
     "output_type": "display_data"
    }
   ],
   "source": [
    "plt.plot(precision[close_zero], recall[close_zero], 'o', markersize=10, label=\"threshold zero\", fillstyle=\"none\", c='k', mew=2)\n",
    "plt.plot(precision, recall, label=\"precision recall curve\")\n",
    "plt.xlabel(\"Precision\")\n",
    "plt.ylabel(\"Recall\");"
   ]
  },
  {
   "cell_type": "markdown",
   "metadata": {},
   "source": [
    "- Cada punto de la curva corresponde a un posible umbral de la `decision_function`. Podemos ver, por ejemplo, que podemos conseguir un `recall de 0.4` con un `precision de aproximadamente 0.75`. **`El círculo negro marca el punto que corresponde a un umbral de 0, el umbral por defecto de decision_function`**. Este punto es la compensación que se elige al llamar al método `predict`. Cuanto más cerca esté la curva de la esquina superior derecha, mejor será el clasificador. `Un punto en la parte superior derecha significa alto precision y alto recall para el mismo umbral`. \n",
    "\n",
    "- `La curva comienza en la esquina superior izquierda, que corresponde a un umbral muy bajo, clasificando todo como clase positiva`. Al aumentar el umbral, la curva se desplaza hacia un mayor `precision`, pero también hacia un menor `recall`. Aumentando el umbral cada vez más, llegamos a una situación donde los puntos clasificados como positivos son verdaderos positivos, lo que lleva a un `precision` muy alto pero a un `recall` más bajo. Cuanto más se mantenga el modelo en un nivel alto para `precision`, mejor.\n",
    "\n",
    "- Si observamos un poco más esta curva en particular, podemos ver que con este modelo es posible obtener un `precision` de hasta alrededor de 0.5 con un `recall` muy alto. Si queremos un `precision` mucho mayor, tenemos que sacrificar una gran cantidad de `recall`. `En otras palabras, a la izquierda, la curva es relativamente plana, lo que significa que el recall no disminuye mucho cuando necesitamos mayor precision`. Para un precision superior a 0.5, cada ganancia de `precision` nos cuesta mucho `recall`.\n",
    "\n",
    "- Diferentes clasificadores pueden funcionar bien en diferentes partes de la curva, es decir, en `diferentes puntos de operación`. Comparemos el modelo `SVM` que hemos entrenado con un `RandomForestClassifier` entrenado en el mismo conjunto de datos. El `RandomForestClassifier` no tiene una función de decisión, sólo `predict_proba`. La función `precision_recall_curve` espera como segundo argumento una medida de certeza para la clase positiva (clase 1), por lo que pasamos la probabilidad de que una muestra sea de la clase 1, es decir, `rf.predict_proba(X_test)[:, 1]`. El umbral por defecto para `predict_proba` en la clasificación binaria es 0.5, por lo que este es el punto marcado en la curva"
   ]
  },
  {
   "cell_type": "code",
   "execution_count": 68,
   "metadata": {},
   "outputs": [],
   "source": [
    "from sklearn.ensemble import RandomForestClassifier"
   ]
  },
  {
   "cell_type": "code",
   "execution_count": 69,
   "metadata": {},
   "outputs": [
    {
     "data": {
      "text/plain": [
       "RandomForestClassifier(max_features=2, random_state=0)"
      ]
     },
     "execution_count": 69,
     "metadata": {},
     "output_type": "execute_result"
    }
   ],
   "source": [
    "rf = RandomForestClassifier(n_estimators=100, random_state=0, max_features=2)\n",
    "rf.fit(X_train, y_train)"
   ]
  },
  {
   "cell_type": "markdown",
   "metadata": {},
   "source": [
    "- `RandomForestClassifier` tiene `predict_proba`, pero no `decision_function`"
   ]
  },
  {
   "cell_type": "code",
   "execution_count": 70,
   "metadata": {},
   "outputs": [],
   "source": [
    "precision_rf, recall_rf, thresholds_rf = precision_recall_curve(y_test, rf.predict_proba(X_test)[:, 1])"
   ]
  },
  {
   "cell_type": "code",
   "execution_count": 71,
   "metadata": {},
   "outputs": [
    {
     "data": {
      "image/png": "[encoded data removed]",
      "text/plain": [
       "<Figure size 432x288 with 1 Axes>"
      ]
     },
     "metadata": {
      "needs_background": "light"
     },
     "output_type": "display_data"
    }
   ],
   "source": [
    "plt.plot(precision, recall, label=\"svc\")\n",
    "plt.plot(precision[close_zero], recall[close_zero], 'o', \n",
    "         markersize=10, label=\"threshold zero svc\", fillstyle=\"none\", c='k', mew=2)\n",
    "plt.plot(precision_rf, recall_rf, label=\"rf\")\n",
    "\n",
    "close_default_rf = np.argmin(np.abs(thresholds_rf - 0.5))\n",
    "plt.plot(precision_rf[close_default_rf], recall_rf[close_default_rf], '^', c='k',\n",
    "         markersize=10, label=\"threshold 0.5 rf\", fillstyle=\"none\", mew=2)\n",
    "plt.xlabel(\"Precision\")\n",
    "plt.ylabel(\"Recall\")\n",
    "plt.legend(loc=\"best\");"
   ]
  },
  {
   "cell_type": "markdown",
   "metadata": {},
   "source": [
    "- En el gráfico de comparación podemos ver que el bosque aleatorio funciona mejor en los extremos, para requisitos de `recall` o de `precision` muy altos. Alrededor del nivel medio (aproximadamente precision = 0.7), la `SVM` tiene un mejor rendimiento. Si sólo nos fijamos en el $f_{1}$-score para comparar el rendimiento general, habríamos pasado por alto estas sutilezas. El $f_{1}$-score sólo capta un punto de la curva `precision-recall`, el dado por el umbral por defecto"
   ]
  },
  {
   "cell_type": "code",
   "execution_count": 72,
   "metadata": {},
   "outputs": [
    {
     "name": "stdout",
     "output_type": "stream",
     "text": [
      "f1_score of random forest: 0.610\n",
      "f1_score of svc: 0.656\n"
     ]
    }
   ],
   "source": [
    "print(\"f1_score of random forest: {:.3f}\".format(f1_score(y_test, rf.predict(X_test))))\n",
    "print(\"f1_score of svc: {:.3f}\".format(f1_score(y_test, svc.predict(X_test))))"
   ]
  },
  {
   "cell_type": "markdown",
   "metadata": {},
   "source": [
    "- La comparación de dos curvas `precision-recall` proporciona una visión muy detallada, pero `es un proceso bastante manual`. Para la comparación automática de modelos, es posible que queramos resumir la información contenida en la curva, sin limitarnos a un umbral o punto de operación. Una forma concreta de resumir la curva `precisión-recall` es `calcular la integral o el área bajo la curva precision-recall, también conocida como precisión media`. Para calcular la precisión media se puede utilizar la función `average_precision_score`. Como tenemos que calcular la curva ROC y considerar múltiples umbrales, el resultado de `decision_function` o `predict_proba` debe pasarse a `average_precision_score`, no el resultado de `predict`."
   ]
  },
  {
   "cell_type": "code",
   "execution_count": 73,
   "metadata": {},
   "outputs": [],
   "source": [
    "from sklearn.metrics import average_precision_score"
   ]
  },
  {
   "cell_type": "code",
   "execution_count": 74,
   "metadata": {},
   "outputs": [
    {
     "name": "stdout",
     "output_type": "stream",
     "text": [
      "Average precision of random forest: 0.660\n",
      "Average precision of svc: 0.666\n"
     ]
    }
   ],
   "source": [
    "ap_rf = average_precision_score(y_test, rf.predict_proba(X_test)[:, 1])\n",
    "ap_svc = average_precision_score(y_test, svc.decision_function(X_test))\n",
    "print(\"Average precision of random forest: {:.3f}\".format(ap_rf))\n",
    "print(\"Average precision of svc: {:.3f}\".format(ap_svc))"
   ]
  },
  {
   "cell_type": "markdown",
   "metadata": {},
   "source": [
    "- Al promediar todos los umbrales posibles, vemos que el bosque aleatorio y el SVC tienen un rendimiento similar, con SVC ligeramente por delante. Esto es bastante diferente del resultado que obtuvimos antes con $f_{1}$-score. Como la precisión media es el área área bajo una curva que va de 0 a 1, la precisión media siempre devuelve un valor entre `0 (worst) y 1 (best)`. La precisión media de un clasificador que asigna `decision_function` al azar es la fracción de muestras positivas en el conjunto de datos."
   ]
  },
  {
   "cell_type": "markdown",
   "metadata": {},
   "source": [
    "### Características operativas del receptor (ROC) y AUC"
   ]
  },
  {
   "cell_type": "markdown",
   "metadata": {},
   "source": [
    "- Existe otra herramienta que se utiliza habitualmente para analizar el comportamiento de los clasificadores a diferentes umbrales: la `receiver operating characteristics curve` o `ROC curve`. Al igual que la curva `precision-recall`, la curva ROC considera todas los posibles umbrales para un clasificador determinado, pero en lugar de informar sobre su `precision` y `recall`, muestra la tasa de falsos positivos `false positive rate (FPR)` frente a la tasa de verdaderos positivos `true positive rate (TPR)`. Recordemos que la tasa de verdaderos positivos es simplemente otro nombre para el `recall`, mientras que la `tasa de falsos positivos`, es la fracción de falsos positivos entre todas las muestras negativas, esto es, `la proporción de negativos reales, clasificados de forma incorrecta`."
   ]
  },
  {
   "cell_type": "markdown",
   "metadata": {},
   "source": [
    "$$\n",
    "FPR=\\frac{FP}{FP+TN}.\n",
    "$$"
   ]
  },
  {
   "cell_type": "markdown",
   "metadata": {},
   "source": [
    "- Notese que $FPR$ se utiliza como métrica de rendimiento cuando el objetivo es limitar el número de verdaderos negativos. La curva ROC puede calcularse mediante la función `roc_curve`"
   ]
  },
  {
   "cell_type": "code",
   "execution_count": 75,
   "metadata": {},
   "outputs": [],
   "source": [
    "from sklearn.metrics import roc_curve"
   ]
  },
  {
   "cell_type": "code",
   "execution_count": 76,
   "metadata": {},
   "outputs": [
    {
     "data": {
      "image/png": "[encoded data removed]",
      "text/plain": [
       "<Figure size 432x288 with 1 Axes>"
      ]
     },
     "metadata": {
      "needs_background": "light"
     },
     "output_type": "display_data"
    }
   ],
   "source": [
    "fpr, tpr, thresholds = roc_curve(y_test, svc.decision_function(X_test))\n",
    "plt.plot(fpr, tpr, label=\"ROC Curve\")\n",
    "plt.xlabel(\"FPR\")\n",
    "plt.ylabel(\"TPR (recall)\")\n",
    "close_zero = np.argmin(np.abs(thresholds))\n",
    "plt.plot(fpr[close_zero], tpr[close_zero], 'o', markersize=10, label=\"threshold zero\", fillstyle=\"none\", c='k', mew=2)\n",
    "plt.legend(loc=4);"
   ]
  },
  {
   "cell_type": "markdown",
   "metadata": {},
   "source": [
    "- Nótese que, `los valores más pequeños en el eje` $x$ `indican menos falsos positivos (FP) y más verdaderos negativos (TN). Los valores más grandes en el eje` $y$ `indican más verdaderos positivos (TP) y menos falsos negativos (FN)`. En cuanto a la curva `precision-recall`, a menudo queremos resumir la curva ROC utilizando un solo número, `el área bajo la curva (comúnmente se denomina simplemente AUC, y se entiende que la curva en cuestión es la curva ROC)`. Podemos calcular el área bajo la curva `ROC` con la función `roc_auc_score`"
   ]
  },
  {
   "cell_type": "code",
   "execution_count": 77,
   "metadata": {},
   "outputs": [],
   "source": [
    "from sklearn.metrics import roc_auc_score"
   ]
  },
  {
   "cell_type": "code",
   "execution_count": 78,
   "metadata": {},
   "outputs": [
    {
     "name": "stdout",
     "output_type": "stream",
     "text": [
      "AUC for Random Forest: 0.937\n",
      "AUC for SVC: 0.916\n"
     ]
    }
   ],
   "source": [
    "rf_auc = roc_auc_score(y_test, rf.predict_proba(X_test)[:, 1])\n",
    "svc_auc = roc_auc_score(y_test, svc.decision_function(X_test))\n",
    "print(\"AUC for Random Forest: {:.3f}\".format(rf_auc))\n",
    "print(\"AUC for SVC: {:.3f}\".format(svc_auc))"
   ]
  },
  {
   "cell_type": "code",
   "execution_count": 79,
   "metadata": {},
   "outputs": [],
   "source": [
    "from sklearn.metrics import roc_curve"
   ]
  },
  {
   "cell_type": "code",
   "execution_count": 80,
   "metadata": {},
   "outputs": [
    {
     "data": {
      "image/png": "[encoded data removed]",
      "text/plain": [
       "<Figure size 432x288 with 1 Axes>"
      ]
     },
     "metadata": {
      "needs_background": "light"
     },
     "output_type": "display_data"
    }
   ],
   "source": [
    "fpr_rf, tpr_rf, thresholds_rf = roc_curve(y_test, rf.predict_proba(X_test)[:, 1])\n",
    "plt.plot(fpr, tpr, label=\"ROC Curve SVC\")\n",
    "plt.plot(fpr_rf, tpr_rf, label=\"ROC Curve RF\")\n",
    "plt.xlabel(\"FPR\")\n",
    "plt.ylabel(\"TPR (recall)\")\n",
    "plt.plot(fpr[close_zero], tpr[close_zero], 'o', markersize=10,\n",
    "label=\"threshold zero SVC\", fillstyle=\"none\", c='k', mew=2)\n",
    "close_default_rf = np.argmin(np.abs(thresholds_rf - 0.5))\n",
    "plt.plot(fpr_rf[close_default_rf], tpr[close_default_rf], '^', markersize=10,\n",
    "label=\"threshold 0.5 RF\", fillstyle=\"none\", c='k', mew=2)\n",
    "plt.legend(loc=4);"
   ]
  },
  {
   "cell_type": "markdown",
   "metadata": {},
   "source": [
    "- Comparando el bosque aleatorio y las SVM utilizando el AUC-score, encontramos que el bosque aleatorio es ligeramente poco mejor que SVM. `Recordemos que la precisión media es el área bajo una curva que va de 0 a 1, siempre devuelve un valor entre 0 (worst) y 1 (best)`. La predicción aleatoria siempre produce un AUC de 0.5, independientemente de lo desequilibradas que estén las clases de un conjunto de datos. `Esto hace que el AUC sea una métrica mucho mejor para los problemas de clasificación desequilibrada que el accuracy`. \n",
    "\n",
    "- El `AUC` puede interpretarse como la evaluación del ranking de muestras positivas. Equivale a la probabilidad de que un punto elegido al azar de la clase positiva tenga un scoring más alto, según el clasificador, que de forma aleatoria toma un punto al azar de la clase negativa. Así, un AUC perfecto de 1 significa que todos los puntos positivos tienen un scoring más alto que todos los puntos negativos. `Para los problemas de clasificación con clases desequilibradas, utilizar el AUC para la selección del modelo es a menudo mucho más significativo que el uso de accuracy`. Volvamos al problema que estudiamos antes de clasificar todos los nueves del conjunto de datos de dígitos frente a todos los demás dígitos. Clasificaremos el conjunto de datos con una SVM con tres ajustes diferentes anchos de banda del kernel, `gamma`"
   ]
  },
  {
   "cell_type": "code",
   "execution_count": 81,
   "metadata": {},
   "outputs": [],
   "source": [
    "y = digits.target == 9\n",
    "X_train, X_test, y_train, y_test = train_test_split(digits.data, y, random_state=0)"
   ]
  },
  {
   "cell_type": "code",
   "execution_count": 82,
   "metadata": {},
   "outputs": [
    {
     "name": "stdout",
     "output_type": "stream",
     "text": [
      "gamma = 1.00 accuracy = 0.90 AUC = 0.50\n",
      "gamma = 0.07 accuracy = 0.90 AUC = 0.99\n",
      "gamma = 0.01 accuracy = 0.90 AUC = 1.00\n"
     ]
    },
    {
     "data": {
      "text/plain": [
       "<matplotlib.legend.Legend at 0x211159864c0>"
      ]
     },
     "execution_count": 82,
     "metadata": {},
     "output_type": "execute_result"
    },
    {
     "data": {
      "image/png": "[encoded data removed]",
      "text/plain": [
       "<Figure size 432x288 with 1 Axes>"
      ]
     },
     "metadata": {
      "needs_background": "light"
     },
     "output_type": "display_data"
    }
   ],
   "source": [
    "plt.figure()\n",
    "for gamma in [1, 0.07, 0.01]:\n",
    "    svc = SVC(gamma=gamma).fit(X_train, y_train)\n",
    "    accuracy = svc.score(X_test, y_test)\n",
    "    auc = roc_auc_score(y_test, svc.decision_function(X_test))\n",
    "    fpr, tpr, _ = roc_curve(y_test , svc.decision_function(X_test))\n",
    "    print(\"gamma = {:.2f} accuracy = {:.2f} AUC = {:.2f}\".format(gamma, accuracy, auc))\n",
    "    plt.plot(fpr, tpr, label=\"gamma={:.3f}\".format(gamma))\n",
    "plt.xlabel(\"FPR\")\n",
    "plt.ylabel(\"TPR\")\n",
    "plt.xlim(-0.01, 1)\n",
    "plt.ylim(0, 1.02)\n",
    "plt.legend(loc=\"best\")"
   ]
  },
  {
   "cell_type": "markdown",
   "metadata": {},
   "source": [
    "- El valor de `accuracy` de los tres ajustes de `gamma` es el misma, el 90%. Esto podría ser lo mismo como el rendimiento de la casualidad, o podría no serlo. Sin embargo, si observamos el AUC y la curva correspondiente, vemos una clara distinción entre los tres modelos. Con `gamma=1.0` el AUC está realmente al nivel del azar, lo que significa que el resultado de la función de decisión es tan bueno como el azar. Con `gamma=0.07`, el rendimiento mejora drásticamente hasta un AUC de 0.99. Por último, con `gamma=0.01`, obtenemos un AUC perfecto de `1.0`. `Esto significa que todos los puntos positivos están mejor clasificados que los negativos según la función de decisión`. En otras palabras, con el umbral adecuado, este modelo puede clasificar los datos perfectamente. Sabiendo esto, podemos ajustar el umbral de este modelo y obtener grandes predicciones.\n",
    "\n",
    "- Si sólo hubiéramos utilizado `accuracy`, nunca habríamos descubierto esto. `Por este motivo, recomendamos altamente utilizar el AUC cuando se evalúan los modelos con datos desequilibrados`. Tenga en cuenta que `AUC` no utiliza el umbral por defecto, por lo que podría ser necesario ajustar el umbral de decisión para obtener resultados de clasificación útiles de un modelo con un AUC alto."
   ]
  },
  {
   "cell_type": "markdown",
   "metadata": {},
   "source": [
    "## Métricas para la clasificación multiclase"
   ]
  },
  {
   "cell_type": "markdown",
   "metadata": {},
   "source": [
    "- Ahora que hemos discutido en profundidad la evaluación de las tareas de clasificación binaria, nos movemos a las métricas para evaluar la clasificación multiclase. `Básicamente, todas las métricas para clasificación multiclase se derivan de las métricas de clasificación binaria, pero promediadas sobre todas las clases`. Un `accuracy` para la clasificación multiclase se define de nuevo como la fracción de ejemplos clasificados correctamente. Y de nuevo, cuando las clases están desequilibradas, el `accuracy` no es una buena medida de evaluación. \n",
    "\n",
    "- Imagínese un problema de clasificación de tres clases con un 85% de puntos que pertenecen a la clase A, el 10% a la clase B y el 5% a la clase C. ¿Qué significa tener un 85% de precisión en este conjunto de datos?. En general, los resultados de la clasificación multiclase son más difíciles de entender que los resultados de la clasificación binaria. Además del `accuracy`, las herramientas habituales son la `matriz de confusión` y el `informe de clasificación` que vimos en el caso binario en la sección anterior. Apliquemos estos dos métodos de evaluación detallados a la tarea de clasificar los 10 dígitos diferentes escritos a mano en el conjunto de datos `digits`."
   ]
  },
  {
   "cell_type": "code",
   "execution_count": 83,
   "metadata": {},
   "outputs": [],
   "source": [
    "from sklearn.metrics import accuracy_score"
   ]
  },
  {
   "cell_type": "code",
   "execution_count": 84,
   "metadata": {},
   "outputs": [
    {
     "name": "stdout",
     "output_type": "stream",
     "text": [
      "Accuracy: 0.951\n",
      "Confusion matrix:\n",
      "[[37  0  0  0  0  0  0  0  0  0]\n",
      " [ 0 40  0  0  0  0  0  0  2  1]\n",
      " [ 0  1 40  3  0  0  0  0  0  0]\n",
      " [ 0  0  0 43  0  0  0  0  1  1]\n",
      " [ 0  0  0  0 37  0  0  1  0  0]\n",
      " [ 0  0  0  0  0 46  0  0  0  2]\n",
      " [ 0  1  0  0  0  0 51  0  0  0]\n",
      " [ 0  0  0  1  1  0  0 46  0  0]\n",
      " [ 0  3  1  0  0  0  0  0 43  1]\n",
      " [ 0  0  0  0  0  1  0  0  1 45]]\n"
     ]
    }
   ],
   "source": [
    "X_train, X_test, y_train, y_test = train_test_split(digits.data, digits.target, random_state=0)\n",
    "lr = LogisticRegression().fit(X_train, y_train)\n",
    "pred = lr.predict(X_test)\n",
    "print(\"Accuracy: {:.3f}\".format(accuracy_score(y_test, pred)))\n",
    "print(\"Confusion matrix:\\n{}\".format(confusion_matrix(y_test, pred)))"
   ]
  },
  {
   "cell_type": "markdown",
   "metadata": {},
   "source": [
    "- El modelo tiene un accuracy del 95.1%, lo que ya nos dice que lo estamos haciendo bastante bien. La matriz de confusión nos proporciona algunos detalles más. Como en el caso binario, `cada fila corresponde a una etiqueta verdadera y cada columna a una etiqueta predicha`. En la siguiente figura se puede encontrar una mejor representación visual"
   ]
  },
  {
   "cell_type": "code",
   "execution_count": 85,
   "metadata": {},
   "outputs": [
    {
     "data": {
      "image/png": "[encoded data removed]",
      "text/plain": [
       "<Figure size 432x288 with 1 Axes>"
      ]
     },
     "metadata": {
      "needs_background": "light"
     },
     "output_type": "display_data"
    }
   ],
   "source": [
    "scores_image = mglearn.tools.heatmap(confusion_matrix(y_test, pred), \n",
    "                                     xlabel='Predicted label',\n",
    "                                     ylabel='True label', \n",
    "                                     xticklabels=digits.target_names,\n",
    "                                     yticklabels=digits.target_names, \n",
    "                                     cmap=plt.cm.gray_r, \n",
    "                                     fmt=\"%d\")\n",
    "plt.title(\"Confusion matrix\")\n",
    "plt.gca().invert_yaxis()"
   ]
  },
  {
   "cell_type": "markdown",
   "metadata": {},
   "source": [
    "- `Para la primera clase, el dígito 0, hay 37 muestras en la clase, y todas estas muestras fueron clasificadas como clase 0 (no hay falsos negativos para la clase 0)`. Podemos ver el por qué todas las demás entradas de la primera fila de la matriz de confusión son 0. También podemos ver que ningún otro dígito fue clasificado erróneamente como 0, porque todas las demás entradas de la primera columna de la matriz de confusión son 0 (no hay falsos positivos para la clase 0). `Sin embargo, algunos dígitos se confundieron con otros; por ejemplo, el dígito 2 (tercera fila), tres de los cuales fueron clasificados como el dígito 3 (cuarta columna) y uno fué clasificado como el dígito 1 (segunda columna)`. También hubo un dígito 8 que se clasificó como 2 (tercera columna, novena fila). Con la función `classification_report`, podemos calcular `precision, recall` y $f$-score para cada clase."
   ]
  },
  {
   "cell_type": "code",
   "execution_count": 86,
   "metadata": {},
   "outputs": [
    {
     "name": "stdout",
     "output_type": "stream",
     "text": [
      "              precision    recall  f1-score   support\n",
      "\n",
      "           0       1.00      1.00      1.00        37\n",
      "           1       0.89      0.93      0.91        43\n",
      "           2       0.98      0.91      0.94        44\n",
      "           3       0.91      0.96      0.93        45\n",
      "           4       0.97      0.97      0.97        38\n",
      "           5       0.98      0.96      0.97        48\n",
      "           6       1.00      0.98      0.99        52\n",
      "           7       0.98      0.96      0.97        48\n",
      "           8       0.91      0.90      0.91        48\n",
      "           9       0.90      0.96      0.93        47\n",
      "\n",
      "    accuracy                           0.95       450\n",
      "   macro avg       0.95      0.95      0.95       450\n",
      "weighted avg       0.95      0.95      0.95       450\n",
      "\n"
     ]
    }
   ],
   "source": [
    "print(classification_report(y_test, pred))"
   ]
  },
  {
   "cell_type": "markdown",
   "metadata": {},
   "source": [
    "- No es de extrañar que los valores para `precision` y `recall` sean un 1 perfecto para la clase 0, ya que no hay confusiones con esta clase. Para la clase 6, en cambio, el `precision` es de 1 porque ninguna otra clase se clasificó erróneamente como 6. `La métrica más utilizada para conjuntos de datos desequilibrados en el entorno multiclase es la versión multiclase del` $f$`-score`. \n",
    "\n",
    "- La idea detrás del $f$-score multiclase es calcular un $f$-score `binario por clase, siendo esa clase la positiva y las otras clases las negativas`. Luego, estos $f$-scores por clase se promedian utilizando una de las siguientes estrategias:\n",
    "\n",
    "    - `El promedio \"macro\"` calcula los $f$-scores no ponderadas por clase. De este modo, se da el mismo peso a todas las clases, independientemente de su tamaño.\n",
    "    - `El promedio \"weighted\"` calcula la media de los $f$-scores por clase, ponderada por su soporte. Esto es lo que se indica en el informe de clasificación.\n",
    "    - `El promedio \"micro\"` calcula el número total de falsos positivos, falsos negativos y verdaderos positivos en todas las clases, y luego calcula `precision, recall` y $f$`-score` utilizando estos recuentos.\n",
    "\n",
    "- Si se preocupa por igual de cada muestra, se recomienda utilizar el \"micro\" $f$-score; si le importa cada clase por igual, se recomienda utilizar la media macro $f$-score."
   ]
  },
  {
   "cell_type": "code",
   "execution_count": 87,
   "metadata": {
    "scrolled": true
   },
   "outputs": [
    {
     "name": "stdout",
     "output_type": "stream",
     "text": [
      "Macro average f1 score: 0.952\n",
      "Weighted average f1 score: 0.951\n",
      "Micro average f1 score: 0.951\n"
     ]
    }
   ],
   "source": [
    "print(\"Macro average f1 score: {:.3f}\".format(f1_score(y_test, pred, average=\"macro\")))\n",
    "print(\"Weighted average f1 score: {:.3f}\".format(f1_score(y_test, pred, average=\"weighted\")))\n",
    "print(\"Micro average f1 score: {:.3f}\".format(f1_score(y_test, pred, average=\"micro\")))"
   ]
  },
  {
   "cell_type": "markdown",
   "metadata": {},
   "source": [
    "- Scoring por defecto para la clasificación es `accuracy`"
   ]
  },
  {
   "cell_type": "code",
   "execution_count": 88,
   "metadata": {},
   "outputs": [
    {
     "name": "stdout",
     "output_type": "stream",
     "text": [
      "Default scoring: [0.975      0.99166667 1.         0.99442897 0.98050139]\n"
     ]
    }
   ],
   "source": [
    "print(\"Default scoring: {}\".format(cross_val_score(SVC(), digits.data, digits.target == 9)))"
   ]
  },
  {
   "cell_type": "markdown",
   "metadata": {},
   "source": [
    "- Proporcionar `scoring=\"accuracy\"` no cambia los resultados"
   ]
  },
  {
   "cell_type": "code",
   "execution_count": 89,
   "metadata": {},
   "outputs": [
    {
     "name": "stdout",
     "output_type": "stream",
     "text": [
      "Explicit accuracy scoring: [0.975      0.99166667 1.         0.99442897 0.98050139]\n"
     ]
    }
   ],
   "source": [
    "explicit_accuracy = cross_val_score(SVC(), digits.data, digits.target == 9, scoring=\"accuracy\")\n",
    "print(\"Explicit accuracy scoring: {}\".format(explicit_accuracy))"
   ]
  },
  {
   "cell_type": "markdown",
   "metadata": {},
   "source": [
    "- Ahora asignemos `scoring=\"roc_auc\"` para modificar la técnica de `scoring` utilizada"
   ]
  },
  {
   "cell_type": "code",
   "execution_count": 90,
   "metadata": {},
   "outputs": [
    {
     "name": "stdout",
     "output_type": "stream",
     "text": [
      "AUC scoring: [0.99717078 0.99854252 1.         0.999828   0.98400413]\n"
     ]
    }
   ],
   "source": [
    "roc_auc = cross_val_score(SVC(), digits.data, digits.target == 9, scoring=\"roc_auc\")\n",
    "print(\"AUC scoring: {}\".format(roc_auc))"
   ]
  },
  {
   "cell_type": "markdown",
   "metadata": {},
   "source": [
    "- Del mismo modo, podemos cambiar la métrica utilizada para elegir los mejores parámetros en `GridSearchCV`"
   ]
  },
  {
   "cell_type": "code",
   "execution_count": 91,
   "metadata": {},
   "outputs": [],
   "source": [
    "X_train, X_test, y_train, y_test = train_test_split(digits.data, digits.target == 9, random_state=0)"
   ]
  },
  {
   "cell_type": "markdown",
   "metadata": {},
   "source": [
    "- Proporcionamos una red a manera de ilustración del punto"
   ]
  },
  {
   "cell_type": "code",
   "execution_count": 92,
   "metadata": {},
   "outputs": [],
   "source": [
    "param_grid = {'gamma': [0.0001, 0.01, 0.1, 1, 10]}"
   ]
  },
  {
   "cell_type": "markdown",
   "metadata": {},
   "source": [
    "- Utilizando el score `accuracy` por defecto"
   ]
  },
  {
   "cell_type": "code",
   "execution_count": 93,
   "metadata": {},
   "outputs": [
    {
     "name": "stdout",
     "output_type": "stream",
     "text": [
      "Grid-Search with accuracy\n",
      "Best parameters: {'gamma': 0.0001}\n",
      "Best cross-validation score (accuracy)): 0.976\n",
      "Test set AUC: 0.992\n",
      "Test set accuracy: 0.973\n"
     ]
    }
   ],
   "source": [
    "\n",
    "grid = GridSearchCV(SVC(), param_grid=param_grid)\n",
    "grid.fit(X_train, y_train)\n",
    "print(\"Grid-Search with accuracy\")\n",
    "print(\"Best parameters:\", grid.best_params_)\n",
    "print(\"Best cross-validation score (accuracy)): {:.3f}\".format(grid.best_score_))\n",
    "print(\"Test set AUC: {:.3f}\".format(\n",
    "roc_auc_score(y_test, grid.decision_function(X_test))))\n",
    "print(\"Test set accuracy: {:.3f}\".format(grid.score(X_test, y_test)))"
   ]
  },
  {
   "cell_type": "markdown",
   "metadata": {},
   "source": [
    "- Utilizando el scoring AUC en su lugar"
   ]
  },
  {
   "cell_type": "code",
   "execution_count": 94,
   "metadata": {},
   "outputs": [
    {
     "name": "stdout",
     "output_type": "stream",
     "text": [
      "\n",
      "Grid-Search with AUC\n",
      "Best parameters: {'gamma': 0.01}\n",
      "Best cross-validation score (AUC): 0.998\n",
      "Test set AUC: 1.000\n",
      "Test set accuracy: 1.000\n"
     ]
    }
   ],
   "source": [
    "grid = GridSearchCV(SVC(), param_grid=param_grid, scoring=\"roc_auc\")\n",
    "grid.fit(X_train, y_train)\n",
    "print(\"\\nGrid-Search with AUC\")\n",
    "print(\"Best parameters:\", grid.best_params_)\n",
    "print(\"Best cross-validation score (AUC): {:.3f}\".format(grid.best_score_))\n",
    "print(\"Test set AUC: {:.3f}\".format(\n",
    "roc_auc_score(y_test, grid.decision_function(X_test))))\n",
    "print(\"Test set accuracy: {:.3f}\".format(grid.score(X_test, y_test)))"
   ]
  },
  {
   "cell_type": "markdown",
   "metadata": {},
   "source": [
    "- Cuando se utiliza `accuracy`, se selecciona el parámetro `gamma=0.0001`, mientras que cuando se utiliza el AUC se selecciona `gamma=0.01`. Accuracy score para la validación cruzada es coherente con el `accuracy` del conjunto de prueba en ambos casos. `Sin embargo, al utilizar AUC se encontró un mejor ajuste de los parámetros en en términos de AUC e incluso en términos de accuracy`. Los valores más importantes del parámetro de scoring para la clasificación son `accuracy` (por defecto); `roc_auc` para el área bajo la curva ROC; `average_precision` para el área bajo la curva de `precision-recall`; `f1, f1_macro, f1_micro` y `f1_weighted` para $f_{1}$-score binario y las diferentes variantes ponderadas. \n",
    "\n",
    "- En cuanto a la regresión, los valores más utilizados son `r2` para el score $R^{2}$, `mean_squared_error` para el error medio al cuadrado y `mean_absolute_error` para el error medio absoluto. Puede encontrar una lista completa de argumentos admitidos en la [documentación](https://scikit-learn.org/stable/modules/model_evaluation.html#the-scoring-parameter-defining-model-evaluation-rules) o consultando el diccionario SCORER definido en el módulo `metrics.scorer`."
   ]
  },
  {
   "cell_type": "code",
   "execution_count": 95,
   "metadata": {},
   "outputs": [
    {
     "name": "stdout",
     "output_type": "stream",
     "text": [
      "Available scorers:\n",
      "['accuracy', 'adjusted_mutual_info_score', 'adjusted_rand_score', 'average_precision', 'balanced_accuracy', 'completeness_score', 'explained_variance', 'f1', 'f1_macro', 'f1_micro', 'f1_samples', 'f1_weighted', 'fowlkes_mallows_score', 'homogeneity_score', 'jaccard', 'jaccard_macro', 'jaccard_micro', 'jaccard_samples', 'jaccard_weighted', 'max_error', 'mutual_info_score', 'neg_brier_score', 'neg_log_loss', 'neg_mean_absolute_error', 'neg_mean_absolute_percentage_error', 'neg_mean_gamma_deviance', 'neg_mean_poisson_deviance', 'neg_mean_squared_error', 'neg_mean_squared_log_error', 'neg_median_absolute_error', 'neg_root_mean_squared_error', 'normalized_mutual_info_score', 'precision', 'precision_macro', 'precision_micro', 'precision_samples', 'precision_weighted', 'r2', 'rand_score', 'recall', 'recall_macro', 'recall_micro', 'recall_samples', 'recall_weighted', 'roc_auc', 'roc_auc_ovo', 'roc_auc_ovo_weighted', 'roc_auc_ovr', 'roc_auc_ovr_weighted', 'top_k_accuracy', 'v_measure_score']\n"
     ]
    }
   ],
   "source": [
    "from sklearn.metrics import SCORERS\n",
    "print(\"Available scorers:\\n{}\".format(sorted(SCORERS.keys())))"
   ]
  },
  {
   "cell_type": "markdown",
   "metadata": {},
   "source": [
    "## Resumen y conclusiones\n",
    "\n",
    "- En esta sección hemos hablado de la validación cruzada, el grid-search y las métricas de evaluación, los pilares de la evaluación y la mejora de los algoritmos de aprendizaje automático. Las herramientas descritas en este capítulo, junto con los algoritmos descritos, son el pan de cada día para cualquier profesional del aprendizaje automático. Hay dos puntos particulares que hemos hecho en este capítulo que merecen ser repetidos, porque a menudo son pasados por alto por quienes inician investigación en este campo. El primero tiene que ver con la validación cruzada. `La validación cruzada o el uso de un conjunto de pruebas nos permite evaluar un modelo de aprendizaje automático tal y como se comportará en el futuro`. Sin embargo, si utilizamos el conjunto de prueba o la validación cruzada para seleccionar un modelo o los parámetros del mismo, \"agotamos\" los datos de prueba, y `utilizar los mismos datos para evaluar el rendimiento de nuestro modelo en el futuro nos llevará a estimaciones demasiado optimistas`. Por lo tanto, tenemos que recurrir a una división en `datos de entrenamiento para la construcción del modelo, datos de validación para la selección del modelo y los parámetros y datos de prueba para la evaluación del modelo`. En lugar de una simple división, podemos sustituir cada una de estas divisiones con la validación cruzada. La forma más comúnmente utilizada (como se describió anteriormente) es la de entrenamiento/prueba para la evaluación, y el uso de la validación cruzada en el conjunto de entrenamiento para la selección de modelos y parámetros.\n",
    "\n",
    "- El segundo punto tiene que ver con la importancia de la métrica de evaluación o la función de scoring de evaluación utilizada para la selección y la evaluación del modelo. La teoría de cómo tomar decisiones empresariales a partir de las predicciones de un modelo de machine learning, se sale de los alcances del curso (ver por ejemplo [Data Science for Business](https://www.oreilly.com/library/view/data-science-for/9781449374273/)). Sin embargo, rara vez el objetivo final de una tarea de aprendizaje automático es la construcción de un modelo con una gran precisión (accuracy). Asegúrese de que la que la métrica que elija para evaluar y seleccionar un modelo sea un buen sustituto de aquello para lo que se utilizará el modelo. `En realidad, los problemas de clasificación rara vez tienen clases equilibradas, y a menudo los falsos positivos y los falsos negativos tienen consecuencias muy diferentes`. Asegúrese de entender cuáles son estas consecuencias y elija un método de evaluación en consecuencia. Las técnicas de evaluación y selección de modelos que hemos descrito hasta ahora son las herramientas más importantes en la caja de herramientas de un científico de datos. El grid-search y la validación cruzada, tal y como la hemos descrito en esta sección, sólo pueden aplicarse a un único modelo supervisado. Sin embargo, ya hemos visto que muchos modelos requieren un preprocesamiento y que en algunas aplicaciones, como por ejemplo, el reconocimiento de caras en imágenes, puede ser útil extraer una representación de los datos. En la siguiente sección, presentaremos la clase `Pipeline`, que nos permite utilizar grid-search y validación cruzada en cadenas complejas de algoritmos."
   ]
  },
  {
   "cell_type": "markdown",
   "metadata": {},
   "source": []
  }
 ],
 "metadata": {
  "kernelspec": {
   "display_name": "ml_venv",
   "language": "python",
   "name": "ml_venv"
  },
  "language_info": {
   "codemirror_mode": {
    "name": "ipython",
    "version": 3
   },
   "file_extension": ".py",
   "mimetype": "text/x-python",
   "name": "python",
   "nbconvert_exporter": "python",
   "pygments_lexer": "ipython3",
   "version": "3.8.10"
  },
  "toc": {
   "base_numbering": 1,
   "nav_menu": {
    "height": "12px",
    "width": "160px"
   },
   "number_sections": false,
   "sideBar": false,
   "skip_h1_title": false,
   "title_cell": "Table of Contents",
   "title_sidebar": "Contents",
   "toc_cell": false,
   "toc_position": {},
   "toc_section_display": false,
   "toc_window_display": false
  },
  "vscode": {
   "interpreter": {
    "hash": "0634e4dd20b528295ef26f02fa2bbe8ab80950c69707f1841d61df2f0a857575"
   }
  }
 },
 "nbformat": 4,
 "nbformat_minor": 4
}
