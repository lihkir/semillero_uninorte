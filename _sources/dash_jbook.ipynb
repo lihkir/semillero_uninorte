{
 "cells": [
  {
   "cell_type": "markdown",
   "metadata": {},
   "source": [
    "# Introducción a `Dash` y `Jupyter Book`"
   ]
  },
  {
   "cell_type": "markdown",
   "metadata": {},
   "source": [
    "## Introducción a `Dash`"
   ]
  },
  {
   "cell_type": "markdown",
   "metadata": {},
   "source": [
    "- Descargado 600.000 veces al mes, Dash es el marco original de bajo código para construir rápidamente aplicaciones de datos en `Python, R, Julia y F#.`\n",
    "\n",
    "- Escrito sobre `Plotly.js` y `React.js`, `Dash` es ideal para construir y desplegar aplicaciones de datos con interfaces de usuario personalizadas en `Python, R, Julia` o `F#`. Es particularmente adecuado para cualquiera que trabaje con datos.\n",
    "\n",
    "- A través de un par de patrones simples, `Dash` abstrae todas las tecnologías y protocolos que se requieren para construir una aplicación web full-stack con visualización de datos interactivos.\n",
    "\n",
    "- `Dash` es lo suficientemente sencillo como para que puedas vincular una interfaz de usuario a tu código `Python, R, Julia` o `F#` en menos de 10 minutos.\n",
    "\n",
    "- Las aplicaciones de `Dash` se muestran en el navegador web. Puedes desplegar tus aplicaciones en máquinas virtuales o clusters Kubernetes y luego compartirlas a través de URLs. Dado que las aplicaciones de `Dash` se ven en el navegador web, `Dash` es intrínsecamente multiplataforma y está preparado para los dispositivos móviles.\n",
    "\n",
    "- Hay mucho detrás del framework. Para saber más sobre cómo está construido y qué motivó a `Dash`, lea el post [Dash es React para Python](https://medium.com/plotly/dash-is-react-for-python-r-and-julia-c75822d1cc24). Puede encontrar distintos templates de `Dash` en el siguiente link, los cuales puedes utlizar para tus proyectos: [Dash Enterprise App Gallery](https://dash.gallery/Portal/)\n",
    "\n",
    "- `Dash` es una librería de código abierto liberada bajo la permisiva licencia MIT. `Plotly` desarrolla `Dash` y también ofrece una plataforma para escribir y desplegar aplicaciones `Dash` en un entorno empresarial."
   ]
  },
  {
   "cell_type": "markdown",
   "metadata": {},
   "source": [
    "```{figure} ./imgs/dash1.png\n",
    ":name: fig_dash1\n",
    ":align: center\n",
    "```"
   ]
  },
  {
   "cell_type": "markdown",
   "metadata": {},
   "source": [
    "### Configuración de su entorno\n",
    "\n",
    "- Para la instalación de `Dash` crearemos un entorno especial, en el cual instalaremos cada una de las librería que necesitaremos en el transcurso de esta sección, en especial la instalación de `Dash` mediante la orden: \n",
    "\n",
    "```shell\n",
    "pip install dash \n",
    "```\n",
    "\n",
    "- En su esencia, el propósito principal de los entornos virtuales (enviroment) de `Python` es crear un entorno aislado para los proyectos de `Python`. Esto significa que cada proyecto puede tener sus propias dependencias, independientemente de las que tengan los demás proyectos. Lo bueno de esto, es que no hay límites en el número de entornos que puedes tener, ya que sólo son directorios que contienen unos pocos scripts. Además, son fácilmente creados usando las herramientas de línea de comandos `virtualenv` o `pyenv`, en el caso de `anaconda` por medio de `conda create`."
   ]
  },
  {
   "cell_type": "markdown",
   "metadata": {},
   "source": [
    "- Crea un enviroment virtual de `Python` en una carpeta llamada `dash_project` (o cualquier otro nombre que quieras). Esto también creará una nueva carpeta con el nombre que hayas elegido. Escriba la siguiente orden un su terminal, en el caso de `Windows`, en el **Command Prompt** o en el **Windows PowerShell** que tiene un aspecto muy parecido al de `Ubuntu`. Puedes elegir la carpeta donde van a reposar todos tus `enviroment`\n",
    "\n",
    "```{figure} ./imgs/dash2.png\n",
    ":name: fig_dash2\n",
    ":align: center\n",
    "```"
   ]
  },
  {
   "cell_type": "markdown",
   "metadata": {},
   "source": [
    "- Luego nos vamos a mover a la carpeta que se creó con el enviroment: **dash_project** usando el comando `cd`, y dentro de esta vamos a ejecutar la siguiente orden para activar en enviroment: \n",
    "\n",
    "    ```shell\n",
    "    .\\Scripts\\activate\n",
    "    ``` \n",
    "    tal como se muestra en la figura. Notese que en la parte izquierda de la linea de comandos, aparece el nombre del enviroment en color verde, indicando que ha sido creado correctamente y está activado. Luego de activado el enviroment se puede mover al directorio donde desea realizar el desarrollo de esta sección, antes istalaremos algunos librerías\n",
    "\n",
    "```{figure} ./imgs/dash3.png\n",
    ":name: fig_dash3\n",
    ":align: center\n",
    "```"
   ]
  },
  {
   "cell_type": "markdown",
   "metadata": {},
   "source": [
    "- Si presenta algún problema a la hora de activar su ambiente. Por ejemplo si obtiene un mensaje similar al siguiente\n",
    "\n",
    "    ```shell\n",
    "    venv\\Scripts\\activate : File C:\\Users\\Dell\\Desktop\\flask\\microblog\\venv\\Scripts\\Activate.ps1\n",
    "    cannot be loaded because running scripts is disabled on this system. For more information, see    \n",
    "    about_Execution_Policies at https:/go.microsoft.com/fwlink/?LinkID=135170.\n",
    "    At line:1 char:1\n",
    "    + venv\\Scripts\\activate\n",
    "    + ~~~~~~~~~~~~~~~~~~~~~\n",
    "        + CategoryInfo          : SecurityError: (:) [], PSSecurityException\n",
    "        + FullyQualifiedErrorId : UnauthorizedAccess\n",
    "    ```\n",
    "\n",
    "    Ejecute entonces en su terminal `PowerShell`la siguiente orden para solucionarlo:\n",
    "\n",
    "    ```shell\n",
    "    Set-ExecutionPolicy -ExecutionPolicy RemoteSigned -Scope Process\n",
    "    ```"
   ]
  },
  {
   "cell_type": "markdown",
   "metadata": {},
   "source": [
    "- En su terminal, instale dash.\n",
    "\n",
    "```shell\n",
    "pip install dash\n",
    "```\n",
    "- Esto también trae consigo la biblioteca de gráficos plotly. Esta biblioteca está en desarrollo activo, así que instala y actualiza con frecuencia. Si prefieres Jupyter notebook o JupyterLab como entorno de desarrollo, te recomendamos instalar jupyter-dash:\n",
    "\n",
    "```shell\n",
    "pip install jupyter-dash\n",
    "```\n",
    "- También recomendamos instalar `Pandas`, que es requerido por `Plotly Express` y utilizado en muchos de nuestros ejemplos.\n",
    "\n",
    "```shell\n",
    "pip install pandas\n",
    "```\n",
    "- Estamos listos para crear nuestra primera aplicación Dash. Cada una de estas librerías pueden ser isntaladas también a traves de un archivo con requerimientos, el cual podemos crear con el nombre: `requirements.txt` y copiar en éste sin espacio a la izquierda el nombre de cada librería, así:\n",
    "\n",
    "```shell\n",
    "dash\n",
    "jupyter-dash\n",
    "pandas\n",
    "```\n",
    "\n",
    "- Luego desde la línea de comando ejecutar\n",
    "\n",
    "```shell\n",
    "pip install -r requirements.txt\n",
    "```\n",
    "\n",
    "- Estaremos usando en esta sección `jupyter lab` debido a que es gratis. Otras opciones son: `Sublime, VS Code, Atom` entre otras. Seleccione aquel editor con el que se sienta más comodo. Para instalar `jupyter lab` escriba dentro del mismo enviroment\n",
    "\n",
    "```shell\n",
    "pip install jupyterlab\n",
    "```\n",
    "\n",
    "```{figure} ./imgs/dash4.png\n",
    ":name: fig_dash4\n",
    ":align: center\n",
    "```"
   ]
  },
  {
   "cell_type": "markdown",
   "metadata": {},
   "source": [
    "- Iniciamos `jupyter lab` para crear el archivo `requirements.txt` con las librerías a instalar. Éste archivo podemos ir actualizandolo en el transcurso de la sección a medida que una nueva librería va siendo necesaria."
   ]
  },
  {
   "cell_type": "markdown",
   "metadata": {},
   "source": [
    "```{figure} ./imgs/dash5.png\n",
    ":name: fig_dash5\n",
    ":align: center\n",
    "```\n",
    "\n",
    "```{figure} ./imgs/dash6.png\n",
    ":name: fig_dash6\n",
    ":align: center\n",
    "```"
   ]
  },
  {
   "cell_type": "markdown",
   "metadata": {},
   "source": [
    "- Crea el archivo `requirements.txt` con librerías a instalar. Nótese que `jupyter lab` cuenta también con una terminal integrada, por lo tanto, luego de crear el archivo, puede abrir una terminal dentro de `jupyter lab`, activar el enviroment y luego instalar las librerías usando `pip install -r requirements.txt`"
   ]
  },
  {
   "cell_type": "markdown",
   "metadata": {},
   "source": [
    "```{figure} ./imgs/dash7.png\n",
    ":name: fig_dash7\n",
    ":align: center\n",
    "```"
   ]
  },
  {
   "cell_type": "markdown",
   "metadata": {},
   "source": [
    "### Diseño de Dash"
   ]
  },
  {
   "cell_type": "markdown",
   "metadata": {},
   "source": [
    "- Estudiaremos el diseño a través de seis aplicaciones autónomas. El diseño de las aplicaciones `Dash` de producción puede ser estilizado con [Dash Enterprise Design Kit](https://plotly.com/dash/design-kit/?tab=templates). Las aplicaciones `Dash` se componen de dos partes. La primera parte es el \"diseño\" de la aplicación y describe el aspecto de la misma. La segunda parte describe la interactividad de la aplicación y será cubierta más adelante.\n",
    "\n",
    "- Mantenemos un conjunto de componentes en la biblioteca `dash_core_components` y `dash_html_components` (`dash.html` a partir de `Dash v2.0`) pero también puedes construir los suyos con `JavaScript` y `React.js`. A lo largo de esta sección, los ejemplos de código `Python` están pensados para ser guardados como archivos y ejecutados usando \n",
    "\n",
    "```shell\n",
    "python app.py\n",
    "```\n",
    "\n",
    "- También puedes usar `Jupyter` con la biblioteca `JupyterDash`.\n",
    "\n",
    "- Para empezar, crea un archivo llamado `app.py`, copia el código de abajo en él y ejecútalo con `python app.py` luego visite http://127.0.0.1:8050/ en su navegador web para ver la aplicación\n",
    "\n",
    "```python\n",
    "import dash\n",
    "from dash import dcc\n",
    "from dash import html\n",
    "import plotly.express as px\n",
    "import pandas as pd\n",
    "\n",
    "app = dash.Dash(__name__)\n",
    "\n",
    "df = pd.DataFrame({\n",
    "    \"Fruit\": [\"Apples\", \"Oranges\", \"Bananas\", \"Apples\", \"Oranges\", \"Bananas\"],\n",
    "    \"Amount\": [4, 1, 2, 2, 4, 5],\n",
    "    \"City\": [\"SF\", \"SF\", \"SF\", \"Montreal\", \"Montreal\", \"Montreal\"]\n",
    "})\n",
    "\n",
    "fig = px.bar(df, x=\"Fruit\", y=\"Amount\", color=\"City\", barmode=\"group\")\n",
    "\n",
    "app.layout = html.Div(children=[\n",
    "    html.H1(children='Hello Dash'),\n",
    "\n",
    "    html.Div(children='''\n",
    "        Dash: A web application framework for your data.\n",
    "    '''),\n",
    "\n",
    "    dcc.Graph(\n",
    "        id='example-graph',\n",
    "        figure=fig\n",
    "    )\n",
    "])\n",
    "\n",
    "if __name__ == '__main__':\n",
    "    app.run_server(debug=True)\n",
    "```"
   ]
  },
  {
   "cell_type": "markdown",
   "metadata": {},
   "source": [
    "```{figure} ./imgs/dash8.png\n",
    ":name: fig_dash8\n",
    ":align: center\n",
    "```\n",
    "\n",
    "```{figure} ./imgs/dash9.png\n",
    ":name: fig_dash9\n",
    ":align: center\n",
    "```\n",
    "\n",
    "```{figure} ./imgs/dash10.png\n",
    ":name: fig_dash10\n",
    ":align: center\n",
    "```\n",
    "\n",
    "```{figure} ./imgs/dash11.png\n",
    ":name: fig_dash11\n",
    ":align: center\n",
    "```"
   ]
  },
  {
   "cell_type": "markdown",
   "metadata": {},
   "source": [
    "- Para tener otro estilo de visualización puede diseñar tu propio archivos `style.css` por jemplo, o utlizar algunos libres que puedes sólo importar, como por ejemplo [BootstrapCDN](https://www.bootstrapcdn.com/bootswatch/) y [Plotly themes](https://plotly.com/python/templates/). Para importar los estilos de temas en tu app debe importar la librería en el el `.py` principal de tu app: `import dash_bootstrap_components as dbc`, ademas de usar la siguiente línea para selecionar el tema de interés \n",
    "```python\n",
    "app = dash.Dash(external_stylesheets=[dbc.themes.BOOTSTRAP])\n",
    "```\n",
    "- Antes debe instalarlo en el enviroment usando: \n",
    "```shell\n",
    "pip install dash-bootstrap-components\n",
    "```"
   ]
  },
  {
   "cell_type": "markdown",
   "metadata": {},
   "source": [
    "```{figure} ./imgs/dash12.png\n",
    ":name: fig_dash12\n",
    ":align: center\n",
    "```\n",
    "```{figure} ./imgs/dash13.png\n",
    ":name: fig_dash13\n",
    ":align: center\n",
    "```"
   ]
  },
  {
   "cell_type": "markdown",
   "metadata": {},
   "source": [
    "**Observaciones**\n",
    "\n",
    "- El diseño está compuesto por un árbol de \"componentes\" como `html.Div` y `dcc.Graph`.\n",
    "\n",
    "- La biblioteca `dash_html_components` (`dash.html` a partir de `Dash v2.0`) tiene un componente para cada etiqueta `HTML`. El componente `html.H1(children = 'Hola Dash')` genera un elemento `HTML <h1>Hola Dash</h1>` en tu aplicación. `h1` en `HTML` es el primer nivel de encabezado en una página web.\n",
    "\n",
    "- No todos los componentes son `HTML` puro. Los `dash_core_components` describen componentes de nivel superior que son interactivos y se generan con `JavaScript, HTML` y `CSS` a través de la biblioteca `React.js`.\n",
    "\n",
    "- Cada componente se describe completamente a través de atributos de palabras clave. `Dash` es declarativo: usted describirá principalmente su aplicación a través de estos atributos.\n",
    "\n",
    "- La propiedad `children` es especial. Por convención, siempre es el primer atributo, lo que significa que puedes omitirlo: `html.H1(children = 'Hello Dash')` es lo mismo que `html.H1('Hello Dash')`. Puede contener una cadena, un número, un solo componente o una lista de componentes.\n",
    "\n",
    "- Las fuentes en su aplicación se verán un poco diferentes de lo que se muestra en la imágen de arriba a menos que cambie el estilo de la hoja y de `Plotly`. Esta aplicación está utilizando una hoja de estilos `BootstrapCDN` y temas `Plotly`"
   ]
  },
  {
   "cell_type": "markdown",
   "metadata": {},
   "source": [
    "**Realizar tu primer cambio**\n",
    "\n",
    "- `Dash` incluye \"hot-reloading\", esta característica se activa por defecto cuando ejecutas tu aplicación con `app.run_server(debug=True)`. Esto significa que `Dash` refrescará automáticamente tu navegador cuando hagas un cambio en tu código. Pruébalo: cambia el título \"Hello Dash\" en tu aplicación o cambia los datos $x$ o $y$. Tu aplicación debería refrescarse automáticamente con tu cambio."
   ]
  },
  {
   "cell_type": "markdown",
   "metadata": {},
   "source": [
    "### Más información sobre los componentes HTML\n",
    "\n",
    "- `dash_html_components` (`dash.html` a partir de `Dash v2.0`) contiene una clase de componente para cada etiqueta `HTML`, así como argumentos de palabras clave para todos los argumentos `HTML`. Vamos a personalizar el texto de nuestra aplicación modificando los estilos en línea de los componentes. Crea un archivo llamado `app.py` con el siguiente código\n",
    "\n",
    "```python\n",
    "import dash\n",
    "from dash import dcc\n",
    "from dash import html\n",
    "import plotly.express as px\n",
    "import pandas as pd\n",
    "\n",
    "app = dash.Dash(__name__)\n",
    "\n",
    "colors = {\n",
    "    'background': '#111111',\n",
    "    'text': '#7FDBFF'\n",
    "}\n",
    "\n",
    "df = pd.DataFrame({\n",
    "    \"Fruit\": [\"Apples\", \"Oranges\", \"Bananas\", \"Apples\", \"Oranges\", \"Bananas\"],\n",
    "    \"Amount\": [4, 1, 2, 2, 4, 5],\n",
    "    \"City\": [\"SF\", \"SF\", \"SF\", \"Montreal\", \"Montreal\", \"Montreal\"]\n",
    "})\n",
    "\n",
    "fig = px.bar(df, x = \"Fruit\", y = \"Amount\", color = \"City\", barmode = \"group\")\n",
    "\n",
    "fig.update_layout(\n",
    "    plot_bgcolor = colors['background'],\n",
    "    paper_bgcolor = colors['background'],\n",
    "    font_color = colors['text']\n",
    ")\n",
    "\n",
    "app.layout = html.Div(style={'backgroundColor': colors['background']}, children=[\n",
    "    html.H1(\n",
    "        children = 'Hello Dash',\n",
    "        style = {\n",
    "            'textAlign': 'center',\n",
    "            'color': colors['text']\n",
    "        }\n",
    "    ),\n",
    "    \n",
    "    html.Div(children = 'Dash: A web application framework for your data.', style = {\n",
    "        'textAlign': 'center',\n",
    "        'color': colors['text']\n",
    "    }),\n",
    "    \n",
    "    dcc.Graph(\n",
    "        id='example-graph-2',\n",
    "        figure=fig\n",
    "    )\n",
    "])\n",
    "\n",
    "if __name__ == '__main__':\n",
    "    app.run_server(debug=True)\n",
    "```"
   ]
  },
  {
   "cell_type": "markdown",
   "metadata": {},
   "source": [
    "```{figure} ./imgs/dash14.png\n",
    ":name: fig_dash14\n",
    ":align: center\n",
    "```"
   ]
  },
  {
   "cell_type": "markdown",
   "metadata": {},
   "source": [
    "- En este ejemplo, hemos modificado los estilos inline de los componentes `html.Div` y `html.H1` con la propiedad style.\n",
    "\n",
    "```python\n",
    "html.H1('Hello Dash', style={'textAlign': 'center', 'color': '#7FDBFF'})\n",
    "```\n",
    "- El código anterior se muestra en la aplicación `Dash` como \n",
    "\n",
    "```html\n",
    "<h1 style=\"text-align: center; color: #7FDBFF\">Hola Dash</h1>.\n",
    "```\n",
    "\n",
    "- Hay algunas diferencias importantes entre los componentes `dash_html_` (`dash.html` a partir de `Dash v2.0`) y los atributos `HTML`:\n",
    "\n",
    "    - La propiedad de estilo en `HTML` es una cadena separada por punto y coma. En `Dash`, sólo se puede proporcionar un diccionario.\n",
    "    - Las claves (keys) en el diccionario de estilo son [camelCased](https://en.wikipedia.org/wiki/Camel_case). Así, en lugar de `text-align`, es `textAlign`. El atributo de clase `HTML` es `className` en `Dash`.\n",
    "    \n",
    "    - Los hijos (children) de la etiqueta `HTML` se especifican a través del argumento de la palabra clave children. Por convención, éste es siempre el primer argumento, por lo que a menudo se omite.\n",
    "    \n",
    "    - Además de esto, todos los atributos y etiquetas `HTML` disponibles están a tu disposición dentro del contexto de `Python`."
   ]
  },
  {
   "cell_type": "markdown",
   "metadata": {},
   "source": [
    "### Componentes reutilizables\n",
    "\n",
    "- Escribiendo nuestro markup en `Python`, podemos crear componentes complejos reutilizables como tablas sin cambiar de contexto o de lenguaje. Aquí hay un ejemplo rápido que genera una tabla `Table` a partir de un dataframe de `Pandas`. Crea un archivo llamado `app.py` con el siguiente código\n",
    "\n",
    "```python\n",
    "import dash\n",
    "from dash import html\n",
    "import pandas as pd\n",
    "\n",
    "df = pd.read_csv('https://raw.githubusercontent.com/lihkir/Uninorte/main/AppliedStatisticMS/DataVisualizationRPython/Lectures/Python/PythonDataSets/usa-agricultural-exports-2011.csv')\n",
    "\n",
    "def generate_table(dataframe, max_rows=10):\n",
    "    return html.Table([\n",
    "        html.Thead(\n",
    "            html.Tr([html.Th(col) for col in dataframe.columns])\n",
    "        ),\n",
    "        html.Tbody([\n",
    "            html.Tr([\n",
    "                html.Td(dataframe.iloc[i][col]) for col in dataframe.columns\n",
    "            ]) for i in range(min(len(dataframe), max_rows))\n",
    "        ])\n",
    "    ])\n",
    "\n",
    "\n",
    "app = dash.Dash(__name__)\n",
    "\n",
    "app.layout = html.Div([\n",
    "    html.H4(children='US Agriculture Exports (2011)'),\n",
    "    generate_table(df)\n",
    "])\n",
    "\n",
    "if __name__ == '__main__':\n",
    "    app.run_server(debug=True)\n",
    "\n",
    "```"
   ]
  },
  {
   "cell_type": "markdown",
   "metadata": {},
   "source": [
    "```{figure} ./imgs/dash15.png\n",
    ":name: fig_dash15\n",
    ":align: center\n",
    "```"
   ]
  },
  {
   "cell_type": "markdown",
   "metadata": {},
   "source": [
    "### Más información sobre la visualización\n",
    "\n",
    "- La librería `dash_core_components` incluye un componente llamado `Graph`. `Graph` muestra visualizaciones de datos interactivas utilizando la librería de gráficos de código abierto `plotly.js`. `Plotly.js` admite más de 35 tipos de gráficos y los representa tanto en `SVG` de calidad vectorial como en `WebGL` de alto rendimiento.\n",
    "\n",
    "- El argumento de figura en el `componenteGraph` es el mismo argumento de figura que utiliza `plotly.py`, la biblioteca de gráficos `Python` de código abierto de `Plotly`. Consulte la documentación y la galería de [plotly.py para obtener más información](https://plotly.com/python/). Aquí presentamos un ejemplo que crea un gráfico de dispersión a partir de un marco de datos de `Pandas`. Cree un archivo llamado `app.py` con el siguiente código:\n",
    "\n",
    "```python\n",
    "import dash\n",
    "from dash import dcc\n",
    "from dash import html\n",
    "import plotly.express as px\n",
    "import pandas as pd\n",
    "\n",
    "app = dash.Dash(__name__)\n",
    "\n",
    "df = pd.read_csv('https://raw.githubusercontent.com/lihkir/Uninorte/main/AppliedStatisticMS/DataVisualizationRPython/Lectures/Python/PythonDataSets/gdp-life-exp-2007.csv')\n",
    "\n",
    "fig = px.scatter(df, x=\"gdp per capita\", y=\"life expectancy\",\n",
    "                 size=\"population\", color=\"continent\", hover_name=\"country\",\n",
    "                 log_x=True, size_max=60)\n",
    "\n",
    "app.layout = html.Div([\n",
    "    dcc.Graph(\n",
    "        id='life-exp-vs-gdp',\n",
    "        figure=fig\n",
    "    )\n",
    "])\n",
    "\n",
    "if __name__ == '__main__':\n",
    "    app.run_server(debug=True)\n",
    "```"
   ]
  },
  {
   "cell_type": "markdown",
   "metadata": {},
   "source": [
    "```{figure} ./imgs/dash16.png\n",
    ":name: fig_dash16\n",
    ":align: center\n",
    "```"
   ]
  },
  {
   "cell_type": "markdown",
   "metadata": {},
   "source": [
    "### Markdown\n",
    "\n",
    "- Aunque `Dash` expone `HTML` a través de `dash_html_components` (`dash.html` a partir de `Dash v2.0`) , puede ser tedioso escribir tu copia en `HTML`. Para escribir bloques de texto, puedes utilizar el componente `Markdown` en `dash_core_components`. Crea un archivo llamado app.py con el siguiente código:\n",
    "\n",
    "```python\n",
    "import dash\n",
    "from dash import dcc\n",
    "from dash import html\n",
    "\n",
    "app = dash.Dash(__name__)\n",
    "\n",
    "markdown_text = '''\n",
    "### Dash and Markdown\n",
    "\n",
    "- Dash apps can be written in Markdown. \n",
    "- Dash uses the [CommonMark](http://commonmark.org/) specification of Markdown. \n",
    "- Check out their [60 Second Markdown Tutorial](http://commonmark.org/help/) if this is your first introduction to Markdown!\n",
    "'''\n",
    "\n",
    "app.layout = html.Div([\n",
    "    dcc.Markdown(children=markdown_text)\n",
    "])\n",
    "\n",
    "if __name__ == '__main__':\n",
    "    app.run_server(debug=True)\n",
    "```"
   ]
  },
  {
   "cell_type": "markdown",
   "metadata": {},
   "source": [
    "```{figure} ./imgs/dash17.png\n",
    ":name: fig_dash17\n",
    ":align: center\n",
    "```"
   ]
  },
  {
   "cell_type": "markdown",
   "metadata": {},
   "source": [
    "### Componentes principales\n",
    "\n",
    "- `dash_core_components` incluye un conjunto de componentes de alto nivel como los desplegables, los gráficos, los bloques markdown, etc.\n",
    "\n",
    "- Como todos los componentes de `Dash`, se describen de forma totalmente declarativa. Cada opción configurable está disponible como un argumento de palabra clave del componente.\n",
    "\n",
    "- Veremos muchos de estos componentes a lo largo de la sección. Puedes ver todos los componentes disponibles en la [Galería de componentes del núcleo de Dash](https://dash.plotly.com/dash-core-components).\n",
    "\n",
    "- Aquí están algunos de los componentes disponibles. Crea un archivo llamado `app.py` con el siguiente código:\n",
    "\n",
    "```python\n",
    "import dash\n",
    "from dash import dcc\n",
    "from dash import html\n",
    "\n",
    "app = dash.Dash(__name__)\n",
    "\n",
    "app.layout = html.Div([\n",
    "    html.Label('Dropdown'),\n",
    "    dcc.Dropdown(\n",
    "        options=[\n",
    "            {'label': 'New York City', 'value': 'NYC'},\n",
    "            {'label': u'Montréal', 'value': 'MTL'},\n",
    "            {'label': 'San Francisco', 'value': 'SF'}\n",
    "        ],\n",
    "        value='MTL'\n",
    "    ),\n",
    "\n",
    "    html.Label('Multi-Select Dropdown'),\n",
    "    dcc.Dropdown(\n",
    "        options=[\n",
    "            {'label': 'New York City', 'value': 'NYC'},\n",
    "            {'label': u'Montréal', 'value': 'MTL'},\n",
    "            {'label': 'San Francisco', 'value': 'SF'}\n",
    "        ],\n",
    "        value=['MTL', 'SF'],\n",
    "        multi=True\n",
    "    ),\n",
    "\n",
    "    html.Label('Radio Items'),\n",
    "    dcc.RadioItems(\n",
    "        options=[\n",
    "            {'label': 'New York City', 'value': 'NYC'},\n",
    "            {'label': u'Montréal', 'value': 'MTL'},\n",
    "            {'label': 'San Francisco', 'value': 'SF'}\n",
    "        ],\n",
    "        value='MTL'\n",
    "    ),\n",
    "\n",
    "    html.Label('Checkboxes'),\n",
    "    dcc.Checklist(\n",
    "        options=[\n",
    "            {'label': 'New York City', 'value': 'NYC'},\n",
    "            {'label': u'Montréal', 'value': 'MTL'},\n",
    "            {'label': 'San Francisco', 'value': 'SF'}\n",
    "        ],\n",
    "        value=['MTL', 'SF']\n",
    "    ),\n",
    "\n",
    "    html.Label('Text Input'),\n",
    "    dcc.Input(value='MTL', type='text'),\n",
    "\n",
    "    html.Label('Slider'),\n",
    "    dcc.Slider(\n",
    "        min=0,\n",
    "        max=9,\n",
    "        marks={i: 'Label {}'.format(i) if i == 1 else str(i) for i in range(1, 6)},\n",
    "        value=5,\n",
    "    ),\n",
    "], style={'columnCount': 2})\n",
    "\n",
    "if __name__ == '__main__':\n",
    "    app.run_server(debug=True)\n",
    "```"
   ]
  },
  {
   "cell_type": "markdown",
   "metadata": {},
   "source": [
    "```{figure} ./imgs/dash18.png\n",
    ":name: fig_dash18\n",
    ":align: center\n",
    "```"
   ]
  },
  {
   "cell_type": "markdown",
   "metadata": {},
   "source": [
    "**Resumen**\n",
    "\n",
    "- El diseño de una aplicación `Dash` describe el aspecto de la aplicación. El diseño es un árbol jerárquico de componentes. La librería `dash_html_components` (`dash.html` a partir de `Dash v2.0`) proporciona clases para todas las etiquetas `HTML` y los argumentos de las palabras clave describen los atributos `HTML` como `style, class` e `id`. La biblioteca `dash_core_components` genera componentes de nivel superior como controles y gráficos.\n",
    "\n",
    "- Para consultar la referencia, ver:\n",
    "\n",
    "    - [Galería de componentes del núcleo de Dash](https://dash.plotly.com/dash-core-components)\n",
    "    - [Galería de componentes HTML de Dash](https://dash.plotly.com/dash-html-components)\n",
    "\n",
    "La siguiente parte de esta seccíon cubre cómo hacer estas aplicaciones interactivas. Luego estudiaremos con más profundidad algunos `Callbacks` básicos"
   ]
  },
  {
   "cell_type": "markdown",
   "metadata": {},
   "source": [
    "### Callbacks básicos Dash "
   ]
  },
  {
   "cell_type": "markdown",
   "metadata": {},
   "source": [
    "- Como se ha visto, que `app.layout` describe el aspecto de la aplicación y es un árbol jerárquico de componentes. La biblioteca `dash_html_components` proporciona clases para todas las etiquetas `HTML`, y los argumentos de las palabras clave describen los atributos `HTML` como style, `className` e `id`. La biblioteca `dash_core_components` genera componentes de nivel superior como controles y gráficos.\n",
    "\n",
    "- Ahora se describirá cómo hacer que tus aplicaciones `Dash` utilicen funciones de devolución de llamada (`callbacks`): funciones que son llamadas automáticamente por `Dash` cada vez que la propiedad de un componente de entrada cambia. Comencemos con un ejemplo sencillo de una aplicación Dash interactiva.\n",
    "\n",
    "```python\n",
    "import dash\n",
    "from dash import dcc\n",
    "from dash import html\n",
    "from dash.dependencies import Input, Output\n",
    "\n",
    "app = dash.Dash(__name__)\n",
    "\n",
    "app.layout = html.Div([\n",
    "    html.H6(\"Change the value in the text box to see callbacks in action!\"),\n",
    "    html.Div([\n",
    "        \"Input: \",\n",
    "        dcc.Input(id='my-input', value='initial value', type='text')\n",
    "    ]),\n",
    "    html.Br(),\n",
    "    html.Div(id='my-output'),\n",
    "\n",
    "])\n",
    "\n",
    "\n",
    "@app.callback(\n",
    "    Output(component_id='my-output', component_property='children'),\n",
    "    Input(component_id='my-input', component_property='value')\n",
    ")\n",
    "def update_output_div(input_value):\n",
    "    return 'Output: {}'.format(input_value)\n",
    "\n",
    "\n",
    "if __name__ == '__main__':\n",
    "    app.run_server(debug=True)\n",
    "```"
   ]
  },
  {
   "cell_type": "markdown",
   "metadata": {},
   "source": [
    "**Observaciones**\n",
    "\n",
    "- Las \"`inputs`\" y \"`outputs`\" de la interfaz de nuestra aplicación se describen declarativamente como argumentos del decorador `@app.callback`.\n",
    "\n",
    "    a. Al escribir este decorador, le estamos diciendo a `Dash` que llame a esta función por nosotros cada vez que el valor del componente \"`input`\" (`la caja de texto`) cambie para actualizar los `children` del componente \"`output`\" en la página (el `div HTML`).\n",
    "\n",
    "    b. Puedes usar cualquier nombre para la función que está envuelta por el decorador `@app.callback`. La convención es que el nombre describa la(s) salida(s) del `callback`.\n",
    "    \n",
    "    c. Puede utilizar cualquier nombre para los argumentos de la función, pero debe utilizar los mismos nombres dentro de la función de devolución de llamada que en su definición, al igual que en una función normal de `Python`. Los argumentos son posicionales por defecto: primero los elementos de entrada y luego los elementos de estado se dan en el mismo orden que en el decorador. También tiene la opción de utilizar argumentos de palabra clave con nombre, en lugar de posicionales. \n",
    "    \n",
    "    d. Debes utilizar el mismo `id` que le diste a un componente `Dash` en el `app.layout` cuando te refieras a él como entrada o salida del decorador `@app.callback`.\n",
    "    \n",
    "    e. El decorador `@app.callback` debe estar directamente encima de la declaración de la función `callback`. Si hay una línea en blanco entre el decorador y la definición de la función, el registro de la devolución de llamada no tendrá éxito.\n",
    "\n",
    "- En `Dash`, los `inputs` y `outputs` de nuestra aplicación son simplemente las propiedades de un componente en particular. En este ejemplo, nuestro `input` es la propiedad \"`value`\" del componente que tiene el `ID` \"`my-input`\". Nuestra salida es la propiedad \"`children`\" del componente con el `ID` \"`my-input`\".\n",
    "\n",
    "- Cada vez que una propiedad de entrada cambia, la función que el decorador `callback` envuelve será llamada automáticamente. `Dash` proporciona a la función el nuevo valor de la propiedad de entrada como argumento de entrada y ` Dash` actualiza la propiedad del componente de salida con lo que haya devuelto la función.\n",
    "\n",
    "- Las palabras clave `component_id` y `component_property` son opcionales (sólo hay dos argumentos para cada uno de esos objetos). Se incluyen en este ejemplo para mayor claridad, pero se omitirán en el resto de la sección en aras de la brevedad y la legibilidad.\n",
    "\n",
    "- No confunda el objeto `dash.dependencies.Input` con el objeto `dcc.Input`. El primero sólo se utiliza en estas definiciones de `callback` y el segundo es un componente real. \n",
    "\n",
    "- Nótese que no establecemos un valor para la propiedad `children` del componente `my-output` en el `layout`. Cuando la aplicación `Dash` se inicia, llama automáticamente a todos los `callbacks` con los valores iniciales de los componentes de entrada para rellenar el estado inicial de los componentes de salida. En este ejemplo, si se especifica algo como `html.Div(id='my-output', children='Hola mundo')`, se sobrescribiría cuando la aplicación se inicia. \n",
    "\n",
    "- Con la interactividad de `Dash`, podemos actualizar dinámicamente cualquier propiedad a través de una función `callback`. ¡Frecuentemente actualizaremos los `children` de un componente para mostrar nuevo texto o la figura de un componente `dcc.Graph` para mostrar nuevos datos, pero también podríamos actualizar el estilo de un componente o incluso las opciones disponibles de un componente `dcc.Dropdown`. Veamos otro ejemplo en el que un `dcc.Slider` actualiza un `dcc.Graph`."
   ]
  },
  {
   "cell_type": "markdown",
   "metadata": {},
   "source": [
    "### Dash App Layout con Figura y Sliderm"
   ]
  },
  {
   "cell_type": "markdown",
   "metadata": {},
   "source": [
    "```python\n",
    "import dash\n",
    "from dash import dcc\n",
    "from dash import html\n",
    "from dash.dependencies import Input, Output\n",
    "import plotly.express as px\n",
    "\n",
    "import pandas as pd\n",
    "\n",
    "df = pd.read_csv('https://raw.githubusercontent.com/lihkir/Uninorte/main/AppliedStatisticMS/DataVisualizationRPython/Lectures/Python/PythonDataSets/gapminderDataFiveYear.csv')\n",
    "\n",
    "app = dash.Dash(__name__)\n",
    "\n",
    "app.layout = html.Div([\n",
    "    dcc.Graph(id='graph-with-slider'),\n",
    "    dcc.Slider(\n",
    "        id='year-slider',\n",
    "        min=df['year'].min(),\n",
    "        max=df['year'].max(),\n",
    "        value=df['year'].min(),\n",
    "        marks={str(year): str(year) for year in df['year'].unique()},\n",
    "        step=None\n",
    "    )\n",
    "])\n",
    "\n",
    "@app.callback(\n",
    "    Output('graph-with-slider', 'figure'),\n",
    "    Input('year-slider', 'value'))\n",
    "def update_figure(selected_year):\n",
    "    filtered_df = df[df.year == selected_year]\n",
    "\n",
    "    fig = px.scatter(filtered_df, x=\"gdpPercap\", y=\"lifeExp\",\n",
    "                     size=\"pop\", color=\"continent\", hover_name=\"country\",\n",
    "                     log_x=True, size_max=55)\n",
    "\n",
    "    fig.update_layout(transition_duration=500)\n",
    "\n",
    "    return fig\n",
    "\n",
    "\n",
    "if __name__ == '__main__':\n",
    "    app.run_server(debug=True)\n",
    "```"
   ]
  },
  {
   "cell_type": "markdown",
   "metadata": {},
   "source": [
    "```{figure} ./imgs/dash19.png\n",
    ":name: fig_dash19\n",
    ":align: center\n",
    "```"
   ]
  },
  {
   "cell_type": "markdown",
   "metadata": {},
   "source": [
    "- Recuerde que siempre puede cambiar el estilo de su figura y la hoja. Sólo debe cambiar las siguientes lineas\n",
    "\n",
    "```python\n",
    "ext_style = \"https://cdn.jsdelivr.net/npm/bootswatch@4.5.2/dist/slate/bootstrap.min.css\"\n",
    "app = dash.Dash(external_stylesheets=[ext_style])\n",
    "\n",
    "fig = px.scatter(filtered_df, x=\"gdpPercap\", y=\"lifeExp\",\n",
    "                 size=\"pop\", color=\"continent\", hover_name=\"country\",\n",
    "                 log_x=True, size_max=55, template=\"plotly_dark\")\n",
    "```"
   ]
  },
  {
   "cell_type": "markdown",
   "metadata": {},
   "source": [
    "```{figure} ./imgs/dash20.png\n",
    ":name: fig_dash20\n",
    ":align: center\n",
    "```"
   ]
  },
  {
   "cell_type": "markdown",
   "metadata": {},
   "source": [
    "- En este ejemplo, la propiedad \"`value`\" del `dcc.Slider` es la entrada de la app y la salida de la app es la propiedad \"`figure`\" del `dcc.Graph`. Cada vez que el valor del `dcc.Slider` cambia, `Dash` llama a la función callback `update_figure` con el nuevo valor. La función filtra el dataframe con este nuevo valor, construye un objeto figura y lo devuelve a la aplicación `Dash`.\n",
    "\n",
    "- Hay algunos patrones agradables en este ejemplo:\n",
    "\n",
    "    - Utilizamos la biblioteca `Pandas` para cargar nuestro `dataframe` al inicio de la aplicación: `df = pd.read_csv('...')`. Este dataframe `df` está en el estado global de la app y puede ser leído dentro de las funciones callback.\n",
    "\n",
    "    - La carga de datos en memoria puede ser costosa. Al cargar los datos de consulta al inicio de la app en lugar de dentro de las funciones callback, nos aseguramos de que esta operación sólo se realiza cuando se inicia el servidor de la app. Cuando un usuario visita la app o interactúa con ella, esos datos (`df`) ya están en memoria. Si es posible, la inicialización costosa (como la descarga o la consulta de datos) debería hacerse en el ámbito global de la app en lugar de dentro de las funciones callback.\n",
    "\n",
    "    - El callback no modifica los datos originales, sólo crea copias del dataframe filtrando a través de los filtros de pandas. Esto es importante: sus callbacks nunca deben mutar las variables fuera de su ámbito. Si tus callbacks modifican el estado global, entonces la sesión de un usuario podría afectar a la sesión del siguiente usuario y cuando la aplicación se despliegue en múltiples procesos o hilos, esas modificaciones no se compartirán entre sesiones.\n",
    "    \n",
    "    - Activamos las transiciones con `layout.transition` para dar una idea de cómo evoluciona el conjunto de datos con el tiempo: las transiciones permiten que el gráfico se actualice de un estado a otro de forma suave, como si estuviera animado."
   ]
  },
  {
   "cell_type": "markdown",
   "metadata": {},
   "source": [
    "### Aplicación Dash con múltiples entradas\n",
    "\n",
    "- En `Dash`, cualquier \"`Output`\" puede tener múltiples componentes \"`Input`\". Aquí hay un ejemplo simple que une cinco `Inputs` (la propiedad value de dos componentes `dcc.Dropdown`, dos componentes `dcc.RadioItems`, y un componente `dcc.Slider`) a 1 componente `Output` (la propiedad figure del componente `Graph`). Observe cómo `app.callback` enumera los cinco elementos de entrada después de la salida.\n",
    "\n",
    "```python\n",
    "import dash\n",
    "from dash import dcc\n",
    "from dash import html\n",
    "from dash.dependencies import Input, Output\n",
    "import plotly.express as px\n",
    "import pandas as pd\n",
    "\n",
    "app = dash.Dash(__name__)\n",
    "\n",
    "df = pd.read_csv('https://raw.githubusercontent.com/lihkir/Uninorte/main/AppliedStatisticMS/DataVisualizationRPython/Lectures/Python/PythonDataSets/country_indicators.csv')\n",
    "\n",
    "available_indicators = df['Indicator Name'].unique()\n",
    "\n",
    "app.layout = html.Div([\n",
    "    html.Div([\n",
    "\n",
    "        html.Div([\n",
    "            dcc.Dropdown(\n",
    "                id='xaxis-column',\n",
    "                options=[{'label': i, 'value': i} for i in available_indicators],\n",
    "                value='Fertility rate, total (births per woman)'\n",
    "            ),\n",
    "            dcc.RadioItems(\n",
    "                id='xaxis-type',\n",
    "                options=[{'label': i, 'value': i} for i in ['Linear', 'Log']],\n",
    "                value='Linear',\n",
    "                labelStyle={'display': 'inline-block'}\n",
    "            )\n",
    "        ], style={'width': '48%', 'display': 'inline-block'}),\n",
    "\n",
    "        html.Div([\n",
    "            dcc.Dropdown(\n",
    "                id='yaxis-column',\n",
    "                options=[{'label': i, 'value': i} for i in available_indicators],\n",
    "                value='Life expectancy at birth, total (years)'\n",
    "            ),\n",
    "            dcc.RadioItems(\n",
    "                id='yaxis-type',\n",
    "                options=[{'label': i, 'value': i} for i in ['Linear', 'Log']],\n",
    "                value='Linear',\n",
    "                labelStyle={'display': 'inline-block'}\n",
    "            )\n",
    "        ], style={'width': '48%', 'float': 'right', 'display': 'inline-block'})\n",
    "    ]),\n",
    "\n",
    "    dcc.Graph(id='indicator-graphic'),\n",
    "\n",
    "    dcc.Slider(\n",
    "        id='year--slider',\n",
    "        min=df['Year'].min(),\n",
    "        max=df['Year'].max(),\n",
    "        value=df['Year'].max(),\n",
    "        marks={str(year): str(year) for year in df['Year'].unique()},\n",
    "        step=None\n",
    "    )\n",
    "])\n",
    "\n",
    "\n",
    "@app.callback(\n",
    "    Output('indicator-graphic', 'figure'),\n",
    "    Input('xaxis-column', 'value'),\n",
    "    Input('yaxis-column', 'value'),\n",
    "    Input('xaxis-type', 'value'),\n",
    "    Input('yaxis-type', 'value'),\n",
    "    Input('year--slider', 'value'))\n",
    "def update_graph(xaxis_column_name, yaxis_column_name,\n",
    "                 xaxis_type, yaxis_type,\n",
    "                 year_value):\n",
    "    dff = df[df['Year'] == year_value]\n",
    "\n",
    "    fig = px.scatter(x=dff[dff['Indicator Name'] == xaxis_column_name]['Value'],\n",
    "                     y=dff[dff['Indicator Name'] == yaxis_column_name]['Value'],\n",
    "                     hover_name=dff[dff['Indicator Name'] == yaxis_column_name]['Country Name'])\n",
    "\n",
    "    fig.update_layout(margin={'l': 40, 'b': 40, 't': 10, 'r': 0}, hovermode='closest')\n",
    "\n",
    "    fig.update_xaxes(title=xaxis_column_name,\n",
    "                     type='linear' if xaxis_type == 'Linear' else 'log')\n",
    "\n",
    "    fig.update_yaxes(title=yaxis_column_name,\n",
    "                     type='linear' if yaxis_type == 'Linear' else 'log')\n",
    "\n",
    "    return fig\n",
    "\n",
    "\n",
    "if __name__ == '__main__':\n",
    "    app.run_server(debug=True)\n",
    "```"
   ]
  },
  {
   "cell_type": "markdown",
   "metadata": {},
   "source": [
    "```{figure} ./imgs/dash21.png\n",
    ":name: fig_dash21\n",
    ":align: center\n",
    "```"
   ]
  },
  {
   "cell_type": "markdown",
   "metadata": {},
   "source": [
    "- En este ejemplo, la llamada de retorno se ejecuta cada vez que cambia la propiedad value de los componentes `dcc.Dropdown, dcc.Slider` o `dcc.RadioItems`. Los argumentos de entrada de la llamada de retorno son el valor nuevo o actual de cada una de las propiedades de entrada, en el orden en que fueron especificadas.\n",
    "\n",
    "- Aunque sólo un único `Input` cambia a la vez (un usuario sólo puede cambiar el valor de un único `Dropdown` en un momento dado), `Dash` recoge el estado actual de todas las propiedades `Input` especificadas y las pasa a su función por usted. Se garantiza que tus funciones `callback` siempre reciben el estado representativo de la aplicación."
   ]
  },
  {
   "cell_type": "markdown",
   "metadata": {},
   "source": [
    "### Aplicación Dash con múltiples salidas\n",
    "\n",
    "- Hasta ahora todos los `callbacks` que hemos escrito sólo actualizan una propiedad de salida. También podemos actualizar varias a la vez: enumera todas las propiedades que quieras actualizar en `app.callback`, y devuelve ese número de elementos desde el `callback`. Esto es particularmente bueno si dos salidas dependen del mismo resultado intermedio computacionalmente intenso, como una consulta lenta a la base de datos.\n",
    "\n",
    "```python\n",
    "import dash\n",
    "from dash import dcc\n",
    "from dash import html\n",
    "from dash.dependencies import Input, Output\n",
    "\n",
    "external_stylesheets = ['https://codepen.io/chriddyp/pen/bWLwgP.css']\n",
    "app = dash.Dash(__name__, external_stylesheets=external_stylesheets)\n",
    "\n",
    "app.layout = html.Div([\n",
    "    dcc.Input(\n",
    "        id='num-multi',\n",
    "        type='number',\n",
    "        value=5\n",
    "    ),\n",
    "    html.Table([\n",
    "        html.Tr([html.Td(['x', html.Sup(2)]), html.Td(id='square')]),\n",
    "        html.Tr([html.Td(['x', html.Sup(3)]), html.Td(id='cube')]),\n",
    "        html.Tr([html.Td([2, html.Sup('x')]), html.Td(id='twos')]),\n",
    "        html.Tr([html.Td([3, html.Sup('x')]), html.Td(id='threes')]),\n",
    "        html.Tr([html.Td(['x', html.Sup('x')]), html.Td(id='x^x')]),\n",
    "    ]),\n",
    "])\n",
    "\n",
    "\n",
    "@app.callback(\n",
    "    Output('square', 'children'),\n",
    "    Output('cube', 'children'),\n",
    "    Output('twos', 'children'),\n",
    "    Output('threes', 'children'),\n",
    "    Output('x^x', 'children'),\n",
    "    Input('num-multi', 'value'))\n",
    "def callback_a(x):\n",
    "    return x**2, x**3, 2**x, 3**x, x**x\n",
    "\n",
    "if __name__ == '__main__':\n",
    "    app.run_server(debug=True)\n",
    "```\n",
    "\n",
    "- No siempre es una buena idea combinar las salidas, aunque se pueda. Si las Salidas dependen de algunas pero no todas las mismas Entradas, mantenerlas separadas puede evitar actualizaciones innecesarias. Si tienen las mismas Entradas pero hacen cálculos independientes con estas entradas, mantener las devoluciones de llamada separadas puede permitir que se ejecuten en paralelo."
   ]
  },
  {
   "cell_type": "markdown",
   "metadata": {},
   "source": [
    "### Dash App con callbacks encadenados\n",
    "\n",
    "- También puedes encadenar salidas y entradas: la salida de una función `callback` puede ser la entrada de otra función `callback`. Este patrón puede ser utilizado para crear `UIs` dinámicas donde un componente de entrada actualiza las opciones disponibles del siguiente componente de entrada\n",
    "\n",
    "```python\n",
    "import dash\n",
    "from dash import dcc\n",
    "from dash import html\n",
    "from dash.dependencies import Input, Output\n",
    "\n",
    "external_stylesheets = ['https://codepen.io/chriddyp/pen/bWLwgP.css']\n",
    "\n",
    "app = dash.Dash(__name__, external_stylesheets=external_stylesheets)\n",
    "\n",
    "all_options = {\n",
    "    'America': ['New York City', 'San Francisco', 'Cincinnati'],\n",
    "    'Canada': [u'Montréal', 'Toronto', 'Ottawa']\n",
    "}\n",
    "app.layout = html.Div([\n",
    "    dcc.RadioItems(\n",
    "        id='countries-radio',\n",
    "        options=[{'label': k, 'value': k} for k in all_options.keys()],\n",
    "        value='America'\n",
    "    ),\n",
    "\n",
    "    html.Hr(),\n",
    "\n",
    "    dcc.RadioItems(id='cities-radio'),\n",
    "\n",
    "    html.Hr(),\n",
    "\n",
    "    html.Div(id='display-selected-values')\n",
    "])\n",
    "\n",
    "\n",
    "@app.callback(\n",
    "    Output('cities-radio', 'options'),\n",
    "    Input('countries-radio', 'value'))\n",
    "def set_cities_options(selected_country):\n",
    "    return [{'label': i, 'value': i} for i in all_options[selected_country]]\n",
    "\n",
    "\n",
    "@app.callback(\n",
    "    Output('cities-radio', 'value'),\n",
    "    Input('cities-radio', 'options'))\n",
    "def set_cities_value(available_options):\n",
    "    return available_options[0]['value']\n",
    "\n",
    "\n",
    "@app.callback(\n",
    "    Output('display-selected-values', 'children'),\n",
    "    Input('countries-radio', 'value'),\n",
    "    Input('cities-radio', 'value'))\n",
    "def set_display_children(selected_country, selected_city):\n",
    "    return u'{} is a city in {}'.format(\n",
    "        selected_city, selected_country,\n",
    "    )\n",
    "\n",
    "\n",
    "if __name__ == '__main__':\n",
    "    app.run_server(debug=True)\n",
    "```"
   ]
  },
  {
   "cell_type": "markdown",
   "metadata": {},
   "source": [
    "```{figure} ./imgs/dash22.png\n",
    ":name: fig_dash22\n",
    ":align: center\n",
    "```"
   ]
  },
  {
   "cell_type": "markdown",
   "metadata": {},
   "source": [
    "- El primer `callback` actualiza las opciones disponibles en el segundo componente `dcc.RadioItems` basándose en el valor seleccionado en el primer componente `dcc.RadioItems`.\n",
    "\n",
    "- El segundo `callback` establece un valor inicial cuando la propiedad options cambia: lo establece al primer valor de ese array de opciones.\n",
    "\n",
    "- La última llamada de retorno muestra el valor seleccionado de cada componente. Si cambia el valor del componente countries `dcc.RadioItems`, `Dash` esperará hasta que se actualice el valor del componente `cities` antes de llamar al `callback` final. Esto evita que sus `callbacks` sean llamados con un estado inconsistente como con \"`America`\" y \"`Montréal`\"."
   ]
  },
  {
   "cell_type": "markdown",
   "metadata": {},
   "source": [
    "### Dash App con Estado\n",
    "\n",
    "- En algunos casos, puede tener un patrón de tipo \"formulario\" en su aplicación. En esta situación, es posible que quieras leer el valor del componente de entrada, pero sólo cuando el usuario haya terminado de introducir toda su información en el formulario. Adjuntar una llamada de retorno a los valores de entrada directamente puede tener este aspecto:\n",
    "\n",
    "\n",
    "```python\n",
    "import dash\n",
    "from dash import dcc\n",
    "from dash import html\n",
    "from dash.dependencies import Input, Output\n",
    "\n",
    "external_stylesheets = [\"https://codepen.io/chriddyp/pen/bWLwgP.css\"]\n",
    "\n",
    "app = dash.Dash(__name__, external_stylesheets=external_stylesheets)\n",
    "\n",
    "app.layout = html.Div([\n",
    "    dcc.Input(id=\"input-1\", type=\"text\", value=\"Montréal\"),\n",
    "    dcc.Input(id=\"input-2\", type=\"text\", value=\"Canada\"),\n",
    "    html.Div(id=\"number-output\"),\n",
    "])\n",
    "\n",
    "\n",
    "@app.callback(\n",
    "    Output(\"number-output\", \"children\"),\n",
    "    Input(\"input-1\", \"value\"),\n",
    "    Input(\"input-2\", \"value\"),\n",
    ")\n",
    "def update_output(input1, input2):\n",
    "    return u'Input 1 is \"{}\" and Input 2 is \"{}\"'.format(input1, input2)\n",
    "\n",
    "\n",
    "if __name__ == \"__main__\":\n",
    "    app.run_server(debug=True)\n",
    "```"
   ]
  },
  {
   "cell_type": "markdown",
   "metadata": {},
   "source": [
    "```{figure} ./imgs/dash23.png\n",
    ":name: fig_dash23\n",
    ":align: center\n",
    "```"
   ]
  },
  {
   "cell_type": "markdown",
   "metadata": {},
   "source": [
    "- En este ejemplo, la función `callback` se dispara cada vez que cambia alguno de los atributos descritos por la Entrada. Pruébelo usted mismo introduciendo datos en las entradas anteriores. El estado le permite pasar valores adicionales sin disparar las devoluciones de llamada. Aquí está el mismo ejemplo anterior pero con el `dcc.Input` como `State` y un botón como `Input`.\n",
    "\n",
    "```python\n",
    "import dash\n",
    "from dash import dcc\n",
    "from dash import html\n",
    "from dash.dependencies import Input, Output, State\n",
    "import dash_design_kit as ddk\n",
    "\n",
    "external_stylesheets = ['https://codepen.io/chriddyp/pen/bWLwgP.css']\n",
    "\n",
    "app = dash.Dash(__name__, external_stylesheets=external_stylesheets)\n",
    "\n",
    "app.layout = html.Div([\n",
    "    dcc.Input(id='input-1-state', type='text', value='Montréal'),\n",
    "    dcc.Input(id='input-2-state', type='text', value='Canada'),\n",
    "    html.Button(id='submit-button-state', n_clicks=0, children='Submit'),\n",
    "    html.Div(id='output-state')\n",
    "])\n",
    "\n",
    "\n",
    "@app.callback(Output('output-state', 'children'),\n",
    "              Input('submit-button-state', 'n_clicks'),\n",
    "              State('input-1-state', 'value'),\n",
    "              State('input-2-state', 'value'))\n",
    "def update_output(n_clicks, input1, input2):\n",
    "    return u'''\n",
    "        The Button has been pressed {} times,\n",
    "        Input 1 is \"{}\",\n",
    "        and Input 2 is \"{}\"\n",
    "    '''.format(n_clicks, input1, input2)\n",
    "\n",
    "\n",
    "if __name__ == '__main__':\n",
    "    app.run_server(debug=True)\n",
    "```\n",
    "\n",
    "- En este ejemplo, el cambio de texto en los cuadros `dcc.Input` no disparará el `callback` pero sí lo hará el clic en el botón. Los valores actuales de los valores de `dcc.Input` son pasados al `callback` aunque no activen la función `callback` en sí.\n",
    "\n",
    "- Tenga en cuenta que estamos activando el `callback` escuchando la propiedad `n_clicks` del componente `html.Button`. `n_clicks` es una propiedad que se incrementa cada vez que se hace clic en el componente. Está disponible en todos los componentes de la biblioteca `dash_html_components`."
   ]
  },
  {
   "cell_type": "markdown",
   "metadata": {},
   "source": [
    "```{figure} ./imgs/dash24.png\n",
    ":name: fig_dash24\n",
    ":align: center\n",
    "```"
   ]
  },
  {
   "cell_type": "markdown",
   "metadata": {},
   "source": [
    "- En este ejemplo, el cambio de texto en los cuadros `dcc.Input` no disparará el callback pero sí lo hará el clic en el botón. Los valores actuales de los valores de `dcc.Input` son pasados al callback aunque no activen la función callback en sí.\n",
    "\n",
    "- Tenga en cuenta que estamos activando el callback escuchando la propiedad `n_clicks` del componente `html.Button`. `n_clicks` es una propiedad que se incrementa cada vez que se hace clic en el componente. Está disponible en todos los componentes de la biblioteca `dash_html_components`.\n",
    "\n",
    "- Hemos cubierto los fundamentos de los `callbacks` en `Dash`. Las aplicaciones `Dash` están construidas a partir de un conjunto de principios simples pero poderosos: `UIs` declarativas que son personalizables a través de callbacks reactivos y funcionales de `Python`. Cada atributo del elemento de los componentes declarativos puede ser actualizado a través de un `callback` y un subconjunto de los atributos, como las propiedades del valor del `dcc.Dropdown`, son editables por el usuario en la interfaz."
   ]
  },
  {
   "cell_type": "markdown",
   "metadata": {},
   "source": [
    "### Actualizar gráficos al deslizar el cursor\n",
    "\n",
    "- Actualicemos nuestro ejemplo de indicadores mundiales del capítulo anterior, actualizando las series de tiempo cuando pasamos por encima de los puntos de nuestro gráfico de dispersión.\n",
    "\n",
    "```python\n",
    "import dash\n",
    "from dash import dcc\n",
    "from dash import html\n",
    "import pandas as pd\n",
    "import plotly.express as px\n",
    "\n",
    "external_stylesheets = ['https://codepen.io/chriddyp/pen/bWLwgP.css']\n",
    "\n",
    "app = dash.Dash(__name__, external_stylesheets=external_stylesheets)\n",
    "\n",
    "df = pd.read_csv('https://raw.githubusercontent.com/lihkir/Uninorte/main/AppliedStatisticMS/DataVisualizationRPython/Lectures/Python/PythonDataSets/country_indicators.csv')\n",
    "\n",
    "available_indicators = df['Indicator Name'].unique()\n",
    "\n",
    "app.layout = html.Div([\n",
    "    html.Div([\n",
    "\n",
    "        html.Div([\n",
    "            dcc.Dropdown(\n",
    "                id='crossfilter-xaxis-column',\n",
    "                options=[{'label': i, 'value': i} for i in available_indicators],\n",
    "                value='Fertility rate, total (births per woman)'\n",
    "            ),\n",
    "            dcc.RadioItems(\n",
    "                id='crossfilter-xaxis-type',\n",
    "                options=[{'label': i, 'value': i} for i in ['Linear', 'Log']],\n",
    "                value='Linear',\n",
    "                labelStyle={'display': 'inline-block', 'marginTop': '5px'}\n",
    "            )\n",
    "        ],\n",
    "        style={'width': '49%', 'display': 'inline-block'}),\n",
    "\n",
    "        html.Div([\n",
    "            dcc.Dropdown(\n",
    "                id='crossfilter-yaxis-column',\n",
    "                options=[{'label': i, 'value': i} for i in available_indicators],\n",
    "                value='Life expectancy at birth, total (years)'\n",
    "            ),\n",
    "            dcc.RadioItems(\n",
    "                id='crossfilter-yaxis-type',\n",
    "                options=[{'label': i, 'value': i} for i in ['Linear', 'Log']],\n",
    "                value='Linear',\n",
    "                labelStyle={'display': 'inline-block', 'marginTop': '5px'}\n",
    "            )\n",
    "        ], style={'width': '49%', 'float': 'right', 'display': 'inline-block'})\n",
    "    ], style={\n",
    "        'padding': '10px 5px'\n",
    "    }),\n",
    "\n",
    "    html.Div([\n",
    "        dcc.Graph(\n",
    "            id='crossfilter-indicator-scatter',\n",
    "            hoverData={'points': [{'customdata': 'Japan'}]}\n",
    "        )\n",
    "    ], style={'width': '49%', 'display': 'inline-block', 'padding': '0 20'}),\n",
    "    html.Div([\n",
    "        dcc.Graph(id='x-time-series'),\n",
    "        dcc.Graph(id='y-time-series'),\n",
    "    ], style={'display': 'inline-block', 'width': '49%'}),\n",
    "\n",
    "    html.Div(dcc.Slider(\n",
    "        id='crossfilter-year--slider',\n",
    "        min=df['Year'].min(),\n",
    "        max=df['Year'].max(),\n",
    "        value=df['Year'].max(),\n",
    "        marks={str(year): str(year) for year in df['Year'].unique()},\n",
    "        step=None\n",
    "    ), style={'width': '49%', 'padding': '0px 20px 20px 20px'})\n",
    "])\n",
    "\n",
    "\n",
    "@app.callback(\n",
    "    dash.dependencies.Output('crossfilter-indicator-scatter', 'figure'),\n",
    "    [dash.dependencies.Input('crossfilter-xaxis-column', 'value'),\n",
    "     dash.dependencies.Input('crossfilter-yaxis-column', 'value'),\n",
    "     dash.dependencies.Input('crossfilter-xaxis-type', 'value'),\n",
    "     dash.dependencies.Input('crossfilter-yaxis-type', 'value'),\n",
    "     dash.dependencies.Input('crossfilter-year--slider', 'value')])\n",
    "def update_graph(xaxis_column_name, yaxis_column_name,\n",
    "                 xaxis_type, yaxis_type,\n",
    "                 year_value):\n",
    "    dff = df[df['Year'] == year_value]\n",
    "\n",
    "    fig = px.scatter(x=dff[dff['Indicator Name'] == xaxis_column_name]['Value'],\n",
    "            y=dff[dff['Indicator Name'] == yaxis_column_name]['Value'],\n",
    "            hover_name=dff[dff['Indicator Name'] == yaxis_column_name]['Country Name']\n",
    "            )\n",
    "\n",
    "    fig.update_traces(customdata=dff[dff['Indicator Name'] == yaxis_column_name]['Country Name'])\n",
    "\n",
    "    fig.update_xaxes(title=xaxis_column_name, type='linear' if xaxis_type == 'Linear' else 'log')\n",
    "\n",
    "    fig.update_yaxes(title=yaxis_column_name, type='linear' if yaxis_type == 'Linear' else 'log')\n",
    "\n",
    "    fig.update_layout(margin={'l': 40, 'b': 40, 't': 10, 'r': 0}, hovermode='closest')\n",
    "\n",
    "    return fig\n",
    "\n",
    "\n",
    "def create_time_series(dff, axis_type, title):\n",
    "\n",
    "    fig = px.scatter(dff, x='Year', y='Value')\n",
    "\n",
    "    fig.update_traces(mode='lines+markers')\n",
    "\n",
    "    fig.update_xaxes(showgrid=False)\n",
    "\n",
    "    fig.update_yaxes(type='linear' if axis_type == 'Linear' else 'log')\n",
    "\n",
    "    fig.add_annotation(x=0, y=0.85, xanchor='left', yanchor='bottom',\n",
    "                       xref='paper', yref='paper', showarrow=False, align='left',\n",
    "                       text=title)\n",
    "\n",
    "    fig.update_layout(height=225, margin={'l': 20, 'b': 30, 'r': 10, 't': 10})\n",
    "\n",
    "    return fig\n",
    "\n",
    "\n",
    "@app.callback(\n",
    "    dash.dependencies.Output('x-time-series', 'figure'),\n",
    "    [dash.dependencies.Input('crossfilter-indicator-scatter', 'hoverData'),\n",
    "     dash.dependencies.Input('crossfilter-xaxis-column', 'value'),\n",
    "     dash.dependencies.Input('crossfilter-xaxis-type', 'value')])\n",
    "def update_y_timeseries(hoverData, xaxis_column_name, axis_type):\n",
    "    country_name = hoverData['points'][0]['customdata']\n",
    "    dff = df[df['Country Name'] == country_name]\n",
    "    dff = dff[dff['Indicator Name'] == xaxis_column_name]\n",
    "    title = '<b>{}</b><br>{}'.format(country_name, xaxis_column_name)\n",
    "    return create_time_series(dff, axis_type, title)\n",
    "\n",
    "\n",
    "@app.callback(\n",
    "    dash.dependencies.Output('y-time-series', 'figure'),\n",
    "    [dash.dependencies.Input('crossfilter-indicator-scatter', 'hoverData'),\n",
    "     dash.dependencies.Input('crossfilter-yaxis-column', 'value'),\n",
    "     dash.dependencies.Input('crossfilter-yaxis-type', 'value')])\n",
    "def update_x_timeseries(hoverData, yaxis_column_name, axis_type):\n",
    "    dff = df[df['Country Name'] == hoverData['points'][0]['customdata']]\n",
    "    dff = dff[dff['Indicator Name'] == yaxis_column_name]\n",
    "    return create_time_series(dff, axis_type, yaxis_column_name)\n",
    "\n",
    "\n",
    "if __name__ == '__main__':\n",
    "    app.run_server(debug=True)\n",
    "```\n",
    "\n",
    "- Intente pasar el mouse por encima de los puntos del gráfico de dispersión de la izquierda. ¿Observa cómo los gráficos de líneas de la derecha se actualizan en función del punto sobre el que pasas el mouse?."
   ]
  },
  {
   "cell_type": "markdown",
   "metadata": {},
   "source": [
    "```{figure} ./imgs/dash25.png\n",
    ":name: fig_dash25\n",
    ":align: center\n",
    "```"
   ]
  },
  {
   "cell_type": "markdown",
   "metadata": {},
   "source": [
    "### Dos ejemplos de Dash"
   ]
  },
  {
   "cell_type": "markdown",
   "metadata": {},
   "source": [
    "- En esta sección estudiaremos dos ejemplos de app dash para poner en practica los estudiado en las dos primeras secciones. El primero es relacionado con mapas y el segundo con series de tiempo financieras. El objetivo principal es hacer uso de la metodología aprender por ejemplos"
   ]
  },
  {
   "cell_type": "markdown",
   "metadata": {},
   "source": [
    "### Dash App para Mapas"
   ]
  },
  {
   "cell_type": "markdown",
   "metadata": {},
   "source": [
    "- Iniciamos cargando el `DataFrame` a utlizar en nuestra app. Los datos provienen del archivo `intro_bees.csv` que contiene información sobre enfermedades que afectan a ciertas colonias de abejas, en determinados estados en USA. Las columnas de interés en este ejemplo son: `['State', 'ANSI', 'Affected by', 'Year', 'state_code']`.  El código `ANSI` es el Código del Instituto Nacional de Normalización: `American National Standards Institute codes (ANSI codes)`"
   ]
  },
  {
   "cell_type": "code",
   "execution_count": 1,
   "metadata": {
    "scrolled": true
   },
   "outputs": [],
   "source": [
    "import pandas as pd\n",
    "\n",
    "df = pd.read_csv(\"https://raw.githubusercontent.com/lihkir/Uninorte/main/AppliedStatisticMS/DataVisualizationRPython/Lectures/Python/PythonDataSets/intro_bees.csv\")"
   ]
  },
  {
   "cell_type": "markdown",
   "metadata": {},
   "source": [
    "- Luego agrupamos nuestro `DataFrame` basados en las columnas de interés y calculamos el porcentaje promedio de colonias afectadas para esta agrupación `'Pct of Colonies Impacted'`"
   ]
  },
  {
   "cell_type": "code",
   "execution_count": 2,
   "metadata": {
    "scrolled": true
   },
   "outputs": [
    {
     "data": {
      "text/html": [
       "<div>\n",
       "<style scoped>\n",
       "    .dataframe tbody tr th:only-of-type {\n",
       "        vertical-align: middle;\n",
       "    }\n",
       "\n",
       "    .dataframe tbody tr th {\n",
       "        vertical-align: top;\n",
       "    }\n",
       "\n",
       "    .dataframe thead th {\n",
       "        text-align: right;\n",
       "    }\n",
       "</style>\n",
       "<table border=\"1\" class=\"dataframe\">\n",
       "  <thead>\n",
       "    <tr style=\"text-align: right;\">\n",
       "      <th></th>\n",
       "      <th>State</th>\n",
       "      <th>ANSI</th>\n",
       "      <th>Affected by</th>\n",
       "      <th>Year</th>\n",
       "      <th>state_code</th>\n",
       "      <th>Pct of Colonies Impacted</th>\n",
       "    </tr>\n",
       "  </thead>\n",
       "  <tbody>\n",
       "    <tr>\n",
       "      <th>0</th>\n",
       "      <td>Alabama</td>\n",
       "      <td>1</td>\n",
       "      <td>Disease</td>\n",
       "      <td>2015</td>\n",
       "      <td>AL</td>\n",
       "      <td>0.05</td>\n",
       "    </tr>\n",
       "    <tr>\n",
       "      <th>1</th>\n",
       "      <td>Alabama</td>\n",
       "      <td>1</td>\n",
       "      <td>Disease</td>\n",
       "      <td>2016</td>\n",
       "      <td>AL</td>\n",
       "      <td>1.20</td>\n",
       "    </tr>\n",
       "    <tr>\n",
       "      <th>2</th>\n",
       "      <td>Alabama</td>\n",
       "      <td>1</td>\n",
       "      <td>Disease</td>\n",
       "      <td>2017</td>\n",
       "      <td>AL</td>\n",
       "      <td>2.25</td>\n",
       "    </tr>\n",
       "    <tr>\n",
       "      <th>3</th>\n",
       "      <td>Alabama</td>\n",
       "      <td>1</td>\n",
       "      <td>Disease</td>\n",
       "      <td>2018</td>\n",
       "      <td>AL</td>\n",
       "      <td>1.30</td>\n",
       "    </tr>\n",
       "    <tr>\n",
       "      <th>4</th>\n",
       "      <td>Alabama</td>\n",
       "      <td>1</td>\n",
       "      <td>Disease</td>\n",
       "      <td>2019</td>\n",
       "      <td>AL</td>\n",
       "      <td>1.80</td>\n",
       "    </tr>\n",
       "  </tbody>\n",
       "</table>\n",
       "</div>"
      ],
      "text/plain": [
       "     State  ANSI Affected by  Year state_code  Pct of Colonies Impacted\n",
       "0  Alabama     1     Disease  2015         AL                      0.05\n",
       "1  Alabama     1     Disease  2016         AL                      1.20\n",
       "2  Alabama     1     Disease  2017         AL                      2.25\n",
       "3  Alabama     1     Disease  2018         AL                      1.30\n",
       "4  Alabama     1     Disease  2019         AL                      1.80"
      ]
     },
     "execution_count": 2,
     "metadata": {},
     "output_type": "execute_result"
    }
   ],
   "source": [
    "df = df.groupby(['State', 'ANSI', 'Affected by', 'Year', 'state_code'])[['Pct of Colonies Impacted']].mean()\n",
    "df.reset_index(inplace=True)\n",
    "df.head()"
   ]
  },
  {
   "cell_type": "markdown",
   "metadata": {},
   "source": [
    "- Comenzamos a implementar nuestro `app.layout` que como es sabido, esta componente corresponde al \"diseño\" de la aplicación y describe el aspecto de la misma. `html.H1` recuerde que es una envoltura para el elemento `<h1> de HTML5`, elemento de encabezado de primer nivel. Luego de esto escribimos nuestro `dcc.Dropdown` con su respectivo `id` el cual sera invocado por nuesta función `callback`. El `dcc.Dropdown` corresponde a nuestro menu de opciones, en las que colocamos por defecto `value=2015`. Luego escribimos un nuevo `html.Div` para crear un output que entregue como mensaje cual fué el años seleccionado, esta es una clase `children`, pues depende del input suministrado en el `Dropdown`. Luego agregamos el componente `dcc.Graph` se puede utilizar para renderizar cualquier visualización de datos `plotly-powered`, recibe como argumento `figure`. Nótese que se le asgina también un `id` el cual será leido por nuestro `callback`"
   ]
  },
  {
   "cell_type": "markdown",
   "metadata": {},
   "source": [
    "```python\n",
    "app.layout = html.Div([\n",
    "    html.H1(\"Web Application Dashboards with Dash\", style={'text-align': 'center'}),\n",
    "    dcc.Dropdown(id=\"slct_year\",\n",
    "                 options=[\n",
    "                     {\"label\": \"2015\", \"value\": 2015},\n",
    "                     {\"label\": \"2016\", \"value\": 2016},\n",
    "                     {\"label\": \"2017\", \"value\": 2017},\n",
    "                     {\"label\": \"2018\", \"value\": 2018}],\n",
    "                 multi=False,\n",
    "                 value=2015,\n",
    "                 style={'width': \"40%\"}\n",
    "                 ),\n",
    "    html.Div(id='output_container', children=[]),\n",
    "    html.Br(),\n",
    "    dcc.Graph(id='my_bee_map', figure={})\n",
    "])\n",
    "```"
   ]
  },
  {
   "cell_type": "markdown",
   "metadata": {},
   "source": [
    "- Pasamos a implementar nuestra función `callback`. En nuestro `callback` nótese que tenemos dos outputs, `output_container` que es tipo `children`, recuerde que el propósito de la propiedad children es permitir a los usuarios anidar componentes, tal y como hacemos en `HTML`, en éste caso `Input()` permite a un componente father actualizar datos en el componente children. La función `update_graph` recibe una sola componente, esto es porque tenemos un sólo input, dado que los outputs son dos, uestro `callback` debe también retornar dos objetos, los cuales en este caso llamamos `container` y `fig`."
   ]
  },
  {
   "cell_type": "markdown",
   "metadata": {},
   "source": [
    "```python\n",
    "@app.callback(\n",
    "    [Output(component_id='output_container', component_property='children'),\n",
    "     Output(component_id='my_bee_map', component_property='figure')],\n",
    "    [Input(component_id='slct_year', component_property='value')]\n",
    ")\n",
    "def update_graph(option_slctd):\n",
    "    print(option_slctd)\n",
    "    print(type(option_slctd))\n",
    "\n",
    "    container = \"The year chosen by user was: {}\".format(option_slctd)\n",
    "\n",
    "    dff = df.copy()\n",
    "    dff = dff[dff[\"Year\"] == option_slctd]\n",
    "    dff = dff[dff[\"Affected by\"] == \"Varroa_mites\"]\n",
    "\n",
    "    fig = px.choropleth(\n",
    "        data_frame=dff,\n",
    "        locationmode='USA-states',\n",
    "        locations='state_code',\n",
    "        scope=\"usa\",\n",
    "        color='Pct of Colonies Impacted',\n",
    "        hover_data=['State', 'Pct of Colonies Impacted'],\n",
    "        color_continuous_scale=px.colors.sequential.YlOrRd,\n",
    "        labels={'Pct of Colonies Impacted': '% of Bee Colonies'},\n",
    "        template='plotly_dark'\n",
    "    )\n",
    "\n",
    "    return container, fig\n",
    "```"
   ]
  },
  {
   "cell_type": "markdown",
   "metadata": {},
   "source": [
    "- La siguiente función ya estudiada anteriormente nos permite ejecutar nuestra aplicación, colocamos la opción `debug=True` para poder activar todas las opciones de debug en nuestra app"
   ]
  },
  {
   "cell_type": "markdown",
   "metadata": {},
   "source": [
    "```python\n",
    "if __name__ == '__main__':\n",
    "    app.run_server(debug=True)\n",
    "```"
   ]
  },
  {
   "cell_type": "markdown",
   "metadata": {},
   "source": [
    "- Así vamos a visualizar nuestra plicación luego de cada uno de los paso mencionados anteriormente"
   ]
  },
  {
   "cell_type": "markdown",
   "metadata": {},
   "source": [
    "```{figure} ./imgs/dash26.png\n",
    ":name: fig_dash26\n",
    ":align: center\n",
    "```"
   ]
  },
  {
   "cell_type": "markdown",
   "metadata": {},
   "source": [
    "- El codigo completo utlizado en este ejemplo es el siguiente\n",
    "\n",
    "```python\n",
    "import pandas as pd\n",
    "import plotly.express as px\n",
    "import plotly.graph_objects as go\n",
    "from dash import Dash, dcc, html, Input, Output\n",
    "\n",
    "app = Dash(__name__)\n",
    "\n",
    "df = pd.read_csv(\"https://raw.githubusercontent.com/lihkir/Uninorte/main/AppliedStatisticMS/DataVisualizationRPython/Lectures/Python/PythonDataSets/intro_bees.csv\")\n",
    "\n",
    "df = df.groupby(['State', 'ANSI', 'Affected by', 'Year', 'state_code'])[['Pct of Colonies Impacted']].mean()\n",
    "df.reset_index(inplace=True)\n",
    "print(df[:5])\n",
    "\n",
    "app.layout = html.Div([\n",
    "    html.H1(\"Web Application Dashboards with Dash\", style={'text-align': 'center'}),\n",
    "    dcc.Dropdown(id=\"slct_year\",\n",
    "                 options=[\n",
    "                     {\"label\": \"2015\", \"value\": 2015},\n",
    "                     {\"label\": \"2016\", \"value\": 2016},\n",
    "                     {\"label\": \"2017\", \"value\": 2017},\n",
    "                     {\"label\": \"2018\", \"value\": 2018}],\n",
    "                 multi=False,\n",
    "                 value=2015,\n",
    "                 style={'width': \"40%\"}\n",
    "                 ),\n",
    "    html.Div(id='output_container', children=[]),\n",
    "    html.Br(),\n",
    "    dcc.Graph(id='my_bee_map', figure={})\n",
    "])\n",
    "\n",
    "@app.callback(\n",
    "    [Output(component_id='output_container', component_property='children'),\n",
    "     Output(component_id='my_bee_map', component_property='figure')],\n",
    "    [Input(component_id='slct_year', component_property='value')]\n",
    ")\n",
    "def update_graph(option_slctd):\n",
    "\n",
    "    container = \"The year chosen by user was: {}\".format(option_slctd)\n",
    "\n",
    "    dff = df.copy()\n",
    "    dff = dff[dff[\"Year\"] == option_slctd]\n",
    "    dff = dff[dff[\"Affected by\"] == \"Varroa_mites\"]\n",
    "\n",
    "    fig = px.choropleth(\n",
    "        data_frame=dff,\n",
    "        locationmode='USA-states',\n",
    "        locations='state_code',\n",
    "        scope=\"usa\",\n",
    "        color='Pct of Colonies Impacted',\n",
    "        hover_data=['State', 'Pct of Colonies Impacted'],\n",
    "        color_continuous_scale=px.colors.sequential.YlOrRd,\n",
    "        labels={'Pct of Colonies Impacted': '% of Bee Colonies'},\n",
    "        template='plotly_dark'\n",
    "    )\n",
    "\n",
    "    return container, fig\n",
    "\n",
    "if __name__ == '__main__':\n",
    "    app.run_server(debug=True)\n",
    "```"
   ]
  },
  {
   "cell_type": "markdown",
   "metadata": {},
   "source": [
    "### Dash App Financiera"
   ]
  },
  {
   "cell_type": "markdown",
   "metadata": {},
   "source": [
    "- En esta aplicación graficaremos el precio de distintos stocks, junto al indicador de análisis tecnico, `Bollinger Bands`. Este indicador considera para el stock, la media del orden de preferencia, y a esta le suma y resta la desviación estándar para tener la banda. Este indicador en bastante utilizado en análisis financieros, sobre todo cuando deseamos conocer posibles sectores de compra y venta."
   ]
  },
  {
   "cell_type": "markdown",
   "metadata": {},
   "source": [
    "- Para esta app utlizaremos la librería `colorlover` la cual nos permitirá obtener una escala de colores a elegir para nuestras `bollinger bands`. Para instalarla utilizar la orden:\n",
    "```shell\n",
    "pip install colorlover\n",
    "```\n",
    "- Comenzamos por cargar el `DataFrame` que contiene los datos de los stocks de interés: `AAPL, TSLA, COKE, YHOO, GOOGL`, los cuales aparecen en nuestra columna `Stock`"
   ]
  },
  {
   "cell_type": "code",
   "execution_count": 3,
   "metadata": {},
   "outputs": [
    {
     "data": {
      "text/html": [
       "<div>\n",
       "<style scoped>\n",
       "    .dataframe tbody tr th:only-of-type {\n",
       "        vertical-align: middle;\n",
       "    }\n",
       "\n",
       "    .dataframe tbody tr th {\n",
       "        vertical-align: top;\n",
       "    }\n",
       "\n",
       "    .dataframe thead th {\n",
       "        text-align: right;\n",
       "    }\n",
       "</style>\n",
       "<table border=\"1\" class=\"dataframe\">\n",
       "  <thead>\n",
       "    <tr style=\"text-align: right;\">\n",
       "      <th></th>\n",
       "      <th>Stock</th>\n",
       "      <th>Open</th>\n",
       "      <th>High</th>\n",
       "      <th>Low</th>\n",
       "      <th>Close</th>\n",
       "    </tr>\n",
       "  </thead>\n",
       "  <tbody>\n",
       "    <tr>\n",
       "      <th>0</th>\n",
       "      <td>AAPL</td>\n",
       "      <td>170.52</td>\n",
       "      <td>170.590</td>\n",
       "      <td>169.220</td>\n",
       "      <td>169.23</td>\n",
       "    </tr>\n",
       "    <tr>\n",
       "      <th>1</th>\n",
       "      <td>AAPL</td>\n",
       "      <td>171.00</td>\n",
       "      <td>171.850</td>\n",
       "      <td>170.480</td>\n",
       "      <td>171.08</td>\n",
       "    </tr>\n",
       "    <tr>\n",
       "      <th>2</th>\n",
       "      <td>AAPL</td>\n",
       "      <td>170.10</td>\n",
       "      <td>170.780</td>\n",
       "      <td>169.710</td>\n",
       "      <td>170.60</td>\n",
       "    </tr>\n",
       "    <tr>\n",
       "      <th>3</th>\n",
       "      <td>AAPL</td>\n",
       "      <td>170.80</td>\n",
       "      <td>171.470</td>\n",
       "      <td>169.679</td>\n",
       "      <td>170.57</td>\n",
       "    </tr>\n",
       "    <tr>\n",
       "      <th>4</th>\n",
       "      <td>AAPL</td>\n",
       "      <td>174.68</td>\n",
       "      <td>175.424</td>\n",
       "      <td>174.500</td>\n",
       "      <td>175.01</td>\n",
       "    </tr>\n",
       "  </tbody>\n",
       "</table>\n",
       "</div>"
      ],
      "text/plain": [
       "  Stock    Open     High      Low   Close\n",
       "0  AAPL  170.52  170.590  169.220  169.23\n",
       "1  AAPL  171.00  171.850  170.480  171.08\n",
       "2  AAPL  170.10  170.780  169.710  170.60\n",
       "3  AAPL  170.80  171.470  169.679  170.57\n",
       "4  AAPL  174.68  175.424  174.500  175.01"
      ]
     },
     "execution_count": 3,
     "metadata": {},
     "output_type": "execute_result"
    }
   ],
   "source": [
    "df = pd.read_csv('https://raw.githubusercontent.com/lihkir/Uninorte/main/AppliedStatisticMS/DataVisualizationRPython/Lectures/Python/PythonDataSets/dash-stock-ticker-demo.csv')\n",
    "df = df[['Stock', 'Open', 'High', 'Low', 'Close']]\n",
    "df.head()"
   ]
  },
  {
   "cell_type": "markdown",
   "metadata": {},
   "source": [
    "- Luego de cargar nuestro `DataFrame` nos disponemos a implementar nuestro `app.layout` o \"diseño\" de la aplicación, tal como lo hicimos con la aplicación anterior. En este caso usamos `html.H2` que es una envoltura para el elemento `<h2> de HTML5`, elemento de encabezado de segundo nivel, en este caso también agragamos el logo de `Plotly`, usted puede agragar el logo de su preferencia. \n",
    "\n",
    "```python\n",
    " html.Div([\n",
    "        html.H2('Finance Explorer',\n",
    "                style={'display': 'inline',\n",
    "                       'float': 'left',\n",
    "                       'font-size': '2.65em',\n",
    "                       'margin-left': '7px',\n",
    "                       'font-weight': 'bolder',\n",
    "                       'font-family': 'Product Sans',\n",
    "                       'color': \"rgba(117, 117, 117, 0.95)\",\n",
    "                       'margin-top': '20px',\n",
    "                       'margin-bottom': '0'\n",
    "                       }),\n",
    "        html.Img(src=\"https://s3-us-west-1.amazonaws.com/plotly-tutorials/logo/new-branding/dash-logo-by-plotly-stripe.png\",\n",
    "                style={\n",
    "                    'height': '100px',\n",
    "                    'float': 'right'\n",
    "                },\n",
    "        ),\n",
    "    ])\n",
    "```"
   ]
  },
  {
   "cell_type": "markdown",
   "metadata": {},
   "source": [
    "- Luego de esto escribimos nuestro `dcc.Dropdown` con su respectivo `id` el cual sera invocado por nuesta función `callback`. El `dcc.Dropdown` corresponde a nuestro menu de opciones para los diferentes `stocks`, en las que colocamos por defecto una lista con dos stocks `['YHOO', 'GOOGL']`. También creamo una división donde colocaremos cada una de las graficas asociadas a cada stock\n",
    "\n",
    "```python\n",
    "    dcc.Dropdown(\n",
    "        id='stock-ticker-input',\n",
    "        options=[{'label': s[0], 'value': str(s[1])}\n",
    "                 for s in zip(df.Stock.unique(), df.Stock.unique())],\n",
    "        value=['YHOO', 'GOOGL'],\n",
    "        multi=True\n",
    "    ),\n",
    "    html.Div(id='graphs')\n",
    "```"
   ]
  },
  {
   "cell_type": "markdown",
   "metadata": {},
   "source": [
    "- Definimos la función encargada de calcular nuestro indicado de análisis tecnico. En esta definimos el periodo para nuestra media movil `window_size=10` y además de esto el numero de desviaciones estandar a las que deseamos distar de esta media `num_of_std=5`\n",
    "\n",
    "```python\n",
    "def bbands(price, window_size=10, num_of_std=5):\n",
    "    rolling_mean = price.rolling(window=window_size).mean()\n",
    "    rolling_std  = price.rolling(window=window_size).std()\n",
    "    upper_band = rolling_mean + (rolling_std*num_of_std)\n",
    "    lower_band = rolling_mean - (rolling_std*num_of_std)\n",
    "    return rolling_mean, upper_band, lower_band\n",
    "```"
   ]
  },
  {
   "cell_type": "markdown",
   "metadata": {},
   "source": [
    "- Definimos ahora nuestra función `callback` la cual tendrá como `Output` en este caso las figuras correspondiente al indicador para cada stock. El mensaje de encabezado `\"Select a stock ticker.\"` aparecerá si en la caja no aparece ningún stock, indicando que debe seleccionarse el simbolo `ticker` del stock de interés. Una vez recibido este `ticker` filtramos nuestro `DataFame` por `Stock` que coincida con el `Inpunt ticker` y seleccionamos para este nuevo `DataFrame` las columnas que necesitamos para el indicador `bollinger band` y seleccionamos de la escala de colores el color a utlizar en nuestras bandas de bollinger que será el input de la función encargada de calcular las bandas `bbands`, vamos escalando los colores de acuerdo a la banda que se va a dibujar. Vamos a ir agregando a `graphs` cada una de las graficas que vamos obteniendo para mostrarlas todas en nuestra app una debajo de la otra. La figuras van indezadas con `id=ticker` y son obtenidas al realizar la adición `[candlestick] + bollinger_traces`. Los siguiente comandos son usados para las dimensiones del margen en nuestra figura y la ubcación de la leyenda: `'margin': {'b': 0, 'r': 10, 'l': 60, 't': 0},` y `'legend': {'x': 0}`. \n",
    "\n",
    "\n",
    "```python\n",
    "@app.callback(Output('graphs','children'),\n",
    "    [Input('stock-ticker-input', 'value')])\n",
    "def update_graph(tickers):\n",
    "    graphs = []\n",
    "\n",
    "    if not tickers:\n",
    "        graphs.append(html.H3(\n",
    "            \"Select a stock ticker.\",\n",
    "            style={'marginTop': 20, 'marginBottom': 20}\n",
    "        ))\n",
    "    else:\n",
    "        for i, ticker in enumerate(tickers):\n",
    "\n",
    "            dff = df[df['Stock'] == ticker]\n",
    "\n",
    "            candlestick = {\n",
    "                'x': dff['Date'],\n",
    "                'open': dff['Open'],\n",
    "                'high': dff['High'],\n",
    "                'low': dff['Low'],\n",
    "                'close': dff['Close'],\n",
    "                'type': 'candlestick',\n",
    "                'name': ticker,\n",
    "                'legendgroup': ticker,\n",
    "                'increasing': {'line': {'color': colorscale[0]}},\n",
    "                'decreasing': {'line': {'color': colorscale[1]}}\n",
    "            }\n",
    "            bb_bands = bbands(dff.Close)\n",
    "            bollinger_traces = [{\n",
    "                'x': dff['Date'], 'y': y,\n",
    "                'type': 'scatter', 'mode': 'lines',\n",
    "                'line': {'width': 1, 'color': colorscale[(i*2) % len(colorscale)]},\n",
    "                'hoverinfo': 'none',\n",
    "                'legendgroup': ticker,\n",
    "                'showlegend': True if i == 0 else False,\n",
    "                'name': '{} - bollinger bands'.format(ticker)\n",
    "            } for i, y in enumerate(bb_bands)]\n",
    "            graphs.append(dcc.Graph(\n",
    "                id=ticker,\n",
    "                figure={\n",
    "                    'data': [candlestick] + bollinger_traces,\n",
    "                    'layout': {\n",
    "                        'margin': {'b': 0, 'r': 10, 'l': 60, 't': 0},\n",
    "                        'legend': {'x': 0}\n",
    "                    }\n",
    "                }\n",
    "            ))\n",
    "\n",
    "    return graphs\n",
    "```"
   ]
  },
  {
   "cell_type": "markdown",
   "metadata": {},
   "source": [
    "- Así vamos a visualizar nuestra plicación luego de cada uno de los paso mencionados anteriormente"
   ]
  },
  {
   "cell_type": "markdown",
   "metadata": {},
   "source": [
    "```{figure} ./imgs/dash27.png\n",
    ":name: fig_dash27\n",
    ":align: center\n",
    "```"
   ]
  },
  {
   "cell_type": "markdown",
   "metadata": {},
   "source": [
    "- La codigo completo de la app lo presentamos a continuación. Ejecutela desde su terminal o editor `VS Code` por ejemplo\n",
    "\n",
    "```python\n",
    "from dash import Dash, dcc, html, Input, Output\n",
    "\n",
    "import colorlover as cl\n",
    "import datetime as dt\n",
    "import flask\n",
    "import os\n",
    "import pandas as pd\n",
    "import time\n",
    "\n",
    "app = Dash(__name__)\n",
    "\n",
    "server = app.server\n",
    "\n",
    "app.scripts.config.serve_locally = False\n",
    "\n",
    "colorscale = cl.scales['9']['qual']['Paired']\n",
    "\n",
    "df = pd.read_csv('https://raw.githubusercontent.com/lihkir/Uninorte/main/AppliedStatisticMS/DataVisualizationRPython/Lectures/Python/PythonDataSets/dash-stock-ticker-demo.csv')\n",
    "\n",
    "app.layout = html.Div([\n",
    "    html.Div([\n",
    "        html.H2('Finance Explorer',\n",
    "                style={'display': 'inline',\n",
    "                       'float': 'left',\n",
    "                       'font-size': '2.65em',\n",
    "                       'margin-left': '7px',\n",
    "                       'font-weight': 'bolder',\n",
    "                       'font-family': 'Product Sans',\n",
    "                       'color': \"rgba(117, 117, 117, 0.95)\",\n",
    "                       'margin-top': '20px',\n",
    "                       'margin-bottom': '0'\n",
    "                       }),\n",
    "        html.Img(src=\"https://s3-us-west-1.amazonaws.com/plotly-tutorials/logo/new-branding/dash-logo-by-plotly-stripe.png\",\n",
    "                style={\n",
    "                    'height': '100px',\n",
    "                    'float': 'right'\n",
    "                },\n",
    "        ),\n",
    "    ]),\n",
    "    dcc.Dropdown(\n",
    "        id='stock-ticker-input',\n",
    "        options=[{'label': s[0], 'value': str(s[1])}\n",
    "                 for s in zip(df.Stock.unique(), df.Stock.unique())],\n",
    "        value=['YHOO', 'GOOGL'],\n",
    "        multi=True\n",
    "    ),\n",
    "    html.Div(id='graphs')\n",
    "], className=\"container\")\n",
    "\n",
    "def bbands(price, window_size=10, num_of_std=5):\n",
    "    rolling_mean = price.rolling(window=window_size).mean()\n",
    "    rolling_std  = price.rolling(window=window_size).std()\n",
    "    upper_band = rolling_mean + (rolling_std*num_of_std)\n",
    "    lower_band = rolling_mean - (rolling_std*num_of_std)\n",
    "    return rolling_mean, upper_band, lower_band\n",
    "\n",
    "@app.callback(Output('graphs','children'),\n",
    "    [Input('stock-ticker-input', 'value')])\n",
    "def update_graph(tickers):\n",
    "    graphs = []\n",
    "\n",
    "    if not tickers:\n",
    "        graphs.append(html.H3(\n",
    "            \"Select a stock ticker.\",\n",
    "            style={'marginTop': 20, 'marginBottom': 20}\n",
    "        ))\n",
    "    else:\n",
    "        for i, ticker in enumerate(tickers):\n",
    "\n",
    "            dff = df[df['Stock'] == ticker]\n",
    "\n",
    "            candlestick = {\n",
    "                'x': dff['Date'],\n",
    "                'open': dff['Open'],\n",
    "                'high': dff['High'],\n",
    "                'low': dff['Low'],\n",
    "                'close': dff['Close'],\n",
    "                'type': 'candlestick',\n",
    "                'name': ticker,\n",
    "                'legendgroup': ticker,\n",
    "                'increasing': {'line': {'color': colorscale[0]}},\n",
    "                'decreasing': {'line': {'color': colorscale[1]}}\n",
    "            }\n",
    "            bb_bands = bbands(dff.Close)\n",
    "            bollinger_traces = [{\n",
    "                'x': dff['Date'], 'y': y,\n",
    "                'type': 'scatter', 'mode': 'lines',\n",
    "                'line': {'width': 1, 'color': colorscale[(i*2) % len(colorscale)]},\n",
    "                'hoverinfo': 'none',\n",
    "                'legendgroup': ticker,\n",
    "                'showlegend': True if i == 0 else False,\n",
    "                'name': '{} - bollinger bands'.format(ticker)\n",
    "            } for i, y in enumerate(bb_bands)]\n",
    "            graphs.append(dcc.Graph(\n",
    "                id=ticker,\n",
    "                figure={\n",
    "                    'data': [candlestick] + bollinger_traces,\n",
    "                    'layout': {\n",
    "                        'margin': {'b': 0, 'r': 10, 'l': 60, 't': 0},\n",
    "                        'legend': {'x': 0}\n",
    "                    }\n",
    "                }\n",
    "            ))\n",
    "\n",
    "    return graphs\n",
    "\n",
    "if __name__ == '__main__':\n",
    "    app.run_server(debug=False)\n",
    "```"
   ]
  },
  {
   "cell_type": "markdown",
   "metadata": {},
   "source": [
    "**Conclusión**\n",
    "\n",
    "- Por medio de estas dos aplicaciones se ha abordado cada concepto básico relacionado con el diseño de una app utlizando `Dash` y `Plotly` teniendo en cuenta lo estudiado en secciones anteriores. Ahora procedemos a estudiar como podemos desplegar nuestra aplicación en `Heroku`. Para esto usaremos la cuenta creada en la sección de `PostgreSQL`"
   ]
  },
  {
   "cell_type": "markdown",
   "metadata": {},
   "source": [
    "### Despliegue de Dash App"
   ]
  },
  {
   "cell_type": "markdown",
   "metadata": {},
   "source": [
    "### Tutorial"
   ]
  },
  {
   "cell_type": "markdown",
   "metadata": {},
   "source": [
    "- El despliegue de nuestra aplicación es de suma importancia, para lograr que nuestra app esté disponible para su uso. Por ejemplo si realizas un estudio estadístico predictivo para una compañía que te ha contratado, lo que espera tu cliente es un link con la pagina web de tu app, la cual le permita acceder al `dashboard` que has diseñado, e interactuar con este utilizando las componentes dinámicas que agregaste antes. Para poder suministrar este link a nuestro cliente necesitamos desplegar nuestra app en una plataforma de servicios de computo en la nube. En este caso usamos `Heroku` por se gratuito y facil de usar. "
   ]
  },
  {
   "cell_type": "markdown",
   "metadata": {},
   "source": [
    "- Iniciaremos creando una nueva aplicación en nuestro dashboard de `Heroku`, en la cual van a reposar todos los archivos que vamos a crear para hacer el despliegue de nuestra aplicación. Para esto accedemos a nuestra cuenta en `https://www.heroku.com` y nos dirigimos al boton `New/Create new app`"
   ]
  },
  {
   "cell_type": "markdown",
   "metadata": {},
   "source": [
    "```{figure} ./imgs/dash28.png\n",
    ":name: fig_dash28\n",
    ":align: center\n",
    "```"
   ]
  },
  {
   "cell_type": "markdown",
   "metadata": {},
   "source": [
    "- Coloquele un nombre de se preferencia para identificarla y haga click en `Create app`\n",
    "\n",
    "```{figure} ./imgs/dash29.png\n",
    ":name: fig_dash29\n",
    ":align: center\n",
    "```"
   ]
  },
  {
   "cell_type": "markdown",
   "metadata": {},
   "source": [
    "- Luego de crearla podrá visualizar el procedimiento que se debe llevar a cabo para desplegar nuestra `app`. A este paso volveremos al final cuando tengamos preparada la aplicación con los archivos de despliegue correspondientes"
   ]
  },
  {
   "cell_type": "markdown",
   "metadata": {},
   "source": [
    "```{figure} ./imgs/dash30.png\n",
    ":name: fig_dash30\n",
    ":align: center\n",
    "```"
   ]
  },
  {
   "cell_type": "markdown",
   "metadata": {},
   "source": [
    "- Procedemos ahora a crear un proyecto de despliegue para nuestra app. Para esto primero debemos crear una carpeta con el nombre del proyecto, puede usar el nombre de la app creada en `Heroku` por ejemplo. Luego, dentro de esta carpeta creamos y activamos un ambiente llamado `venv` en el que instalaremos las librerías que requiere nuestra app para su funcionamiento"
   ]
  },
  {
   "cell_type": "markdown",
   "metadata": {},
   "source": [
    "```{figure} ./imgs/dash31.png\n",
    ":name: fig_dash31\n",
    ":align: center\n",
    "```"
   ]
  },
  {
   "cell_type": "markdown",
   "metadata": {},
   "source": [
    "- Dentro de esta carpeta vamos a pegar el archivo `.py` de nuestra app. Utilizaremos para la edición del resto de archivos y el despliegue de la app el editor `VS Code`, el cual el de uso libre y puede ser instalado desde el siguiente link [VS Code](https://code.visualstudio.com/download)\n",
    "\n",
    "```{figure} ./imgs/dash32.png\n",
    ":name: fig_dash32\n",
    ":align: center\n",
    "```"
   ]
  },
  {
   "cell_type": "markdown",
   "metadata": {},
   "source": [
    "- Vamos a abrir nuestra app utilizando usando `VS Code` y vamos a agregar la siguiente linea de código: \n",
    "\n",
    "    ```shell\n",
    "    server = app.server\n",
    "    ``` \n",
    "    justo despues que creamos la instancia de nuestra app. Esta línea permitirá que `Heroku` reconozca tu app y la conecte el servidor"
   ]
  },
  {
   "cell_type": "markdown",
   "metadata": {},
   "source": [
    "```{figure} ./imgs/dash33.png\n",
    ":name: fig_dash33\n",
    ":align: center\n",
    "```"
   ]
  },
  {
   "cell_type": "markdown",
   "metadata": {},
   "source": [
    "- En su terminal de `Powershel` ingrese a la carpeta donde está su proyecto e instale con el enviroment activo, todas las librerías que su aplicación necesitará para su funcionamiento. En este caso para la app financiera que hemos estudiado en la sección pasada necesitaremos instalar las siguientes librerías, la última del listado es de gran importancia, dado que la necesita `Heroku` para correr nuestra aplicación en el servidor\n",
    "    ```shell\n",
    "    pip install pandas\n",
    "    pip install plotly\n",
    "    pip install dash\n",
    "    pip install colorlover\n",
    "    pip install gunicorn\n",
    "    ```"
   ]
  },
  {
   "cell_type": "markdown",
   "metadata": {},
   "source": [
    "```{figure} ./imgs/dash34.png\n",
    ":name: fig_dash34\n",
    ":align: center\n",
    "```"
   ]
  },
  {
   "cell_type": "markdown",
   "metadata": {},
   "source": [
    "- El siguiente paso es crear un un nuevo archivo que nombraremos `.gitignore`. Este archivo le dirá a `git` que debe ignorar como parte de tu proyecto. El archivo debe contener lo siguiente, y lo crearemos usando `VS Code`\n",
    "\n",
    "    ```shell\n",
    "    venv\n",
    "    *.pyc\n",
    "    .DS_Store\n",
    "    .env\n",
    "    ```"
   ]
  },
  {
   "cell_type": "markdown",
   "metadata": {},
   "source": [
    "```{figure} ./imgs/dash35.png\n",
    ":name: fig_dash35\n",
    ":align: center\n",
    "```\n",
    "```{figure} ./imgs/dash36.png\n",
    ":name: fig_dash36\n",
    ":align: center\n",
    "```"
   ]
  },
  {
   "cell_type": "markdown",
   "metadata": {},
   "source": [
    "- De la misma forma ahora crearemos dentro de la misma carpeta del proyecto un nuevo archivo que nombraremos `Procfile` y la siguiente línea de código dentro. Nótese que `app_finance` se refiere al nombre del archivo `.py` de nuestra app, `server` se refiere a la variable server dentro de ese archivo.\n",
    "\n",
    "    ```shell\n",
    "    web: app_finance:server\n",
    "    ```"
   ]
  },
  {
   "cell_type": "markdown",
   "metadata": {},
   "source": [
    "```{figure} ./imgs/dash37.png\n",
    ":name: fig_dash37\n",
    ":align: center\n",
    "```"
   ]
  },
  {
   "cell_type": "markdown",
   "metadata": {},
   "source": [
    "- Ahora creamos el archivo de requirements, el cual `Heroku` usará para identificar que tipo de librería va a descargar. Para esto dentro de su terminal escriba \n",
    "    \n",
    "    ```shell\n",
    "    pip freeze > requirements.txt\n",
    "    ```\n",
    "- `pip freeze` se encarga de generar un archivo de requisitos `requirements.txt` para instalar el mismo ambiente en otro entorno, en este caso `Heroku`. Pruebe la terminal de `VS Code` esta vez para que se familiarice también con su uso. Nótese que se debe selecionar como `interpreter` en `VS Code` el ambiente creado para el proyecto. Verifique también que la app funciona correctamente en este enviroment. Nótese que al final de la compilación se crea el archivo de requirements en nuestro proyecto"
   ]
  },
  {
   "cell_type": "markdown",
   "metadata": {},
   "source": [
    "```{figure} ./imgs/dash38.png\n",
    ":name: fig_dash38\n",
    ":align: center\n",
    "```"
   ]
  },
  {
   "cell_type": "markdown",
   "metadata": {},
   "source": [
    "- El siguiente paso es logearse en `Heroku` para poder usar el cliente, `Heroku CLI` el cual usaremos de ahora en adelante para subir nuestro proyecto a la nube. Para esto desde la misma terminal ejecutamos el siguiente comando para acceder al cliente, este abrirá la venta en su navegador para el login y luego podrá hacer uso del cliente. Es el mismo procedimiento realizado en la importación de la base de datos en `Heroku Postgres`. Para hacerlo, antes debe instalar el cliente de `Heroku` en su maquina (ver [heroku-cli](https://devcenter.heroku.com/articles/heroku-cli))\n",
    "\n",
    "    ```shell\n",
    "    heroku login\n",
    "    ```"
   ]
  },
  {
   "cell_type": "markdown",
   "metadata": {},
   "source": [
    "```{figure} ./imgs/dash39.png\n",
    ":name: fig_dash39\n",
    ":align: center\n",
    "```"
   ]
  },
  {
   "cell_type": "markdown",
   "metadata": {},
   "source": [
    "- Ahora use la orden\n",
    "\n",
    "    ```shell\n",
    "    git init\n",
    "    ```\n",
    "    para iniciar en un repositorio `git` el cual será utilizado por `Heroku` para \"pushear\" nuestro proyecto en la nube. Debe aparecer el mensaje de inicialización de un repositorio `git` vacio. Los pasos siguientes aparecen en nuestra app creada en `Heroku`."
   ]
  },
  {
   "cell_type": "markdown",
   "metadata": {},
   "source": [
    "```{figure} ./imgs/dash40.png\n",
    ":name: fig_dash40\n",
    ":align: center\n",
    "```"
   ]
  },
  {
   "cell_type": "markdown",
   "metadata": {},
   "source": [
    "- Luego utlice el siguiente comando: \n",
    "\n",
    "    ```shell\n",
    "    heroku git:remote -a dash-app-finance-lrubio\n",
    "    ```\n",
    "    para agregar remotamente con `git` el repositorio correspondiente al proyecto en `Heroku`. Tenga en cuenta que debe escribir el nombre de la app creada en `Heroku` correctamente. El comando usado antetirmente crea un nuevo control remoto con el nombre de nuestra app ubicado en el repositorio inicializado, una vez que haga esto, usando compandos `push` se puede empujar el proyecto a `Heroku`."
   ]
  },
  {
   "cell_type": "markdown",
   "metadata": {},
   "source": [
    "```{figure} ./imgs/dash41.png\n",
    ":name: fig_dash41\n",
    ":align: center\n",
    "```"
   ]
  },
  {
   "cell_type": "markdown",
   "metadata": {},
   "source": [
    "- Luego use los siguientes comandos para empujar nuestro proyecto a `Heroku` usando `git`\n",
    "\n",
    "    ```shell\n",
    "    git add .\n",
    "    git commit -am \"App Launch\"\n",
    "    git push heroku master\n",
    "    ```"
   ]
  },
  {
   "cell_type": "markdown",
   "metadata": {},
   "source": [
    "```{figure} ./imgs/dash42.png\n",
    ":name: fig_dash42\n",
    ":align: center\n",
    "```"
   ]
  },
  {
   "cell_type": "markdown",
   "metadata": {},
   "source": [
    "- Luego de hacer push. Debe esperar un momento a que se instale todo lo que necesita `Heroku` para desplegar nuestra app en su servidor. Esta proceso puede tomar unos cuantos minutos. Al final debe aparecer el siguiente mensaje con el link del domino de nuestra app, el nombre que utlizamos para identificarla y el de `Heroku`, en este caso: `https://dash-app-finance-lrubio.herokuapp.com/`. Haga click sobre este link y podrá visualizar sua plicación web"
   ]
  },
  {
   "cell_type": "markdown",
   "metadata": {},
   "source": [
    "```{figure} ./imgs/dash43.png\n",
    ":name: fig_dash43\n",
    ":align: center\n",
    "```"
   ]
  },
  {
   "cell_type": "markdown",
   "metadata": {},
   "source": [
    "- Si desea hacer un cambio, porque por ejemplo obtuvo errores, debe hacerlos en el directorio de su proyecto y clonarlo nuevamente con los nuevos cambios siguiendo los siguientes pasos, que anteriormente ejecutó. Primero ejecute\n",
    "\n",
    " `heroku git:clone -a dash-app-finance-lrubio`"
   ]
  },
  {
   "cell_type": "markdown",
   "metadata": {},
   "source": [
    "- Luego sobre el archivo clonado copie los archivos que modificó para corregir el error, y luego realice los siguientes pasos para subir nuevamente su proyecto\n",
    "\n",
    "    ```shell\n",
    "    cd dash-app-finance-lrubio\n",
    "    git add .\n",
    "    git commit -am \"make it better\"\n",
    "    git push heroku master\n",
    "    ```"
   ]
  },
  {
   "cell_type": "markdown",
   "metadata": {},
   "source": [
    "- Desde su cuenta de `Heroku` también puede desplegar la aplicación haciendo click en `Open app`"
   ]
  },
  {
   "cell_type": "markdown",
   "metadata": {},
   "source": [
    "```{figure} ./imgs/dash43.png\n",
    ":name: fig_dash44\n",
    ":align: center\n",
    "```"
   ]
  },
  {
   "cell_type": "markdown",
   "metadata": {},
   "source": [
    "- Cuando abra el link obtenido puede visualizar su aplicación. Este link puede entregarselo a un cliente que lo haya contratado para realizar un análisis estadístico predictivo para la toma de decisiones en su compañia"
   ]
  },
  {
   "cell_type": "markdown",
   "metadata": {},
   "source": [
    "```{figure} ./imgs/dash45.png\n",
    ":name: fig_dash45\n",
    ":align: center\n",
    "```"
   ]
  },
  {
   "cell_type": "markdown",
   "metadata": {},
   "source": [
    "- Otras opciones gratuitas para desplegar sus aplicaciones `Dash` son `PythonAnywhere` y `Google Cloud`. Ver los siguientes tutoriales para mayor información\n",
    "\n",
    "    - [Tutorial PythonAnywhere](https://www.youtube.com/watch?v=WOWVat5BgM4)\n",
    "    - [Tutorial PythonAnywhere Visual Studio Code](https://youtu.be/ARGIKU0DiWY)\n",
    "    - [Tutorial Google Cloud Run](https://www.youtube.com/watch?v=1VewIO2Yhmo)"
   ]
  },
  {
   "cell_type": "markdown",
   "metadata": {},
   "source": [
    "```{admonition} Más sobre DataViz\n",
    ":class: tip, dropdown\n",
    "Para mas información acerca de diferentes tipos de visualizaciones de datos con Python o R, las siguientes secciones abordan otras aplicaciones (ver [DataViz Python](https://lihkir.github.io/JupyterBookDataViz/), [DataViz R](https://lihkir.github.io/ShinyDash/)).\n",
    "```"
   ]
  },
  {
   "cell_type": "markdown",
   "metadata": {},
   "source": [
    "## Introducción a `Jupyter Book`"
   ]
  },
  {
   "cell_type": "markdown",
   "metadata": {},
   "source": [
    "- `Jupyter Book` permite construir libros y documentos con calidad de publicación a partir de contenido computacional. En este sección, cubriremos los fundamentos del ecosistema `Jupyter Book`, y se estudiarán los pasos necesarios para la creación, construcción y publicación de un primer libro. Para revisar la documentación del proyecto `Jupyter Book` ver el siguiente link [Jupyter Book](https://jupyterbook.org). `Jupyter Book` puede ser ejecutado en Windows, pero sólo bajo la versión de `Python 3.7`. Hay una incompatibilidad conocida para la ejecución del cuaderno, cuando se utiliza `Python 3.8` (ver este tema en [nbclient#85](jupyter/nbclient#85)). También puede intentar instalar `Windows Subsystem for Linux`. Sin embargo, la opción mas estable, usada en esta sección, la cual no presenta ningún tipo de incompatibilidades, es ejecutada desde `Ubuntu 20.04` y en este caso puede utilizarse `Python 3.8`. Si no posee `Ubuntu 20.04`, es posible instalarlo desde una maquina virtual, tales como las de: `Oracle VM VirtualBox` o `VMware`. Los ususarios de `macOS` pueden ejecutar desde su terminal `Jupyter Book` sin ningún conflicto, ver documentación de `Jupyter Book`.\n",
    "\n",
    "- `Jupyter Book` le permitirá contar con las siguientes herramientas\n",
    "\n",
    "    - Estructurar y organizar los contenidos\n",
    "    - Visión general de MyST Markdown\n",
    "    - Escribir contenido ejecutable\n",
    "    - Lanzar interfaces informáticas interactivas\n",
    "    - Publique libro en Internet\n",
    "    - Componentes y elementos de la interfaz de usuario"
   ]
  },
  {
   "cell_type": "markdown",
   "metadata": {},
   "source": [
    "### Instalar `Jupyter Book`\n",
    "\n",
    "- Puedes instalar `Jupyter Book` a través de `pip` o `conda`. Las siguientes ordenes instalaran todo lo necesario para construir un `Jupyter Book` localmente"
   ]
  },
  {
   "cell_type": "markdown",
   "metadata": {},
   "source": [
    "```shell\n",
    "pip install --upgrade jupyter-book\n",
    "```"
   ]
  },
  {
   "cell_type": "markdown",
   "metadata": {},
   "source": [
    "- También puede ser instalado via `conda-forge` usando:"
   ]
  },
  {
   "cell_type": "markdown",
   "metadata": {},
   "source": [
    "```shell\n",
    "conda install -c conda-forge jupyter-book\n",
    "```"
   ]
  },
  {
   "cell_type": "markdown",
   "metadata": {},
   "source": [
    "### La interfaz de línea de comandos de `Jupyter Book`\n",
    "\n",
    "- `Jupyter Book` utiliza una interfaz de línea de comandos para realizar diversas acciones. Por ejemplo, construir y limpiar libros. Puedes ejecutar el siguiente comando para ver qué opciones tienes a tu alcance"
   ]
  },
  {
   "cell_type": "markdown",
   "metadata": {},
   "source": [
    "```shell\n",
    "jupyter-book --help\n",
    "```"
   ]
  },
  {
   "cell_type": "markdown",
   "metadata": {},
   "source": [
    "```shell\n",
    "Usage: jupyter-book [OPTIONS] COMMAND [ARGS]...\n",
    "\n",
    "  Build and manage books with Jupyter.\n",
    "\n",
    "Options:\n",
    "  --version   Show the version and exit.\n",
    "  -h, --help  Show this message and exit.\n",
    "\n",
    "Commands:\n",
    "  build   Convert your book's or page's content to HTML or a PDF.\n",
    "  clean   Empty the _build directory except jupyter_cache.\n",
    "  config  Inspect your _config.yml file.\n",
    "  create  Create a Jupyter Book template that you can customize.\n",
    "  myst    Manipulate MyST markdown files.\n",
    "  toc     Command-line for sphinx-external-toc.\n",
    "```"
   ]
  },
  {
   "cell_type": "markdown",
   "metadata": {},
   "source": [
    "- Para obtener información más completa sobre el cliente CLI, ver [Command-line interface reference](https://jupyterbook.org/en/stable/reference/cli.html)."
   ]
  },
  {
   "cell_type": "markdown",
   "metadata": {},
   "source": [
    "### Proceso de construcción del libro"
   ]
  },
  {
   "cell_type": "markdown",
   "metadata": {},
   "source": [
    "- La construcción de un `Jupyter Book` consta, en líneas generales, de los siguientes pasos:\n",
    "\n",
    "    1. `Crear el contenido del libro`. Estructurar el libro con una colección de carpetas, archivos y configuración (ver [Anatomía Jupyter Book](https://jupyterbook.org/en/stable/start/create.html#anatomy-of-a-book)).\n",
    "    2. `Construcción del libro`. Utilizando la interfaz de línea de comandos de `Jupyter Book` podemos convertir las páginas en un libro `HTML` o `PDF`. (ver [Construir Libro](https://jupyterbook.org/en/stable/start/build.html)).\n",
    "    3. `Publicar libro en línea`. Una vez construido el libro, es posible compartirlo con otros. Lo más habitual es construirlo en `HTML` y alojarlo en un sitio web público. (ver [Publicar Libro](https://jupyterbook.org/en/stable/start/publish.html))."
   ]
  },
  {
   "cell_type": "markdown",
   "metadata": {},
   "source": [
    "```{admonition} Observación\n",
    ":class: tip\n",
    "Utilizaremos la palabra `book` para describir los resultados generados por `Jupyter Book`, pero también puede utilizarse `Jupyter Book` para construir artículos (ver [Estructura Artículo](https://jupyterbook.org/en/stable/structure/toc.html#structure-article)).\n",
    "```"
   ]
  },
  {
   "cell_type": "markdown",
   "metadata": {},
   "source": [
    "### Crear una plantilla de libro\n",
    "\n",
    "- Ahora que entendemos la estructura de nuestro libro, vamos a crear un template para aprender de él generando rápidamente un libro de muestra\n",
    "\n",
    "- `Jupyter Book` viene con un template ligero para ayudarte a entender la estructura que se debe utilizar. Para crear un libro de plantillas usamos el siguiente comando"
   ]
  },
  {
   "cell_type": "markdown",
   "metadata": {},
   "source": [
    "```shell\n",
    "jupyter-book create mynewbook/\n",
    "```"
   ]
  },
  {
   "cell_type": "markdown",
   "metadata": {},
   "source": [
    "- Esto generará un mini libro `Jupyter` que puedes construir y explorar localmente. Tendrá algunas decisiones tomadas por ti, y puedes explorar la configuración del libro en `_config.yml` y su estructura en `_toc.yml`. Este libro puede utilizarse como inspiración, o como punto de partida para trabajar."
   ]
  },
  {
   "cell_type": "markdown",
   "metadata": {},
   "source": [
    "### Anatomía de un Jupyter Book"
   ]
  },
  {
   "cell_type": "markdown",
   "metadata": {},
   "source": [
    "- Hay tres cosas que necesitas para construir un `Jupyter Book`, cada una de las cuales se acaba de crear ejecutando `jupyter-book create`:\n",
    "\n",
    "    - Un archivo de configuración `(_config.yml)`\n",
    "    - Un archivo de tabla de contenidos `(_toc.yml)`\n",
    "    - El contenido del libro\n",
    "\n",
    "- Por ejemplo, al revisar el libro que se acaba de crear:\n",
    "\n",
    "```shell\n",
    "$ tree mybookname\n",
    "mybookname/\n",
    "├── _config.yml\n",
    "├── _toc.yml\n",
    "├── intro.md\n",
    "├── logo.png\n",
    "├── markdown-notebooks.md\n",
    "├── markdown.md\n",
    "├── notebooks.ipynb\n",
    "├── references.bib\n",
    "└── requirements.txt\n",
    "```"
   ]
  },
  {
   "cell_type": "markdown",
   "metadata": {},
   "source": [
    "- Hay algunos archivos extra que incluimos para mostrar algunas nuevas características, pero las piezas necesarias son `_toc.yml`, _config.yml`, y los archivos de contenido."
   ]
  },
  {
   "cell_type": "markdown",
   "metadata": {},
   "source": [
    "### Configuración del libro `(_config.yml)`\n",
    "\n",
    "- Toda la configuración de su libro está en un archivo `YAML` llamado `_config.yml`. Puedes definir los metadatos de tu libro (como su título), añadir el logotipo del libro, activar diferentes botones \"interactivos\" (como el botón [Binder](https://jupyterbook.org/en/stable/reference/glossary.html#term-Binder) para las páginas construidas a partir de un `Jupyter Notebook`), y mucho más.\n",
    "\n",
    "- Para obtener más información sobre el archivo de configuración de su libro, consulte [Referencia de configuración](https://jupyterbook.org/en/stable/customize/config.html). Este es un ejemplo de un simple archivo `_config.yml`"
   ]
  },
  {
   "cell_type": "markdown",
   "metadata": {},
   "source": [
    "````shell\n",
    "# In _config.yml\n",
    "title: My sample book\n",
    "author: The Jupyter Book Community\n",
    "logo: logo.png\n",
    "execute:\n",
    "  execute_notebooks: force\n",
    "\n",
    "# Add a bibtex file so that we can create citations\n",
    "bibtex_bibfiles:\n",
    "  - references.bib\n",
    "````"
   ]
  },
  {
   "cell_type": "markdown",
   "metadata": {},
   "source": [
    "- `title`: Define un título para el libro. Aparecerá en la barra lateral izquierda.\n",
    "- `author`: Añade el nombre del autor a la plantilla de su libro, para atribuirlo.\n",
    "- `logo`: Define una ruta a un archivo de imagen para el logo de su libro (también se mostrará en la barra lateral).\n",
    "- `execute`: contiene una colección de opciones de configuración para controlar la ejecución y el almacenamiento en caché.\n",
    "    - `execute_notebooks: \"force\"` le dice a `Jupyter Book` que por esfuerzo ejecute cualquier contenido computacional cada vez que construya el libro. Por defecto, `Jupyter Book` ejecuta y almacena en caché todo el contenido del libro.\n",
    "    \n",
    "- `bibtex_bibfiles`: Es una sección para definir los archivos de bibliografía para tu `Jupyter Book`. Esta configuración activa las citas para tu libro (ver [Introducción a las referencias](https://jupyterbook.org/en/stable/tutorials/references.html) para empezar con las citas y referencias)."
   ]
  },
  {
   "cell_type": "markdown",
   "metadata": {},
   "source": [
    "```{admonition} Más sobre _config.yml\n",
    ":class: tip, dropdown\n",
    "Hay mucho más que puede hacer con el archivo `_config.yml`. Por ejemplo, puede añadir botones de repositorio de fuentes o añadir visualizaciones de datos interactivas. Para obtener una lista completa de los campos de `_config.yml`, consulte [Referencia de configuración](https://jupyterbook.org/en/stable/customize/config.html).\n",
    "```"
   ]
  },
  {
   "cell_type": "markdown",
   "metadata": {},
   "source": [
    "### Tabla de contenidos `(_toc.yml)`"
   ]
  },
  {
   "cell_type": "markdown",
   "metadata": {},
   "source": [
    "- `Jupyter Book` utiliza su tabla de contenidos para definir la estructura de su libro. Por ejemplo, tus capítulos, subcapítulos, etc. Se trata de un archivo `YAML` con una colección de páginas, cada una de las cuales enlaza con un archivo de tu libro. Aquí hay un ejemplo de los dos archivos de contenido mostrados arriba."
   ]
  },
  {
   "cell_type": "markdown",
   "metadata": {},
   "source": [
    "````shell\n",
    "# In _toc.yml\n",
    "format: jb-book\n",
    "root: intro\n",
    "chapters:\n",
    "- file: markdown\n",
    "- file: notebooks\n",
    "- file: markdown-notebooks\n",
    "````"
   ]
  },
  {
   "cell_type": "markdown",
   "metadata": {},
   "source": [
    "- El `_toc.yml` se organiza con un formato como `jb-article`, o `jb-book`. El elemento raíz se considera como la página de inicio (para construcciones `html`) y se utiliza como materia principal (para construcciones `latex`). En el caso de `jb-book`, se pueden añadir capítulos posteriores en la sección chapters: del archivo `yml`.\n",
    "\n",
    "- Cada entrada se refiere a un archivo, y deben añadirse como nombres sin extensiones y relativos a la carpeta raíz de su libro. El título de cada capítulo se deducirá del título de sus archivos."
   ]
  },
  {
   "cell_type": "markdown",
   "metadata": {},
   "source": [
    "```{admonition} Más sobre _toc.yml\n",
    ":class: tip\n",
    "\n",
    "Puede especificar configuraciones de libros más complejas con su archivo `_toc.yml`. Por ejemplo, puede especificar partes, secciones y controlar los títulos personalizados. Para obtener más información sobre el archivo de índice de su libro, consulte [Estructurar el índice de contenidos](https://jupyterbook.org/en/stable/structure/toc.html).\n",
    "```"
   ]
  },
  {
   "cell_type": "markdown",
   "metadata": {},
   "source": [
    "### Contenido del libro"
   ]
  },
  {
   "cell_type": "markdown",
   "metadata": {},
   "source": [
    "- Una colección de archivos de texto constituye el contenido de tu libro. Estos pueden ser uno de varios tipos de archivos, como `markdown (.md)`, `Jupyter Notebooks (.ipynb)` o archivos `reStructuredText (.rst)` (ver [Tipos de archivos fuente de contenido](https://jupyterbook.org/en/stable/file-types/index.html) para una lista completa).\n",
    "\n",
    "- En el ejemplo anterior, había tres archivos\n",
    "\n",
    "    - Un archivo `Markdown (markdown.md)`\n",
    "    - Un cuaderno `Jupyter (notebooks.ipynb)`\n",
    "    - Un cuaderno `MyST Markdown (markdown-notebooks.md)`"
   ]
  },
  {
   "cell_type": "markdown",
   "metadata": {},
   "source": [
    "### Archivos `Markdown (.md)`\n",
    "\n",
    "- `Markdown` es un ejemplo de lenguaje de marcado, una forma de estructurar el texto con caracteres y sintaxis adicionales que le dan un significado extra (por ejemplo, usar **negrita** para denotar negrita). Es muy popular y se utiliza en muchas plataformas tecnológicas diferentes.\n",
    "\n",
    "- Los archivos `Markdown` tienen ligeras variaciones, a menudo denominadas `\"sabores de Markdown\"`. Hay dos sabores de `markdown` que soporta `Jupyter Book`:\n",
    "\n",
    "    - [CommonMark markdown](https://commonmark.org/) - Un estándar de markdown que es muy común.\n",
    "    - [MyST Markdown](https://jupyterbook.org/en/stable/content/myst.html) - Una extensión de `CommonMark` con funcionalidad extra para documentos enriquecidos.\n",
    "    \n",
    "- Revisemos a uno de los archivos `markdown` de la plantilla del libro, `intro.md`:"
   ]
  },
  {
   "cell_type": "markdown",
   "metadata": {},
   "source": [
    "````shell\n",
    "# Welcome to your Jupyter Book\n",
    "\n",
    "This is a small sample book to give you a feel for how book content is\n",
    "structured.\n",
    "\n",
    ":::{note}\n",
    "Here is a note!\n",
    ":::\n",
    "\n",
    "And here is a code block:\n",
    "\n",
    "```\n",
    "e = mc^2\n",
    "```\n",
    "\n",
    "Check out the content pages bundled with this sample book to see more.\n",
    "````"
   ]
  },
  {
   "cell_type": "markdown",
   "metadata": {},
   "source": [
    "- Arriba puede ver varios tipos de estructura: Los símbolos `#` denotan las cabeceras de sección en `CommonMark markdown`. Definen los encabezados de sección en esta página, por ejemplo. `:::{note}` es una directiva en `MyST Markdown`. Se representa así"
   ]
  },
  {
   "cell_type": "markdown",
   "metadata": {},
   "source": [
    "```{note}\n",
    "Here is a note\n",
    "```"
   ]
  },
  {
   "cell_type": "markdown",
   "metadata": {},
   "source": [
    "- Para más información sobre el uso de roles y directivas, consulte la documentación de [MyST](https://myst-parser.readthedocs.io/en/latest/syntax/roles-and-directives.html#syntax-roles)."
   ]
  },
  {
   "cell_type": "markdown",
   "metadata": {},
   "source": [
    "### Crear su propio archivo de contenido\n",
    "\n",
    "- Ahora que ha visto algunos archivos de contenido de muestra y ha construido un libro sencillo, ¡intente crear el suyo propio!. Cree su archivo y añada contenido. En la carpeta con todos los contenidos de su libro de muestra, cree un nuevo archivo llamado `mymarkdownfile.md`. Coloque el siguiente contenido en él"
   ]
  },
  {
   "cell_type": "markdown",
   "metadata": {},
   "source": [
    "```shell\n",
    "# Here's my sample title\n",
    "\n",
    "This is some sample text.\n",
    "\n",
    "(section-label)=\n",
    "## Here's my first section\n",
    "\n",
    "Here is a [reference to the intro](intro.md). Here is a reference to [](section-label).\n",
    "```"
   ]
  },
  {
   "cell_type": "markdown",
   "metadata": {},
   "source": [
    "- Hemos añadido dos nuevas piezas de sintaxis markdown, ambas relacionadas con las referencias cruzadas.\n",
    "    - `(section-label)=` Es una etiqueta que se adjunta a un encabezado de sección. Hace referencia a la cabecera que le sigue, y le permite referirse a esta etiqueta más adelante en su texto.\n",
    "    - `[link text](link-target)` Sintaxis para especificar un enlace en markdown. Aquí hemos enlazado a otra página, así como a la etiqueta que creamos anteriormente. Cuando construya su libro, observará cómo se resuelven estos enlaces en la salida."
   ]
  },
  {
   "cell_type": "markdown",
   "metadata": {},
   "source": [
    "### Añádir archivo a tu tabla de contenidos\n",
    "\n",
    "- Ahora que ya se tiene un nuevo archivo, necesitamos añadirlo a `_toc.yml` para que `Jupyter Book` sepa dónde encaja en la estructura de tu libro. Añade una línea a tu archivo `_toc.yml` apuntando a este nuevo contenido, debería ser algo así:"
   ]
  },
  {
   "cell_type": "markdown",
   "metadata": {},
   "source": [
    "```shell\n",
    "# In _toc.yml\n",
    "format: jb-book\n",
    "root: intro\n",
    "chapters:\n",
    "- file: markdown\n",
    "- file: notebooks\n",
    "- file: markdown-notebooks\n",
    "- file: mymarkdownfile\n",
    "```"
   ]
  },
  {
   "cell_type": "markdown",
   "metadata": {},
   "source": [
    "### Vuelva a construir el libro"
   ]
  },
  {
   "cell_type": "markdown",
   "metadata": {},
   "source": [
    "- Ahora que ha añadido el archivo a su archivo `_toc.yml`, puede volver a ejecutar el comando de construcción:"
   ]
  },
  {
   "cell_type": "markdown",
   "metadata": {},
   "source": [
    "```shell\n",
    "jupyter-book build mybookname\n",
    "```"
   ]
  },
  {
   "cell_type": "markdown",
   "metadata": {},
   "source": [
    "- Esta orden reconstruirá su libro, y su nueva página aparecerá en la salida."
   ]
  },
  {
   "cell_type": "markdown",
   "metadata": {},
   "source": [
    "### Publica tu libro en línea con GitHub Pages"
   ]
  },
  {
   "cell_type": "markdown",
   "metadata": {},
   "source": [
    "- Una vez que hayas creado el `HTML` de tu libro, puedes alojarlo en línea. La mejor manera de hacerlo es con un servicio que aloje sitios web estáticos (porque eso es lo que acabas de crear con `Jupyter Book`). En esta sección, cubriremos cómo publicar tu libro en línea con `GitHub Pages`, una plataforma de alojamiento en línea popular y gratuita."
   ]
  },
  {
   "cell_type": "markdown",
   "metadata": {},
   "source": [
    "### Cree un depósito en línea para su libro"
   ]
  },
  {
   "cell_type": "markdown",
   "metadata": {},
   "source": [
    "- Para conectar tu libro alojado con el contenido fuente de tu libro, debes poner el contenido fuente de tu libro en un repositorio público. Esta sección describe un método para crear tu propio repositorio de `GitHub` y añadir el contenido de tu libro a él.\n",
    "\n",
    "    1. En primer lugar, inicia sesión en GitHub, y luego ve a la página \"crear un nuevo repositorio\": [Sign in to GitHub](https://github.com/new)\n",
    "    2. A continuación, dale a tu repositorio online un nombre y una descripción. Haz que tu repositorio sea público y no lo inicialices con un archivo `README`, luego haz clic en `\"Crear repositorio\"`.\n",
    "    3. Ahora, clone el repositorio en línea (actualmente vacío) a una ubicación en su ordenador local. Puedes hacerlo a través de la línea de comandos con\n",
    "    ```shell\n",
    "    git clone https://github.com/<my-org>/<my-repository-name>\n",
    "    ```\n",
    "    4. Copie todos los archivos y carpetas de su libro en este nuevo repositorio clonado. Por ejemplo, si creó su libro localmente con `jupyter-book create mylocalbook` y su nuevo repositorio se llama `myonlinebook`, podría hacerlo a través de la línea de comandos\n",
    "    ```shell\n",
    "    cp -r mylocalbook/* myonlinebook/\n",
    "    ```\n",
    "    5. Ahora necesita sincronizar sus repositorios locales y remotos (es decir, en línea). Puedes hacerlo con los siguientes comandos\n",
    "    ```shell\n",
    "    cd myonlinebook\n",
    "    git add ./*\n",
    "    git commit -m \"adding my first book!\"\n",
    "    git push\n",
    "    ```"
   ]
  },
  {
   "cell_type": "markdown",
   "metadata": {},
   "source": [
    "### Publica tu libro en línea con GitHub Pages"
   ]
  },
  {
   "cell_type": "markdown",
   "metadata": {},
   "source": [
    "- Acabamos de publicar los archivos fuente de nuestro libro en nuestro repositorio de `GitHub`. Esto hace que sea accesible públicamente para que usted u otros lo vean. A continuación, vamos a publicar el archivo de construcción de nuestro libro en línea, para que se represente como un sitio web. La forma más fácil de utilizar `GitHub Pages` con tu `HTML` construido es utilizar el paquete `ghp-import`. `ghp-import` es un paquete `Python` ligero que hace que sea fácil de empujar el contenido `HTML` a un repositorio de `GitHub`.\n",
    "\n",
    "- `ghp-import` funciona copiando todo el contenido de tu libro construido (es decir, la carpeta `_build/html`) a una rama de tu repositorio llamada `gh-pages`, y la empuja a `GitHub`. La rama `gh-pages` será creada y rellenada automáticamente por `ghp-import`. Para utilizar `ghp-import` para alojar tu libro en línea con `GitHub Pages` sigue los siguientes pasos"
   ]
  },
  {
   "cell_type": "markdown",
   "metadata": {},
   "source": [
    "```{note}\n",
    "Antes de realizar los siguientes pasos, asegúrese de que el `HTML` ha sido construido para cada página de su libro (véase la sección anterior). Debería haber una colección de archivos `HTML` en la carpeta `_build/html` de su libro.\n",
    "```"
   ]
  },
  {
   "cell_type": "markdown",
   "metadata": {},
   "source": [
    "1. Instalar `ghp-import`\n",
    "```shell\n",
    "pip install ghp-import\n",
    "```\n",
    "2. Actualice la configuración de su sitio de páginas de `GitHub`:\n",
    "    - Utilice la rama `gh-pages` para alojar su sitio web.\n",
    "    - Elija el directorio raíz `/` si está construyendo el libro en su propio repositorio. Elija el directorio `/docs` si está construyendo la documentación con `jupyter-book`.\n",
    "3. Desde la rama principal del directorio raíz de su libro (que debería contener la carpeta `_build/html`) llame a `ghp-import` y diríjalo a sus archivos `HTML`, así:\n",
    "```shell\n",
    "ghp-import -n -p -f _build/html\n",
    "```"
   ]
  },
  {
   "cell_type": "markdown",
   "metadata": {},
   "source": [
    "```{warning}\n",
    "¡Debemos asegurarnos de incluir `-n` en la ejecución del cliente `ghp-import` esto le dice a `GitHub` que no construya tu libro con [Jekyll](https://jekyllrb.com/), lo cual no queremos porque nuestro `HTML` ya está construido! Si no haces esto puedes ver un `404 not found` para tu contenido desplegado.\n",
    "```"
   ]
  },
  {
   "cell_type": "markdown",
   "metadata": {},
   "source": [
    "- Normalmente, después de unos minutos, tu sitio debería poder verse online en una `url` como: `https://<user>.github.io/<myonlinebook>/`. Si no es así, comprueba la configuración de tu repositorio en `Options -> GitHub Pages` para asegurarte de que la rama `gh-pages` está configurada como fuente de compilación para `GitHub Pages` y/o para encontrar la dirección `url` que `GitHub` está construyendo para el libro.\n",
    "\n",
    "- Para actualizar el libro online, realizar cambios en el contenido del libro en la rama principal del repositorio, vuelva a construir su libro con `jupyter-book build mybookname/` y luego utilice `ghp-import -n -p -f mylocalbook/_build/html` como antes para empujar el `HTML` recién construido a la rama `gh-pages`."
   ]
  }
 ],
 "metadata": {
  "kernelspec": {
   "display_name": "Python 3.8.10 ('ml_env')",
   "language": "python",
   "name": "python3"
  },
  "language_info": {
   "codemirror_mode": {
    "name": "ipython",
    "version": 3
   },
   "file_extension": ".py",
   "mimetype": "text/x-python",
   "name": "python",
   "nbconvert_exporter": "python",
   "pygments_lexer": "ipython3",
   "version": "3.8.10"
  },
  "toc": {
   "base_numbering": "1",
   "nav_menu": {},
   "number_sections": true,
   "sideBar": true,
   "skip_h1_title": true,
   "title_cell": "Tabla de contenido",
   "title_sidebar": "Contents",
   "toc_cell": true,
   "toc_position": {
    "height": "calc(100% - 180px)",
    "left": "10px",
    "top": "150px",
    "width": "307.2px"
   },
   "toc_section_display": true,
   "toc_window_display": false
  },
  "vscode": {
   "interpreter": {
    "hash": "0634e4dd20b528295ef26f02fa2bbe8ab80950c69707f1841d61df2f0a857575"
   }
  }
 },
 "nbformat": 4,
 "nbformat_minor": 4
}
