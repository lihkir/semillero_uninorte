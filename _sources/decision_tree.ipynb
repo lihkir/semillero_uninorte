{
 "cells": [
  {
   "cell_type": "markdown",
   "metadata": {},
   "source": [
    "# Modelo predictivo"
   ]
  },
  {
   "cell_type": "markdown",
   "metadata": {},
   "source": [
    "## Aprendizaje supervisado"
   ]
  },
  {
   "cell_type": "markdown",
   "metadata": {},
   "source": [
    "```{figure} ./imgs/supervised_classification.png\n",
    ":name: fig_supervised_classification\n",
    ":align: center\n",
    ":scale: 70\n",
    "```"
   ]
  },
  {
   "cell_type": "markdown",
   "metadata": {},
   "source": [
    "- Los tipos de algoritmos de `aprendizaje automático` más exitosos son los que automatizan procesos de toma de decisiones mediante generalización, a partir de ejemplos conocidos, el `aprendizaje supervisado` es un claro ejemplo de este tipo de algoritmos. En el `aprendizaje supervisado`, el usuario proporciona al algoritmo pares de entradas/salidas deseadas `(datos etiquetados)`, para entrenar algoritmos que clasifiquen datos o predigan resultados con precisión. \n",
    "\n",
    "- El algoritmo encuentra la manera de producir el resultado deseado a partir de una entrada. A medida que los datos de entrada se introducen en el modelo, éste ajusta sus ponderaciones hasta que el modelo se ha ajustado adecuadamente. A este procedimiento de ajuste del modelo se le conoce como `validación cruzada`. En concreto, el algoritmo es capaz de crear una salida para una entrada que nunca ha visto antes, sin la ayuda de un humano. Los algoritmos de `aprendizaje supervisado` son llamados así, porque un \"maestro\" proporciona supervisión a los algoritmos, en forma de las salidas deseadas para cada ejemplo del que aprenden."
   ]
  },
  {
   "cell_type": "markdown",
   "metadata": {},
   "source": [
    "## Ejemplos de tareas de aprendizaje automático supervisado\n",
    "\n",
    "- **`Identificar el código postal a partir de los dígitos escritos a mano en un sobre:`**\n",
    "    Aquí la entrada es un escaneo de la escritura a mano, y la salida deseada son los dígitos reales del código postal. Para crear un conjunto de datos para construir un modelo de aprendizaje automático, hay que recoger muchos sobres. Entonces puedes leer los códigos postales tú mismo y almacenar los dígitos como los resultados deseados.\n",
    "\n",
    "- **`Determinar si un tumor es benigno a partir de una imagen médica:`**\n",
    "    Aquí la entrada es la imagen, y la salida es si el tumor es benigno. Para crear un conjunto de datos para construir un modelo, se necesita una base de datos de imágenes médicas. También se necesita la opinión de un experto, por lo que un médico tiene que ver todas las imágenes y decidir qué tumores son benignos y cuáles no. Incluso puede ser necesario hacer un diagnóstico adicional más allá del contenido de la imagen para determinar si el tumor de la imagen es cancerígeno o no.\n",
    "\n",
    "- **`Detección de actividades fraudulentas en transacciones con tarjetas de crédito`**\n",
    "    Aquí la entrada es un registro de la transacción de la tarjeta de crédito, y la salida es si es probable que sea fraudulenta o no. Suponiendo que usted es la entidad que distribuye las tarjetas de crédito, recopilar un conjunto de datos significa almacenar todas las transacciones y registrar si un usuario denuncia alguna transacción como fraudulenta."
   ]
  },
  {
   "cell_type": "markdown",
   "metadata": {},
   "source": [
    "## Clasificación y regresión"
   ]
  },
  {
   "cell_type": "markdown",
   "metadata": {},
   "source": [
    "- Hay dos tipos principales de problemas de `aprendizaje automático supervisado`, denominados `clasificación` y `regresión`. En la `clasificación`, el objetivo es predecir una etiqueta de clase, que es una elección entre una lista predefinida de posibilidades. La `clasificación` se divide en `clasificación binaria`, que es el caso especial de distinguir entre exactamente dos clases, y `clasificación multiclase`, que es la clasificación entre más de dos clases. Se puede pensar en la `clasificación binaria` como si se tratara de responder sí/no a una pregunta. Clasificar los correos electrónicos como spam o no spam es un ejemplo de problema de clasificación binaria.\n",
    "\n",
    "- *En la `clasificación binaria` se suele hablar de que una clase es la `positiva` y la otra la `negativa`. Aquí, `positivo` no representa tener un beneficio o un valor, sino cuál es el objeto de estudio. Así, cuando se busca el spam, `\"positivo\"` podría significar la clase de spam. Cuál de las dos clases se denomina `positiva` suele ser una cuestión subjetiva y específica del ámbito.*"
   ]
  },
  {
   "cell_type": "markdown",
   "metadata": {},
   "source": [
    "- En las tareas de `regresión`, el objetivo es predecir un número continuo, o flotante en términos de programación (o un número real en términos matemáticos). Predecir los ingresos anuales de una persona a partir de su educación, su edad y su lugar de residencia es un ejemplo de tarea de `regresión`. Al predecir los ingresos, el valor predicho es una cantidad, y puede ser cualquier número en un rango determinado. \n",
    "\n",
    "- Una forma fácil de distinguir entre las tareas de `clasificación` y las de `regresión` es preguntarse si hay algún tipo de *continuidad en el resultado*. Si hay *continuidad* entre los posibles resultados, el problema es de regresión. En cambio, para la tarea de reconocer el idioma de un sitio web (que es un problema de `clasificación`), no hay cuestión de grado. Un sitio web está en un idioma o en otro. No hay continuidad entre las lenguas, y no hay ninguna lengua que esté entre el inglés y el francés. "
   ]
  },
  {
   "cell_type": "markdown",
   "metadata": {},
   "source": [
    "## Generalización, sobreajuste y subajuste"
   ]
  },
  {
   "cell_type": "markdown",
   "metadata": {},
   "source": [
    "- En el `aprendizaje supervisado`, queremos construir un modelo sobre los datos de entrenamiento y luego ser capaces de realizar predicciones precisas, sobre datos desconocidos que tengan las mismas características que el conjunto de entrenamiento que hemos utilizado. Si un modelo es capaz de realizar predicciones precisas, sobre datos desconocidos, decimos que es capaz de `generalizar` del conjunto de `entrenamiento` al conjunto de `prueba`. Queremos construir un modelo que sea capaz de `generalizar` con la mayor precisión posible.\n",
    "\n",
    "- Por lo general, construimos un modelo de manera que pueda hacer predicciones precisas en el conjunto de entrenamiento. Si los conjuntos de `entrenamiento` y de `prueba` tienen suficientes puntos en común, esperamos que el modelo también sea preciso en el conjunto de `prueba`. Sin embargo, hay algunos casos en los que esto puede no funcionar. Por ejemplo, si nos permitimos construir modelos muy complejos, podemos siempre ser tan precisos como queramos en el conjunto de entrenamiento, pero que no es capaz de generalizarse a nuevos datos `sobreajuste`.\n",
    "\n",
    "- El `sobreajuste (overfitting)` se produce cuando se ajusta un modelo demasiado a las particularidades del conjunto de entrenamiento, y se obtiene un modelo que funciona bien en el conjunto de entrenamiento pero no es capaz de generalizarse con nuevos datos. Por otro lado, si el modelo es demasiado simple, es posible que no sea capaz de captar todos los aspectos y la variabilidad de los datos, y el modelo funcionará mal incluso en el conjunto de entrenamiento. La elección de demasiado simple se denomina `subajuste (underfitting)`."
   ]
  },
  {
   "cell_type": "markdown",
   "metadata": {},
   "source": [
    "- *`Cuanto más complejo permitimos que sea nuestro modelo, mejor podremos predecir en los datos de entrenamiento. Sin embargo, si nuestro modelo se vuelve demasiado complejo, empezamos a centrarnos demasiado en cada punto de datos individual de nuestro conjunto de entrenamiento, y el modelo no se generalizará correctamente con nuevos datos. Hay un punto intermedio en el que se obtiene el mejor rendimiento de generalización. Este es el modelo que queremos encontrar. El equilibrio entre el overfitting y underfitting.`*"
   ]
  },
  {
   "cell_type": "markdown",
   "metadata": {},
   "source": [
    "```{figure} ./imgs/sweet_spot.png\n",
    ":name: fig_sweet_spot\n",
    ":align: center\n",
    "Equilibrio entre la complejidad del modelo frente a la precisión del entrenamiento y la prueba.\n",
    "```"
   ]
  },
  {
   "cell_type": "markdown",
   "metadata": {},
   "source": [
    "## Algunos ejemplos de conjuntos de datos"
   ]
  },
  {
   "cell_type": "markdown",
   "metadata": {},
   "source": [
    "- Utilizaremos varios conjuntos de datos para ilustrar los diferentes algoritmos. Algunos de los conjuntos de datos serán pequeños y sintéticos, diseñados para destacar aspectos concretos de los algoritmos. Otros conjuntos de datos serán ejemplos grandes del mundo real. Un ejemplo de conjunto de datos sintético de clasificación de dos clases es el conjunto de datos de `forge`, que tiene dos características. \n",
    "\n",
    "- El siguiente código crea un gráfico de dispersión que visualiza todos los puntos de datos de este `dataset`. El gráfico tiene la primera característica en el eje $x$ y la segunda en el eje $y$. Como siempre ocurre en los gráficos de dispersión, cada punto de datos está representado por un punto. El color y la forma del punto indican su clase. Generamos el conjunto de datos usando la librería `mglearn` (también puede utilizar `make_blobs` de `sklearn`) e importamos `warning` para evitar mensajes molestos, relacionados con advertencias inofensivas o funciones obsoletas en la actual versión de `Python`. En el presente curso usaremos las `versión 3.8 de Python`.\n",
    "\n",
    "- Para instalar `mglearn` en su ambiente para `Machine Learning` utilizar la siguiente orden\n",
    "\n",
    "    ```shell\n",
    "    pip install mglearn\n",
    "    ```\n",
    "\n",
    "    Si su algortimo presenta algún problema a la hora de reconocer `mglearn`, para solucionar este problema, elimine su actual enviroment. Luego cree un nuevo enviroment y en este instale el requirement asociado a este curso. El archivo aparece en (ver [requirements.txt](https://github.com/lihkir/Data/blob/main/requirements.txt)).\n",
    "\n",
    "    ```shell\n",
    "    pip install -r requirements.txt\n",
    "    ```"
   ]
  },
  {
   "cell_type": "markdown",
   "metadata": {},
   "source": [
    "- Procedemos ahora sí a importar cada una de las librerías del ejemplo, incluyendo: `matplotlib` y `numpy`"
   ]
  },
  {
   "cell_type": "code",
   "execution_count": 1,
   "metadata": {},
   "outputs": [],
   "source": [
    "import warnings\n",
    "warnings.filterwarnings(\"ignore\")"
   ]
  },
  {
   "cell_type": "code",
   "execution_count": 2,
   "metadata": {},
   "outputs": [],
   "source": [
    "import mglearn\n",
    "import matplotlib.pyplot as plt\n",
    "import numpy as np"
   ]
  },
  {
   "cell_type": "code",
   "execution_count": 3,
   "metadata": {},
   "outputs": [
    {
     "name": "stdout",
     "output_type": "stream",
     "text": [
      "cancer.keys(): \n",
      "dict_keys(['data', 'target', 'frame', 'target_names', 'DESCR', 'feature_names', 'filename', 'data_module'])\n"
     ]
    }
   ],
   "source": [
    "from sklearn.datasets import load_breast_cancer\n",
    "cancer = load_breast_cancer()\n",
    "print(\"cancer.keys(): \\n{}\".format(cancer.keys()))"
   ]
  },
  {
   "cell_type": "markdown",
   "metadata": {},
   "source": [
    "- *`Los conjuntos de datos que se incluyen en scikit-learn suelen almacenarse como objetos Bunch, que contienen alguna información sobre el conjunto de datos así como los datos reales. Todo lo que necesita saber sobre los objetos Bunch es que se comportan como diccionarios, con la ventaja añadida de que se puede acceder a los valores utilizando un punto (como en bunch.key en lugar de bunch['clave'] ).`*"
   ]
  },
  {
   "cell_type": "code",
   "execution_count": 4,
   "metadata": {},
   "outputs": [
    {
     "name": "stdout",
     "output_type": "stream",
     "text": [
      "Shape of cancer data: (569, 30)\n"
     ]
    }
   ],
   "source": [
    "print(\"Shape of cancer data: {}\".format(cancer.data.shape))"
   ]
  },
  {
   "cell_type": "code",
   "execution_count": 5,
   "metadata": {},
   "outputs": [
    {
     "data": {
      "text/plain": [
       "array(['malignant', 'benign'], dtype='<U9')"
      ]
     },
     "execution_count": 5,
     "metadata": {},
     "output_type": "execute_result"
    }
   ],
   "source": [
    "cancer.target_names"
   ]
  },
  {
   "cell_type": "code",
   "execution_count": 6,
   "metadata": {},
   "outputs": [
    {
     "name": "stdout",
     "output_type": "stream",
     "text": [
      "Sample counts per class:\n",
      "{'malignant': 212, 'benign': 357}\n"
     ]
    }
   ],
   "source": [
    "print(\"Sample counts per class:\\n{}\".format(\n",
    "{n: v for n, v in zip(cancer.target_names, np.bincount(cancer.target))}))"
   ]
  },
  {
   "cell_type": "markdown",
   "metadata": {},
   "source": [
    "- De estos 569 puntos de datos, 212 están etiquetados como malignos y 357 como benignos. Para obtener una descripción del significado semántico de cada característica, podemos echar un vistazo a el atributo `feature_names`. Si está interesado, puede obtener más información sobre los datos leyendo `cancer.DESCR`. Para mas información acerca de este conjunto de datos (ver [Breast cancer wisconsin (diagnostic) dataset](https://scikit-learn.org/stable/datasets/toy_dataset.html#breast-cancer-dataset))"
   ]
  },
  {
   "cell_type": "code",
   "execution_count": 7,
   "metadata": {},
   "outputs": [
    {
     "name": "stdout",
     "output_type": "stream",
     "text": [
      "Feature names:\n",
      "['mean radius' 'mean texture' 'mean perimeter' 'mean area'\n",
      " 'mean smoothness' 'mean compactness' 'mean concavity'\n",
      " 'mean concave points' 'mean symmetry' 'mean fractal dimension'\n",
      " 'radius error' 'texture error' 'perimeter error' 'area error'\n",
      " 'smoothness error' 'compactness error' 'concavity error'\n",
      " 'concave points error' 'symmetry error' 'fractal dimension error'\n",
      " 'worst radius' 'worst texture' 'worst perimeter' 'worst area'\n",
      " 'worst smoothness' 'worst compactness' 'worst concavity'\n",
      " 'worst concave points' 'worst symmetry' 'worst fractal dimension']\n"
     ]
    }
   ],
   "source": [
    "print(\"Feature names:\\n{}\".format(cancer.feature_names))"
   ]
  },
  {
   "cell_type": "markdown",
   "metadata": {},
   "source": [
    "## Árboles de decisión"
   ]
  },
  {
   "cell_type": "markdown",
   "metadata": {},
   "source": [
    "**`Observación`**\n",
    "\n",
    "- Los árboles de clasificación se basan en una idea simple, pero poderosa, y se encuentran entre las técnicas más populares de clasificación. Son sistemas de varias etapas, y la clasificación de un patrón en una clase se realiza de forma secuencial. A través de una serie de pruebas, las clases se rechazan de forma secuencial hasta que se llega a una decisión a favor de una clase restante. \n",
    "\n",
    "- Cada una de las pruebas, cuyo resultado decide qué clases se rechazan, es de tipo binario `\"Sí\"` o `\"No\"` y se aplica a una sola característica. Nuestro objetivo es presentar la filosofía principal en torno a un tipo especial de árboles conocidos como `árboles de clasificación binarios ordinarios (OBCT)`. Estos, pertenecen a una clase más general de métodos que construyen árboles, tanto para la clasificación como para la regresión, conocidos como `árboles de clasificación y regresión (CART)`.\n",
    "\n",
    "- La idea básica de los `OBCT` es dividir el espacio de características en (hiper) rectángulos; es decir, el espacio se divide mediante hiperplanos, que son paralelos a los ejes. Esto se ilustra en la {numref}`fig_decision_hypplanes_obct`"
   ]
  },
  {
   "cell_type": "markdown",
   "metadata": {},
   "source": [
    "```{figure} ./imgs/decision_hypplanes_obct.png\n",
    ":name: fig_decision_hypplanes_obct\n",
    ":align: center\n",
    ":scale: 50\n",
    "Partición del espacio de características bidimensional, correspondiente a tres clases, mediante un árbol de clasificación (OBCT).\n",
    "```"
   ]
  },
  {
   "cell_type": "markdown",
   "metadata": {},
   "source": [
    "- La partición del espacio en (hiper) rectángulos se realiza mediante una serie de `\"preguntas\"` de esta forma: ¿es el valor de la característica $x_{i} < a$?. Este también se conoce como el `criterio de división`. La secuencia de preguntas puede realizarse de forma agradable mediante el uso de un árbol. La {numref}`fig_decision_tree_obct` muestra el árbol correspondiente al caso ilustrado\n",
    "en la {numref}`fig_decision_hypplanes_obct`."
   ]
  },
  {
   "cell_type": "markdown",
   "metadata": {},
   "source": [
    "```{figure} ./imgs/decision_tree_obct.png\n",
    ":name: fig_decision_tree_obct\n",
    ":align: center\n",
    ":scale: 60\n",
    "Árbol de clasificación que realiza la partición del espacio para la tarea indicada en la {numref}`fig_decision_hypplanes_obct`.\n",
    "```"
   ]
  },
  {
   "cell_type": "markdown",
   "metadata": {},
   "source": [
    "- `Cada nodo del árbol realiza una prueba contra una característica individual y, si este no es un nodo hoja (sin división adicional), este es conectado a dos nodos descendientes (nodo de decisión): uno está asociado a la respuesta \"Yes\" y el otro a la respuesta \"No\"`."
   ]
  },
  {
   "cell_type": "markdown",
   "metadata": {},
   "source": [
    "- Partiendo del nodo raíz, se realiza un recorrido de decisiones sucesivas hasta llegar a un nodo hoja. `Cada nodo hoja está asociado a una única clase. La asignación de un punto a una clase se realiza según la etiqueta del nodo hoja correspondiente`. Este tipo de clasificación es conceptualmente simple y fácil de interpretar. Por ejemplo, en un sistema de diagnóstico médico, se puede empezar con una pregunta: ¿la temperatura es alta? Si la respuesta es afirmativa, una segunda pregunta puede ser: ¿presenta moquea? El proceso continúa hasta que se llega a una decisión final sobre la enfermedad.\n",
    "\n",
    "- Además, los árboles son útiles para construir sistemas de razonamiento en la inteligencia artificial. Por ejemplo, la existencia de objetos específicos, que se deduce a través de una serie de preguntas relacionadas, basadas en los valores de ciertas características (de alto nivel), puede conducir al reconocimiento de una escena o de un objeto representado en una imagen.\n",
    "\n",
    "- Una vez desarrollado el árbol, la clasificación es sencilla. El mayor reto consiste en construir el árbol, explotando la información que reside en el conjunto de datos de entrenamiento. Las principales preguntas a las que uno se enfrenta al diseñar un árbol, entreo otras que se discutiran más adelante, son:\n",
    "\n",
    "    - ¿Qué criterio de división debe adoptarse?\n",
    "    - ¿Cuándo se debe detener el crecimiento de un árbol y declarar un nodo como final?\n",
    "    - ¿Cómo se asocia un nodo hoja a una clase concreta?"
   ]
  },
  {
   "cell_type": "markdown",
   "metadata": {},
   "source": [
    "### Control de complejidad"
   ]
  },
  {
   "cell_type": "markdown",
   "metadata": {},
   "source": [
    "- Al construir un árbol como se describe en esta sección, hasta que todas las hojas sean puras, da lugar a modelos muy complejos y muy ajustados a los datos de entrenamiento. `La presencia de hojas puras significa que un árbol es 100% preciso en el conjunto de entrenamiento`; cada punto de datos del conjunto de entrenamiento está en una hoja que tiene la clase mayoritaria correcta. \n",
    "\n",
    "- Hay dos estrategias comunes para evitar el overfitting: `detener la creación del árbol antes de tiempo (también llamada prepoda), o construir el árbol, pero luego eliminar o colapsar nodos que contienen poca información (también llamada poda posterior o simplemente poda)`. Los posibles criterios para la `prepoda` incluyen la `limitación de la profundidad máxima del árbol, limitar el número máximo de hojas, o exigir un número mínimo de puntos en un nodo para seguir dividiéndolo`.\n",
    "\n",
    "- Los árboles de decisión en `scikit-learn` se implementan en las clases `DecisionTreeRegressor` y `DecisionTreeClassifier`. `scikit-learn` sólo implementa la pre-poda, no la post-poda. Veamos el efecto de la poda a priori con más detalle en el conjunto de datos de cáncer de mama. Como siempre, importamos el conjunto de datos y lo dividimos en una parte de entrenamiento y otra de prueba. A continuación, construimos un  modelo utilizando la configuración por defecto de desarrollo completo del árbol (extendiendo el árbol hasta que todas las hojas sean puras). Fijamos el `random_state` en el árbol, que se utiliza para ruptura interna de de los lazos. Nótese que seleccionamos `stratify=cancer.target`, los datos se dividen de forma estratificada, utilizando `cancer.target` como las etiquetas de clase (ver [stratified](https://scikit-learn.org/stable/modules/cross_validation.html#stratification))."
   ]
  },
  {
   "cell_type": "code",
   "execution_count": 8,
   "metadata": {},
   "outputs": [],
   "source": [
    "import warnings\n",
    "warnings.filterwarnings('ignore')"
   ]
  },
  {
   "cell_type": "code",
   "execution_count": 9,
   "metadata": {},
   "outputs": [],
   "source": [
    "from sklearn.tree import DecisionTreeClassifier\n",
    "from sklearn.datasets import load_breast_cancer\n",
    "from sklearn.model_selection import train_test_split"
   ]
  },
  {
   "cell_type": "code",
   "execution_count": 10,
   "metadata": {},
   "outputs": [],
   "source": [
    "cancer = load_breast_cancer()\n",
    "X_train, X_test, y_train, y_test = train_test_split(cancer.data, cancer.target, \n",
    "                                                    stratify=cancer.target, \n",
    "                                                    random_state=42)"
   ]
  },
  {
   "cell_type": "code",
   "execution_count": 11,
   "metadata": {},
   "outputs": [
    {
     "name": "stdout",
     "output_type": "stream",
     "text": [
      "Accuracy on training set: 1.000\n",
      "Accuracy on test set: 0.937\n"
     ]
    }
   ],
   "source": [
    "tree = DecisionTreeClassifier(random_state=0)\n",
    "tree.fit(X_train, y_train)\n",
    "print(\"Accuracy on training set: {:.3f}\".format(tree.score(X_train, y_train)))\n",
    "print(\"Accuracy on test set: {:.3f}\".format(tree.score(X_test, y_test)))"
   ]
  },
  {
   "cell_type": "markdown",
   "metadata": {},
   "source": [
    "- Aquí la función `score` como en la mayoría de clasificadores, devuelve la precisión media en los datos de prueba y las etiquetas dadas. Como era de esperar, `la precisión en el conjunto de entrenamiento es del 100%`, ya que las hojas son puras, el árbol creció lo suficiente como para poder memorizar perfectamente todas las etiquetas de los datos de entrenamiento. `La precisión del conjunto de prueba es ligeramente peor que la de los modelos lineales` que vimos anteriormente, que tenían una precisión de alrededor del 95%.\n",
    "\n",
    "- Si no restringimos la profundidad de un árbol de decisión, el árbol puede llegar a ser arbitrariamente profundo y complejo. `Los árboles no podados son, por tanto, son propensos a sobreajustarse y a no generalizar bien a los nuevos datos`. Ahora apliquemos la pre-poda, la cual que dejará de desarrollar el árbol antes de ajustarse perfectamente a los datos de entrenamiento. Una opción es dejar de construir el árbol después de alcanzar una cierta profundidad. En este caso,`establecemos que la profundidad máxima sea de 4 (max_depth=4), lo que significa que sólo se pueden formular cuatro preguntas consecutivas`. La limitación de la profundidad del árbol disminuye el sobreajuste. Esto conduce a una menor precisión en el conjunto de entrenamiento, pero una mejora en el conjunto de prueba"
   ]
  },
  {
   "cell_type": "code",
   "execution_count": 12,
   "metadata": {},
   "outputs": [
    {
     "name": "stdout",
     "output_type": "stream",
     "text": [
      "Accuracy on training set: 0.988\n",
      "Accuracy on test set: 0.951\n"
     ]
    }
   ],
   "source": [
    "tree = DecisionTreeClassifier(max_depth=4, random_state=0)\n",
    "tree.fit(X_train, y_train)\n",
    "print(\"Accuracy on training set: {:.3f}\".format(tree.score(X_train, y_train)))\n",
    "print(\"Accuracy on test set: {:.3f}\".format(tree.score(X_test, y_test)))"
   ]
  },
  {
   "cell_type": "markdown",
   "metadata": {},
   "source": [
    "### Análisis de los árboles de decisión"
   ]
  },
  {
   "cell_type": "markdown",
   "metadata": {},
   "source": [
    "- Podemos visualizar un árbol de decisión utilizando la función `export_graphviz` del módulo `tree`. Esta función escribe un archivo en el formato `.dot` de archivo de texto para almacenar gráficos. Establecemos una opción para colorear los nodos, para reflejar la clase mayoritaria en cada nodo y pasamos los nombres de las clases y las características para que el árbol pueda ser etiquetado correctamente. El argumento `impurity` está relacionado con la probabilidad de que clasifiquemos incorrectamente un nuevo punto de datos de forma incorrecta, normalmente calculada mediante la métrica de entropia `giny` la cual se aborda teóricamente en la sección anterior."
   ]
  },
  {
   "cell_type": "code",
   "execution_count": 13,
   "metadata": {},
   "outputs": [],
   "source": [
    "from sklearn.tree import export_graphviz"
   ]
  },
  {
   "cell_type": "code",
   "execution_count": 14,
   "metadata": {},
   "outputs": [],
   "source": [
    "export_graphviz(tree,\n",
    "                out_file=\"tree.dot\", \n",
    "                class_names=[\"malignant\", \"benign\"],\n",
    "                feature_names=cancer.feature_names, \n",
    "                impurity=False, \n",
    "                filled=True)"
   ]
  },
  {
   "cell_type": "markdown",
   "metadata": {},
   "source": [
    "- Podemos leer este archivo y visualizarlo, utilizando el modulo `graphviz` (o puede utilizar cualquier programa que pueda leer archivos `.dot`)"
   ]
  },
  {
   "cell_type": "code",
   "execution_count": 15,
   "metadata": {},
   "outputs": [
    {
     "data": {
      "image/svg+xml": [
       "<?xml version=\"1.0\" encoding=\"UTF-8\" standalone=\"no\"?>\n",
       "<!DOCTYPE svg PUBLIC \"-//W3C//DTD SVG 1.1//EN\"\n",
       " \"http://www.w3.org/Graphics/SVG/1.1/DTD/svg11.dtd\">\n",
       "<!-- Generated by graphviz version 2.38.0 (20140413.2041)\n",
       " -->\n",
       "<!-- Title: Tree Pages: 1 -->\n",
       "<svg width=\"1131pt\" height=\"477pt\"\n",
       " viewBox=\"0.00 0.00 1130.50 477.00\" xmlns=\"http://www.w3.org/2000/svg\" xmlns:xlink=\"http://www.w3.org/1999/xlink\">\n",
       "<g id=\"graph0\" class=\"graph\" transform=\"scale(1 1) rotate(0) translate(4 473)\">\n",
       "<title>Tree</title>\n",
       "<polygon fill=\"white\" stroke=\"none\" points=\"-4,4 -4,-473 1126.5,-473 1126.5,4 -4,4\"/>\n",
       "<!-- 0 -->\n",
       "<g id=\"node1\" class=\"node\"><title>0</title>\n",
       "<polygon fill=\"#afd7f4\" stroke=\"black\" points=\"699.5,-469 538.5,-469 538.5,-401 699.5,-401 699.5,-469\"/>\n",
       "<text text-anchor=\"middle\" x=\"619\" y=\"-453.8\" font-family=\"Helvetica,sans-Serif\" font-size=\"14.00\">worst radius &lt;= 16.795</text>\n",
       "<text text-anchor=\"middle\" x=\"619\" y=\"-438.8\" font-family=\"Helvetica,sans-Serif\" font-size=\"14.00\">samples = 426</text>\n",
       "<text text-anchor=\"middle\" x=\"619\" y=\"-423.8\" font-family=\"Helvetica,sans-Serif\" font-size=\"14.00\">value = [159, 267]</text>\n",
       "<text text-anchor=\"middle\" x=\"619\" y=\"-408.8\" font-family=\"Helvetica,sans-Serif\" font-size=\"14.00\">class = benign</text>\n",
       "</g>\n",
       "<!-- 1 -->\n",
       "<g id=\"node2\" class=\"node\"><title>1</title>\n",
       "<polygon fill=\"#4ca6e8\" stroke=\"black\" points=\"619,-365 409,-365 409,-297 619,-297 619,-365\"/>\n",
       "<text text-anchor=\"middle\" x=\"514\" y=\"-349.8\" font-family=\"Helvetica,sans-Serif\" font-size=\"14.00\">worst concave points &lt;= 0.136</text>\n",
       "<text text-anchor=\"middle\" x=\"514\" y=\"-334.8\" font-family=\"Helvetica,sans-Serif\" font-size=\"14.00\">samples = 284</text>\n",
       "<text text-anchor=\"middle\" x=\"514\" y=\"-319.8\" font-family=\"Helvetica,sans-Serif\" font-size=\"14.00\">value = [25, 259]</text>\n",
       "<text text-anchor=\"middle\" x=\"514\" y=\"-304.8\" font-family=\"Helvetica,sans-Serif\" font-size=\"14.00\">class = benign</text>\n",
       "</g>\n",
       "<!-- 0&#45;&gt;1 -->\n",
       "<g id=\"edge1\" class=\"edge\"><title>0&#45;&gt;1</title>\n",
       "<path fill=\"none\" stroke=\"black\" d=\"M584.91,-400.884C575.557,-391.798 565.312,-381.845 555.589,-372.4\"/>\n",
       "<polygon fill=\"black\" stroke=\"black\" points=\"557.89,-369.757 548.279,-365.299 553.013,-374.778 557.89,-369.757\"/>\n",
       "<text text-anchor=\"middle\" x=\"548.641\" y=\"-386.597\" font-family=\"Helvetica,sans-Serif\" font-size=\"14.00\">True</text>\n",
       "</g>\n",
       "<!-- 14 -->\n",
       "<g id=\"node15\" class=\"node\"><title>14</title>\n",
       "<polygon fill=\"#e78945\" stroke=\"black\" points=\"802,-365 648,-365 648,-297 802,-297 802,-365\"/>\n",
       "<text text-anchor=\"middle\" x=\"725\" y=\"-349.8\" font-family=\"Helvetica,sans-Serif\" font-size=\"14.00\">texture error &lt;= 0.473</text>\n",
       "<text text-anchor=\"middle\" x=\"725\" y=\"-334.8\" font-family=\"Helvetica,sans-Serif\" font-size=\"14.00\">samples = 142</text>\n",
       "<text text-anchor=\"middle\" x=\"725\" y=\"-319.8\" font-family=\"Helvetica,sans-Serif\" font-size=\"14.00\">value = [134, 8]</text>\n",
       "<text text-anchor=\"middle\" x=\"725\" y=\"-304.8\" font-family=\"Helvetica,sans-Serif\" font-size=\"14.00\">class = malignant</text>\n",
       "</g>\n",
       "<!-- 0&#45;&gt;14 -->\n",
       "<g id=\"edge14\" class=\"edge\"><title>0&#45;&gt;14</title>\n",
       "<path fill=\"none\" stroke=\"black\" d=\"M653.415,-400.884C662.857,-391.798 673.2,-381.845 683.015,-372.4\"/>\n",
       "<polygon fill=\"black\" stroke=\"black\" points=\"685.616,-374.755 690.395,-365.299 680.762,-369.711 685.616,-374.755\"/>\n",
       "<text text-anchor=\"middle\" x=\"689.914\" y=\"-386.595\" font-family=\"Helvetica,sans-Serif\" font-size=\"14.00\">False</text>\n",
       "</g>\n",
       "<!-- 2 -->\n",
       "<g id=\"node3\" class=\"node\"><title>2</title>\n",
       "<polygon fill=\"#3c9fe5\" stroke=\"black\" points=\"388.5,-261 239.5,-261 239.5,-193 388.5,-193 388.5,-261\"/>\n",
       "<text text-anchor=\"middle\" x=\"314\" y=\"-245.8\" font-family=\"Helvetica,sans-Serif\" font-size=\"14.00\">radius error &lt;= 1.048</text>\n",
       "<text text-anchor=\"middle\" x=\"314\" y=\"-230.8\" font-family=\"Helvetica,sans-Serif\" font-size=\"14.00\">samples = 252</text>\n",
       "<text text-anchor=\"middle\" x=\"314\" y=\"-215.8\" font-family=\"Helvetica,sans-Serif\" font-size=\"14.00\">value = [4, 248]</text>\n",
       "<text text-anchor=\"middle\" x=\"314\" y=\"-200.8\" font-family=\"Helvetica,sans-Serif\" font-size=\"14.00\">class = benign</text>\n",
       "</g>\n",
       "<!-- 1&#45;&gt;2 -->\n",
       "<g id=\"edge2\" class=\"edge\"><title>1&#45;&gt;2</title>\n",
       "<path fill=\"none\" stroke=\"black\" d=\"M449.066,-296.884C429.58,-286.946 408.061,-275.971 388.034,-265.757\"/>\n",
       "<polygon fill=\"black\" stroke=\"black\" points=\"389.449,-262.55 378.95,-261.125 386.269,-268.786 389.449,-262.55\"/>\n",
       "</g>\n",
       "<!-- 7 -->\n",
       "<g id=\"node8\" class=\"node\"><title>7</title>\n",
       "<polygon fill=\"#f3c3a1\" stroke=\"black\" points=\"593,-261 435,-261 435,-193 593,-193 593,-261\"/>\n",
       "<text text-anchor=\"middle\" x=\"514\" y=\"-245.8\" font-family=\"Helvetica,sans-Serif\" font-size=\"14.00\">worst texture &lt;= 25.62</text>\n",
       "<text text-anchor=\"middle\" x=\"514\" y=\"-230.8\" font-family=\"Helvetica,sans-Serif\" font-size=\"14.00\">samples = 32</text>\n",
       "<text text-anchor=\"middle\" x=\"514\" y=\"-215.8\" font-family=\"Helvetica,sans-Serif\" font-size=\"14.00\">value = [21, 11]</text>\n",
       "<text text-anchor=\"middle\" x=\"514\" y=\"-200.8\" font-family=\"Helvetica,sans-Serif\" font-size=\"14.00\">class = malignant</text>\n",
       "</g>\n",
       "<!-- 1&#45;&gt;7 -->\n",
       "<g id=\"edge7\" class=\"edge\"><title>1&#45;&gt;7</title>\n",
       "<path fill=\"none\" stroke=\"black\" d=\"M514,-296.884C514,-288.778 514,-279.982 514,-271.472\"/>\n",
       "<polygon fill=\"black\" stroke=\"black\" points=\"517.5,-271.299 514,-261.299 510.5,-271.299 517.5,-271.299\"/>\n",
       "</g>\n",
       "<!-- 3 -->\n",
       "<g id=\"node4\" class=\"node\"><title>3</title>\n",
       "<polygon fill=\"#3b9ee5\" stroke=\"black\" points=\"233.5,-157 44.5,-157 44.5,-89 233.5,-89 233.5,-157\"/>\n",
       "<text text-anchor=\"middle\" x=\"139\" y=\"-141.8\" font-family=\"Helvetica,sans-Serif\" font-size=\"14.00\">smoothness error &lt;= 0.003</text>\n",
       "<text text-anchor=\"middle\" x=\"139\" y=\"-126.8\" font-family=\"Helvetica,sans-Serif\" font-size=\"14.00\">samples = 251</text>\n",
       "<text text-anchor=\"middle\" x=\"139\" y=\"-111.8\" font-family=\"Helvetica,sans-Serif\" font-size=\"14.00\">value = [3, 248]</text>\n",
       "<text text-anchor=\"middle\" x=\"139\" y=\"-96.8\" font-family=\"Helvetica,sans-Serif\" font-size=\"14.00\">class = benign</text>\n",
       "</g>\n",
       "<!-- 2&#45;&gt;3 -->\n",
       "<g id=\"edge3\" class=\"edge\"><title>2&#45;&gt;3</title>\n",
       "<path fill=\"none\" stroke=\"black\" d=\"M257.183,-192.884C240.44,-183.125 221.981,-172.366 204.728,-162.31\"/>\n",
       "<polygon fill=\"black\" stroke=\"black\" points=\"206.234,-159.137 195.832,-157.125 202.709,-165.184 206.234,-159.137\"/>\n",
       "</g>\n",
       "<!-- 6 -->\n",
       "<g id=\"node7\" class=\"node\"><title>6</title>\n",
       "<polygon fill=\"#e58139\" stroke=\"black\" points=\"376.5,-149.5 251.5,-149.5 251.5,-96.5 376.5,-96.5 376.5,-149.5\"/>\n",
       "<text text-anchor=\"middle\" x=\"314\" y=\"-134.3\" font-family=\"Helvetica,sans-Serif\" font-size=\"14.00\">samples = 1</text>\n",
       "<text text-anchor=\"middle\" x=\"314\" y=\"-119.3\" font-family=\"Helvetica,sans-Serif\" font-size=\"14.00\">value = [1, 0]</text>\n",
       "<text text-anchor=\"middle\" x=\"314\" y=\"-104.3\" font-family=\"Helvetica,sans-Serif\" font-size=\"14.00\">class = malignant</text>\n",
       "</g>\n",
       "<!-- 2&#45;&gt;6 -->\n",
       "<g id=\"edge6\" class=\"edge\"><title>2&#45;&gt;6</title>\n",
       "<path fill=\"none\" stroke=\"black\" d=\"M314,-192.884C314,-182.326 314,-170.597 314,-159.854\"/>\n",
       "<polygon fill=\"black\" stroke=\"black\" points=\"317.5,-159.52 314,-149.52 310.5,-159.52 317.5,-159.52\"/>\n",
       "</g>\n",
       "<!-- 4 -->\n",
       "<g id=\"node5\" class=\"node\"><title>4</title>\n",
       "<polygon fill=\"#7bbeee\" stroke=\"black\" points=\"108,-53 0,-53 0,-0 108,-0 108,-53\"/>\n",
       "<text text-anchor=\"middle\" x=\"54\" y=\"-37.8\" font-family=\"Helvetica,sans-Serif\" font-size=\"14.00\">samples = 4</text>\n",
       "<text text-anchor=\"middle\" x=\"54\" y=\"-22.8\" font-family=\"Helvetica,sans-Serif\" font-size=\"14.00\">value = [1, 3]</text>\n",
       "<text text-anchor=\"middle\" x=\"54\" y=\"-7.8\" font-family=\"Helvetica,sans-Serif\" font-size=\"14.00\">class = benign</text>\n",
       "</g>\n",
       "<!-- 3&#45;&gt;4 -->\n",
       "<g id=\"edge4\" class=\"edge\"><title>3&#45;&gt;4</title>\n",
       "<path fill=\"none\" stroke=\"black\" d=\"M109.271,-88.9485C101.043,-79.8005 92.1103,-69.8697 83.8737,-60.7126\"/>\n",
       "<polygon fill=\"black\" stroke=\"black\" points=\"86.4391,-58.331 77.1494,-53.2367 81.2347,-63.0123 86.4391,-58.331\"/>\n",
       "</g>\n",
       "<!-- 5 -->\n",
       "<g id=\"node6\" class=\"node\"><title>5</title>\n",
       "<polygon fill=\"#3b9ee5\" stroke=\"black\" points=\"239.5,-53 126.5,-53 126.5,-0 239.5,-0 239.5,-53\"/>\n",
       "<text text-anchor=\"middle\" x=\"183\" y=\"-37.8\" font-family=\"Helvetica,sans-Serif\" font-size=\"14.00\">samples = 247</text>\n",
       "<text text-anchor=\"middle\" x=\"183\" y=\"-22.8\" font-family=\"Helvetica,sans-Serif\" font-size=\"14.00\">value = [2, 245]</text>\n",
       "<text text-anchor=\"middle\" x=\"183\" y=\"-7.8\" font-family=\"Helvetica,sans-Serif\" font-size=\"14.00\">class = benign</text>\n",
       "</g>\n",
       "<!-- 3&#45;&gt;5 -->\n",
       "<g id=\"edge5\" class=\"edge\"><title>3&#45;&gt;5</title>\n",
       "<path fill=\"none\" stroke=\"black\" d=\"M154.389,-88.9485C158.393,-80.3494 162.719,-71.0586 166.765,-62.3689\"/>\n",
       "<polygon fill=\"black\" stroke=\"black\" points=\"169.969,-63.7796 171.017,-53.2367 163.623,-60.8249 169.969,-63.7796\"/>\n",
       "</g>\n",
       "<!-- 8 -->\n",
       "<g id=\"node9\" class=\"node\"><title>8</title>\n",
       "<polygon fill=\"#7bbeee\" stroke=\"black\" points=\"587.5,-157 394.5,-157 394.5,-89 587.5,-89 587.5,-157\"/>\n",
       "<text text-anchor=\"middle\" x=\"491\" y=\"-141.8\" font-family=\"Helvetica,sans-Serif\" font-size=\"14.00\">worst smoothness &lt;= 0.179</text>\n",
       "<text text-anchor=\"middle\" x=\"491\" y=\"-126.8\" font-family=\"Helvetica,sans-Serif\" font-size=\"14.00\">samples = 12</text>\n",
       "<text text-anchor=\"middle\" x=\"491\" y=\"-111.8\" font-family=\"Helvetica,sans-Serif\" font-size=\"14.00\">value = [3, 9]</text>\n",
       "<text text-anchor=\"middle\" x=\"491\" y=\"-96.8\" font-family=\"Helvetica,sans-Serif\" font-size=\"14.00\">class = benign</text>\n",
       "</g>\n",
       "<!-- 7&#45;&gt;8 -->\n",
       "<g id=\"edge8\" class=\"edge\"><title>7&#45;&gt;8</title>\n",
       "<path fill=\"none\" stroke=\"black\" d=\"M506.533,-192.884C504.685,-184.689 502.678,-175.789 500.739,-167.192\"/>\n",
       "<polygon fill=\"black\" stroke=\"black\" points=\"504.123,-166.285 498.509,-157.299 497.294,-167.824 504.123,-166.285\"/>\n",
       "</g>\n",
       "<!-- 11 -->\n",
       "<g id=\"node12\" class=\"node\"><title>11</title>\n",
       "<polygon fill=\"#e88f4f\" stroke=\"black\" points=\"782,-157 606,-157 606,-89 782,-89 782,-157\"/>\n",
       "<text text-anchor=\"middle\" x=\"694\" y=\"-141.8\" font-family=\"Helvetica,sans-Serif\" font-size=\"14.00\">worst symmetry &lt;= 0.268</text>\n",
       "<text text-anchor=\"middle\" x=\"694\" y=\"-126.8\" font-family=\"Helvetica,sans-Serif\" font-size=\"14.00\">samples = 20</text>\n",
       "<text text-anchor=\"middle\" x=\"694\" y=\"-111.8\" font-family=\"Helvetica,sans-Serif\" font-size=\"14.00\">value = [18, 2]</text>\n",
       "<text text-anchor=\"middle\" x=\"694\" y=\"-96.8\" font-family=\"Helvetica,sans-Serif\" font-size=\"14.00\">class = malignant</text>\n",
       "</g>\n",
       "<!-- 7&#45;&gt;11 -->\n",
       "<g id=\"edge11\" class=\"edge\"><title>7&#45;&gt;11</title>\n",
       "<path fill=\"none\" stroke=\"black\" d=\"M572.441,-192.884C589.662,-183.125 608.648,-172.366 626.394,-162.31\"/>\n",
       "<polygon fill=\"black\" stroke=\"black\" points=\"628.57,-165.1 635.545,-157.125 625.119,-159.01 628.57,-165.1\"/>\n",
       "</g>\n",
       "<!-- 9 -->\n",
       "<g id=\"node10\" class=\"node\"><title>9</title>\n",
       "<polygon fill=\"#4fa8e8\" stroke=\"black\" points=\"410,-53 302,-53 302,-0 410,-0 410,-53\"/>\n",
       "<text text-anchor=\"middle\" x=\"356\" y=\"-37.8\" font-family=\"Helvetica,sans-Serif\" font-size=\"14.00\">samples = 10</text>\n",
       "<text text-anchor=\"middle\" x=\"356\" y=\"-22.8\" font-family=\"Helvetica,sans-Serif\" font-size=\"14.00\">value = [1, 9]</text>\n",
       "<text text-anchor=\"middle\" x=\"356\" y=\"-7.8\" font-family=\"Helvetica,sans-Serif\" font-size=\"14.00\">class = benign</text>\n",
       "</g>\n",
       "<!-- 8&#45;&gt;9 -->\n",
       "<g id=\"edge9\" class=\"edge\"><title>8&#45;&gt;9</title>\n",
       "<path fill=\"none\" stroke=\"black\" d=\"M443.784,-88.9485C429.931,-79.2516 414.822,-68.6752 401.104,-59.073\"/>\n",
       "<polygon fill=\"black\" stroke=\"black\" points=\"402.966,-56.1041 392.767,-53.2367 398.952,-61.8387 402.966,-56.1041\"/>\n",
       "</g>\n",
       "<!-- 10 -->\n",
       "<g id=\"node11\" class=\"node\"><title>10</title>\n",
       "<polygon fill=\"#e58139\" stroke=\"black\" points=\"553.5,-53 428.5,-53 428.5,-0 553.5,-0 553.5,-53\"/>\n",
       "<text text-anchor=\"middle\" x=\"491\" y=\"-37.8\" font-family=\"Helvetica,sans-Serif\" font-size=\"14.00\">samples = 2</text>\n",
       "<text text-anchor=\"middle\" x=\"491\" y=\"-22.8\" font-family=\"Helvetica,sans-Serif\" font-size=\"14.00\">value = [2, 0]</text>\n",
       "<text text-anchor=\"middle\" x=\"491\" y=\"-7.8\" font-family=\"Helvetica,sans-Serif\" font-size=\"14.00\">class = malignant</text>\n",
       "</g>\n",
       "<!-- 8&#45;&gt;10 -->\n",
       "<g id=\"edge10\" class=\"edge\"><title>8&#45;&gt;10</title>\n",
       "<path fill=\"none\" stroke=\"black\" d=\"M491,-88.9485C491,-80.7153 491,-71.848 491,-63.4814\"/>\n",
       "<polygon fill=\"black\" stroke=\"black\" points=\"494.5,-63.2367 491,-53.2367 487.5,-63.2367 494.5,-63.2367\"/>\n",
       "</g>\n",
       "<!-- 12 -->\n",
       "<g id=\"node13\" class=\"node\"><title>12</title>\n",
       "<polygon fill=\"#9ccef2\" stroke=\"black\" points=\"680,-53 572,-53 572,-0 680,-0 680,-53\"/>\n",
       "<text text-anchor=\"middle\" x=\"626\" y=\"-37.8\" font-family=\"Helvetica,sans-Serif\" font-size=\"14.00\">samples = 3</text>\n",
       "<text text-anchor=\"middle\" x=\"626\" y=\"-22.8\" font-family=\"Helvetica,sans-Serif\" font-size=\"14.00\">value = [1, 2]</text>\n",
       "<text text-anchor=\"middle\" x=\"626\" y=\"-7.8\" font-family=\"Helvetica,sans-Serif\" font-size=\"14.00\">class = benign</text>\n",
       "</g>\n",
       "<!-- 11&#45;&gt;12 -->\n",
       "<g id=\"edge12\" class=\"edge\"><title>11&#45;&gt;12</title>\n",
       "<path fill=\"none\" stroke=\"black\" d=\"M670.217,-88.9485C663.832,-80.0749 656.916,-70.4648 650.493,-61.5388\"/>\n",
       "<polygon fill=\"black\" stroke=\"black\" points=\"653.201,-59.3094 644.52,-53.2367 647.519,-63.398 653.201,-59.3094\"/>\n",
       "</g>\n",
       "<!-- 13 -->\n",
       "<g id=\"node14\" class=\"node\"><title>13</title>\n",
       "<polygon fill=\"#e58139\" stroke=\"black\" points=\"823.5,-53 698.5,-53 698.5,-0 823.5,-0 823.5,-53\"/>\n",
       "<text text-anchor=\"middle\" x=\"761\" y=\"-37.8\" font-family=\"Helvetica,sans-Serif\" font-size=\"14.00\">samples = 17</text>\n",
       "<text text-anchor=\"middle\" x=\"761\" y=\"-22.8\" font-family=\"Helvetica,sans-Serif\" font-size=\"14.00\">value = [17, 0]</text>\n",
       "<text text-anchor=\"middle\" x=\"761\" y=\"-7.8\" font-family=\"Helvetica,sans-Serif\" font-size=\"14.00\">class = malignant</text>\n",
       "</g>\n",
       "<!-- 11&#45;&gt;13 -->\n",
       "<g id=\"edge13\" class=\"edge\"><title>11&#45;&gt;13</title>\n",
       "<path fill=\"none\" stroke=\"black\" d=\"M717.433,-88.9485C723.725,-80.0749 730.538,-70.4648 736.867,-61.5388\"/>\n",
       "<polygon fill=\"black\" stroke=\"black\" points=\"739.824,-63.4188 742.753,-53.2367 734.114,-59.3701 739.824,-63.4188\"/>\n",
       "</g>\n",
       "<!-- 15 -->\n",
       "<g id=\"node16\" class=\"node\"><title>15</title>\n",
       "<polygon fill=\"#399de5\" stroke=\"black\" points=\"779,-253.5 671,-253.5 671,-200.5 779,-200.5 779,-253.5\"/>\n",
       "<text text-anchor=\"middle\" x=\"725\" y=\"-238.3\" font-family=\"Helvetica,sans-Serif\" font-size=\"14.00\">samples = 5</text>\n",
       "<text text-anchor=\"middle\" x=\"725\" y=\"-223.3\" font-family=\"Helvetica,sans-Serif\" font-size=\"14.00\">value = [0, 5]</text>\n",
       "<text text-anchor=\"middle\" x=\"725\" y=\"-208.3\" font-family=\"Helvetica,sans-Serif\" font-size=\"14.00\">class = benign</text>\n",
       "</g>\n",
       "<!-- 14&#45;&gt;15 -->\n",
       "<g id=\"edge15\" class=\"edge\"><title>14&#45;&gt;15</title>\n",
       "<path fill=\"none\" stroke=\"black\" d=\"M725,-296.884C725,-286.326 725,-274.597 725,-263.854\"/>\n",
       "<polygon fill=\"black\" stroke=\"black\" points=\"728.5,-263.52 725,-253.52 721.5,-263.52 728.5,-263.52\"/>\n",
       "</g>\n",
       "<!-- 16 -->\n",
       "<g id=\"node17\" class=\"node\"><title>16</title>\n",
       "<polygon fill=\"#e6843d\" stroke=\"black\" points=\"982.5,-261 809.5,-261 809.5,-193 982.5,-193 982.5,-261\"/>\n",
       "<text text-anchor=\"middle\" x=\"896\" y=\"-245.8\" font-family=\"Helvetica,sans-Serif\" font-size=\"14.00\">worst concavity &lt;= 0.191</text>\n",
       "<text text-anchor=\"middle\" x=\"896\" y=\"-230.8\" font-family=\"Helvetica,sans-Serif\" font-size=\"14.00\">samples = 137</text>\n",
       "<text text-anchor=\"middle\" x=\"896\" y=\"-215.8\" font-family=\"Helvetica,sans-Serif\" font-size=\"14.00\">value = [134, 3]</text>\n",
       "<text text-anchor=\"middle\" x=\"896\" y=\"-200.8\" font-family=\"Helvetica,sans-Serif\" font-size=\"14.00\">class = malignant</text>\n",
       "</g>\n",
       "<!-- 14&#45;&gt;16 -->\n",
       "<g id=\"edge16\" class=\"edge\"><title>14&#45;&gt;16</title>\n",
       "<path fill=\"none\" stroke=\"black\" d=\"M780.519,-296.884C796.879,-287.125 814.916,-276.366 831.774,-266.31\"/>\n",
       "<polygon fill=\"black\" stroke=\"black\" points=\"833.672,-269.253 840.467,-261.125 830.086,-263.242 833.672,-269.253\"/>\n",
       "</g>\n",
       "<!-- 17 -->\n",
       "<g id=\"node18\" class=\"node\"><title>17</title>\n",
       "<polygon fill=\"#bddef6\" stroke=\"black\" points=\"979,-157 813,-157 813,-89 979,-89 979,-157\"/>\n",
       "<text text-anchor=\"middle\" x=\"896\" y=\"-141.8\" font-family=\"Helvetica,sans-Serif\" font-size=\"14.00\">worst texture &lt;= 30.975</text>\n",
       "<text text-anchor=\"middle\" x=\"896\" y=\"-126.8\" font-family=\"Helvetica,sans-Serif\" font-size=\"14.00\">samples = 5</text>\n",
       "<text text-anchor=\"middle\" x=\"896\" y=\"-111.8\" font-family=\"Helvetica,sans-Serif\" font-size=\"14.00\">value = [2, 3]</text>\n",
       "<text text-anchor=\"middle\" x=\"896\" y=\"-96.8\" font-family=\"Helvetica,sans-Serif\" font-size=\"14.00\">class = benign</text>\n",
       "</g>\n",
       "<!-- 16&#45;&gt;17 -->\n",
       "<g id=\"edge17\" class=\"edge\"><title>16&#45;&gt;17</title>\n",
       "<path fill=\"none\" stroke=\"black\" d=\"M896,-192.884C896,-184.778 896,-175.982 896,-167.472\"/>\n",
       "<polygon fill=\"black\" stroke=\"black\" points=\"899.5,-167.299 896,-157.299 892.5,-167.299 899.5,-167.299\"/>\n",
       "</g>\n",
       "<!-- 20 -->\n",
       "<g id=\"node21\" class=\"node\"><title>20</title>\n",
       "<polygon fill=\"#e58139\" stroke=\"black\" points=\"1122.5,-149.5 997.5,-149.5 997.5,-96.5 1122.5,-96.5 1122.5,-149.5\"/>\n",
       "<text text-anchor=\"middle\" x=\"1060\" y=\"-134.3\" font-family=\"Helvetica,sans-Serif\" font-size=\"14.00\">samples = 132</text>\n",
       "<text text-anchor=\"middle\" x=\"1060\" y=\"-119.3\" font-family=\"Helvetica,sans-Serif\" font-size=\"14.00\">value = [132, 0]</text>\n",
       "<text text-anchor=\"middle\" x=\"1060\" y=\"-104.3\" font-family=\"Helvetica,sans-Serif\" font-size=\"14.00\">class = malignant</text>\n",
       "</g>\n",
       "<!-- 16&#45;&gt;20 -->\n",
       "<g id=\"edge20\" class=\"edge\"><title>16&#45;&gt;20</title>\n",
       "<path fill=\"none\" stroke=\"black\" d=\"M949.246,-192.884C968.874,-180.676 991.019,-166.903 1010.32,-154.899\"/>\n",
       "<polygon fill=\"black\" stroke=\"black\" points=\"1012.32,-157.773 1018.97,-149.52 1008.63,-151.829 1012.32,-157.773\"/>\n",
       "</g>\n",
       "<!-- 18 -->\n",
       "<g id=\"node19\" class=\"node\"><title>18</title>\n",
       "<polygon fill=\"#399de5\" stroke=\"black\" points=\"950,-53 842,-53 842,-0 950,-0 950,-53\"/>\n",
       "<text text-anchor=\"middle\" x=\"896\" y=\"-37.8\" font-family=\"Helvetica,sans-Serif\" font-size=\"14.00\">samples = 3</text>\n",
       "<text text-anchor=\"middle\" x=\"896\" y=\"-22.8\" font-family=\"Helvetica,sans-Serif\" font-size=\"14.00\">value = [0, 3]</text>\n",
       "<text text-anchor=\"middle\" x=\"896\" y=\"-7.8\" font-family=\"Helvetica,sans-Serif\" font-size=\"14.00\">class = benign</text>\n",
       "</g>\n",
       "<!-- 17&#45;&gt;18 -->\n",
       "<g id=\"edge18\" class=\"edge\"><title>17&#45;&gt;18</title>\n",
       "<path fill=\"none\" stroke=\"black\" d=\"M896,-88.9485C896,-80.7153 896,-71.848 896,-63.4814\"/>\n",
       "<polygon fill=\"black\" stroke=\"black\" points=\"899.5,-63.2367 896,-53.2367 892.5,-63.2367 899.5,-63.2367\"/>\n",
       "</g>\n",
       "<!-- 19 -->\n",
       "<g id=\"node20\" class=\"node\"><title>19</title>\n",
       "<polygon fill=\"#e58139\" stroke=\"black\" points=\"1093.5,-53 968.5,-53 968.5,-0 1093.5,-0 1093.5,-53\"/>\n",
       "<text text-anchor=\"middle\" x=\"1031\" y=\"-37.8\" font-family=\"Helvetica,sans-Serif\" font-size=\"14.00\">samples = 2</text>\n",
       "<text text-anchor=\"middle\" x=\"1031\" y=\"-22.8\" font-family=\"Helvetica,sans-Serif\" font-size=\"14.00\">value = [2, 0]</text>\n",
       "<text text-anchor=\"middle\" x=\"1031\" y=\"-7.8\" font-family=\"Helvetica,sans-Serif\" font-size=\"14.00\">class = malignant</text>\n",
       "</g>\n",
       "<!-- 17&#45;&gt;19 -->\n",
       "<g id=\"edge19\" class=\"edge\"><title>17&#45;&gt;19</title>\n",
       "<path fill=\"none\" stroke=\"black\" d=\"M943.216,-88.9485C957.069,-79.2516 972.178,-68.6752 985.896,-59.073\"/>\n",
       "<polygon fill=\"black\" stroke=\"black\" points=\"988.048,-61.8387 994.233,-53.2367 984.034,-56.1041 988.048,-61.8387\"/>\n",
       "</g>\n",
       "</g>\n",
       "</svg>\n"
      ],
      "text/plain": [
       "<graphviz.sources.Source at 0x1fb787b0af0>"
      ]
     },
     "execution_count": 15,
     "metadata": {},
     "output_type": "execute_result"
    }
   ],
   "source": [
    "import graphviz\n",
    "with open(\"tree.dot\") as f:\n",
    "    dot_graph = f.read()\n",
    "graphviz.Source(dot_graph)"
   ]
  },
  {
   "cell_type": "markdown",
   "metadata": {},
   "source": [
    "- La visualización del árbol proporciona una `gran visión en profundidad de cómo el algoritmo realiza predicciones, y es un buen ejemplo de un algoritmo de aprendizaje automático que puede fácilmente explicarse a no expertos`. Sin embargo, incluso con un árbol de profundidad cuatro, como se ve aquí, el árbol puede resultar un poco abrumador. Los árboles más profundos (una profundidad de 10 puede ser común) son aún más difíciles de entender. \n",
    "\n",
    "- Un método de inspección del árbol que puede ser útil es, averiguar qué camino toma realmente la mayoría de los datos. `Las n_samples que se muestran en cada nodo de la figura, entregan el número de muestras en ese nodo`, mientras que `value provee el número de muestras por clase`. Siguiendo las ramas hacia la derecha, vemos que el `worst radius` $\\leq$ `16.795` crea un nodo que contiene sólo `8 muestras benignas pero 134 muestras malignas. El resto de este lado del árbol utiliza entonces algunas distinciones más finas para separar estas 8 muestras benignas restantes`. De las 142 muestras que fueron a la derecha en la división inicial, casi todas ellas (132) terminan en la hoja de la derecha. Tomando la izquierda en la raíz, para el `worst radio > 16.795` terminamos con `25 muestras malignas y 259 muestras benignas`. Casi todas las muestras benignas acaban en la segunda hoja de la derecha, y la mayoría de las demás hojas contienen muy pocas muestras."
   ]
  },
  {
   "cell_type": "markdown",
   "metadata": {},
   "source": [
    "### Características importantes en los árboles"
   ]
  },
  {
   "cell_type": "markdown",
   "metadata": {},
   "source": [
    "- En lugar de mirar todo el árbol, lo que puede ser agotador, hay algunas `propiedades útiles que podemos derivar para resumir el funcionamiento del árbol`. El resumen más utilizado es el de las `características importantes, que califica la importancia de cada característica para la decisión que toma el árbol`. Es un número entre 0 y 1 para cada característica, donde 0 significa \"no se utiliza en absoluto\" y 1 significa \"predice perfectamente el objetivo\". Las características siempre suman 1"
   ]
  },
  {
   "cell_type": "markdown",
   "metadata": {},
   "source": [
    "- Otra `excelente manera de visualizar predicciones a partir de un random forest por ejemplo, es utilizando la librería` [LIME](https://www.kaggle.com/code/prashant111/explain-your-model-predictions-with-lime/notebook) `de Python`. Con esta librería se pueden generar por cada instancias, figuras de cartaterísticas importantes y representar sus probabilidades de pertenecer a la clase predicha (`pruebela`)."
   ]
  },
  {
   "cell_type": "code",
   "execution_count": 16,
   "metadata": {},
   "outputs": [
    {
     "name": "stdout",
     "output_type": "stream",
     "text": [
      "Feature importances:\n",
      "[0.         0.         0.         0.         0.         0.\n",
      " 0.         0.         0.         0.         0.01019737 0.04839825\n",
      " 0.         0.         0.0024156  0.         0.         0.\n",
      " 0.         0.         0.72682851 0.0458159  0.         0.\n",
      " 0.0141577  0.         0.018188   0.1221132  0.01188548 0.        ]\n"
     ]
    }
   ],
   "source": [
    "print(\"Feature importances:\\n{}\".format(tree.feature_importances_))"
   ]
  },
  {
   "cell_type": "markdown",
   "metadata": {},
   "source": [
    "- Podemos visualizar las importancias de las características de forma similar a la forma en que visualizamos los coeficientes en el modelo lineal"
   ]
  },
  {
   "cell_type": "code",
   "execution_count": 17,
   "metadata": {},
   "outputs": [],
   "source": [
    "import matplotlib.pyplot as plt\n",
    "import numpy as np"
   ]
  },
  {
   "cell_type": "code",
   "execution_count": 18,
   "metadata": {},
   "outputs": [],
   "source": [
    "def plot_feature_importances_cancer(model):\n",
    "    n_features = cancer.data.shape[1]\n",
    "    plt.barh(range(n_features), model.feature_importances_, align='center')\n",
    "    plt.yticks(np.arange(n_features), cancer.feature_names)\n",
    "    plt.xlabel(\"Feature importance\")\n",
    "    plt.ylabel(\"Feature\")"
   ]
  },
  {
   "cell_type": "code",
   "execution_count": 19,
   "metadata": {},
   "outputs": [
    {
     "data": {
      "image/png": "[encoded data removed]",
      "text/plain": [
       "<Figure size 432x288 with 1 Axes>"
      ]
     },
     "metadata": {
      "needs_background": "light"
     },
     "output_type": "display_data"
    }
   ],
   "source": [
    "plot_feature_importances_cancer(tree)"
   ]
  },
  {
   "cell_type": "markdown",
   "metadata": {},
   "source": [
    "- Aquí vemos que la característica utilizada en la división superior `(\"worst radio\")` es, con mucho, la más importante. Esto confirma nuestra observación al analizar el árbol de que el primer nivel ya separa bastante bien las dos clases. Sin embargo, si una característica tiene un `feature_importance` bajo, no significa que esta característica sea poco informativa. Sólo significa que la característica no fue elegida por el árbol, probablemente porque otra característica codifica la misma información.\n",
    "\n",
    "- A diferencia de los coeficientes de los modelos lineales, `las importancias de las características son siempre positivas y no codifican la clase de la que es indicativa una característica`. Las `feature_importance` nos dicen que el `\"worst radio\"` es importante, pero no si un radio alto es indicativo de que una muestra es benigna o maligna. De hecho, puede que no haya una relación tan sencilla entre las características y la clase, como se puede ver en el siguiente ejemplo. La siguiente figura muestra un conjunto de datos bidimensional en el que `la característica en el eje` $y$ `tiene una relación no monótona con la etiqueta de clase, y los límites de decisión encontrados por un árbol de decisión`"
   ]
  },
  {
   "cell_type": "code",
   "execution_count": 20,
   "metadata": {},
   "outputs": [],
   "source": [
    "import mglearn"
   ]
  },
  {
   "cell_type": "code",
   "execution_count": 21,
   "metadata": {},
   "outputs": [
    {
     "name": "stdout",
     "output_type": "stream",
     "text": [
      "Feature importances: [0. 1.]\n"
     ]
    },
    {
     "data": {
      "image/svg+xml": [
       "<?xml version=\"1.0\" encoding=\"UTF-8\" standalone=\"no\"?>\n",
       "<!DOCTYPE svg PUBLIC \"-//W3C//DTD SVG 1.1//EN\"\n",
       " \"http://www.w3.org/Graphics/SVG/1.1/DTD/svg11.dtd\">\n",
       "<!-- Generated by graphviz version 2.38.0 (20140413.2041)\n",
       " -->\n",
       "<!-- Title: Tree Pages: 1 -->\n",
       "<svg width=\"301pt\" height=\"224pt\"\n",
       " viewBox=\"0.00 0.00 301.00 224.00\" xmlns=\"http://www.w3.org/2000/svg\" xmlns:xlink=\"http://www.w3.org/1999/xlink\">\n",
       "<g id=\"graph0\" class=\"graph\" transform=\"scale(1 1) rotate(0) translate(4 220)\">\n",
       "<title>Tree</title>\n",
       "<polygon fill=\"white\" stroke=\"none\" points=\"-4,4 -4,-220 297,-220 297,4 -4,4\"/>\n",
       "<!-- 0 -->\n",
       "<g id=\"node1\" class=\"node\"><title>0</title>\n",
       "<polygon fill=\"#ffffff\" stroke=\"black\" points=\"172,-216 59,-216 59,-163 172,-163 172,-216\"/>\n",
       "<text text-anchor=\"middle\" x=\"115.5\" y=\"-200.8\" font-family=\"Helvetica,sans-Serif\" font-size=\"14.00\">X[1] &lt;= &#45;5.814</text>\n",
       "<text text-anchor=\"middle\" x=\"115.5\" y=\"-185.8\" font-family=\"Helvetica,sans-Serif\" font-size=\"14.00\">samples = 100</text>\n",
       "<text text-anchor=\"middle\" x=\"115.5\" y=\"-170.8\" font-family=\"Helvetica,sans-Serif\" font-size=\"14.00\">value = [50, 50]</text>\n",
       "</g>\n",
       "<!-- 1 -->\n",
       "<g id=\"node2\" class=\"node\"><title>1</title>\n",
       "<polygon fill=\"#e58139\" stroke=\"black\" points=\"105,-119.5 0,-119.5 0,-81.5 105,-81.5 105,-119.5\"/>\n",
       "<text text-anchor=\"middle\" x=\"52.5\" y=\"-104.3\" font-family=\"Helvetica,sans-Serif\" font-size=\"14.00\">samples = 25</text>\n",
       "<text text-anchor=\"middle\" x=\"52.5\" y=\"-89.3\" font-family=\"Helvetica,sans-Serif\" font-size=\"14.00\">value = [25, 0]</text>\n",
       "</g>\n",
       "<!-- 0&#45;&gt;1 -->\n",
       "<g id=\"edge1\" class=\"edge\"><title>0&#45;&gt;1</title>\n",
       "<path fill=\"none\" stroke=\"black\" d=\"M96.9387,-162.868C88.898,-151.764 79.496,-138.78 71.416,-127.622\"/>\n",
       "<polygon fill=\"black\" stroke=\"black\" points=\"74.2392,-125.553 65.5393,-119.507 68.5696,-129.659 74.2392,-125.553\"/>\n",
       "<text text-anchor=\"middle\" x=\"61.5895\" y=\"-140.493\" font-family=\"Helvetica,sans-Serif\" font-size=\"14.00\">True</text>\n",
       "</g>\n",
       "<!-- 2 -->\n",
       "<g id=\"node3\" class=\"node\"><title>2</title>\n",
       "<polygon fill=\"#9ccef2\" stroke=\"black\" points=\"236,-127 123,-127 123,-74 236,-74 236,-127\"/>\n",
       "<text text-anchor=\"middle\" x=\"179.5\" y=\"-111.8\" font-family=\"Helvetica,sans-Serif\" font-size=\"14.00\">X[1] &lt;= 5.348</text>\n",
       "<text text-anchor=\"middle\" x=\"179.5\" y=\"-96.8\" font-family=\"Helvetica,sans-Serif\" font-size=\"14.00\">samples = 75</text>\n",
       "<text text-anchor=\"middle\" x=\"179.5\" y=\"-81.8\" font-family=\"Helvetica,sans-Serif\" font-size=\"14.00\">value = [25, 50]</text>\n",
       "</g>\n",
       "<!-- 0&#45;&gt;2 -->\n",
       "<g id=\"edge2\" class=\"edge\"><title>0&#45;&gt;2</title>\n",
       "<path fill=\"none\" stroke=\"black\" d=\"M134.356,-162.868C140.679,-154.272 147.832,-144.549 154.548,-135.419\"/>\n",
       "<polygon fill=\"black\" stroke=\"black\" points=\"157.451,-137.379 160.558,-127.25 151.813,-133.231 157.451,-137.379\"/>\n",
       "<text text-anchor=\"middle\" x=\"164.322\" y=\"-148.265\" font-family=\"Helvetica,sans-Serif\" font-size=\"14.00\">False</text>\n",
       "</g>\n",
       "<!-- 3 -->\n",
       "<g id=\"node4\" class=\"node\"><title>3</title>\n",
       "<polygon fill=\"#399de5\" stroke=\"black\" points=\"170,-38 65,-38 65,-0 170,-0 170,-38\"/>\n",
       "<text text-anchor=\"middle\" x=\"117.5\" y=\"-22.8\" font-family=\"Helvetica,sans-Serif\" font-size=\"14.00\">samples = 50</text>\n",
       "<text text-anchor=\"middle\" x=\"117.5\" y=\"-7.8\" font-family=\"Helvetica,sans-Serif\" font-size=\"14.00\">value = [0, 50]</text>\n",
       "</g>\n",
       "<!-- 2&#45;&gt;3 -->\n",
       "<g id=\"edge3\" class=\"edge\"><title>2&#45;&gt;3</title>\n",
       "<path fill=\"none\" stroke=\"black\" d=\"M159.542,-73.9081C152.674,-65.1022 144.975,-55.2299 138.06,-46.3636\"/>\n",
       "<polygon fill=\"black\" stroke=\"black\" points=\"140.634,-43.972 131.724,-38.2389 135.114,-48.2768 140.634,-43.972\"/>\n",
       "</g>\n",
       "<!-- 4 -->\n",
       "<g id=\"node5\" class=\"node\"><title>4</title>\n",
       "<polygon fill=\"#e58139\" stroke=\"black\" points=\"293,-38 188,-38 188,-0 293,-0 293,-38\"/>\n",
       "<text text-anchor=\"middle\" x=\"240.5\" y=\"-22.8\" font-family=\"Helvetica,sans-Serif\" font-size=\"14.00\">samples = 25</text>\n",
       "<text text-anchor=\"middle\" x=\"240.5\" y=\"-7.8\" font-family=\"Helvetica,sans-Serif\" font-size=\"14.00\">value = [25, 0]</text>\n",
       "</g>\n",
       "<!-- 2&#45;&gt;4 -->\n",
       "<g id=\"edge4\" class=\"edge\"><title>2&#45;&gt;4</title>\n",
       "<path fill=\"none\" stroke=\"black\" d=\"M199.137,-73.9081C205.893,-65.1022 213.468,-55.2299 220.271,-46.3636\"/>\n",
       "<polygon fill=\"black\" stroke=\"black\" points=\"223.195,-48.3032 226.505,-38.2389 217.641,-44.042 223.195,-48.3032\"/>\n",
       "</g>\n",
       "</g>\n",
       "</svg>\n"
      ],
      "text/plain": [
       "<graphviz.sources.Source at 0x1fb7aa4f0d0>"
      ]
     },
     "metadata": {},
     "output_type": "display_data"
    },
    {
     "data": {
      "image/png": "[encoded data removed]",
      "text/plain": [
       "<Figure size 432x288 with 1 Axes>"
      ]
     },
     "metadata": {},
     "output_type": "display_data"
    }
   ],
   "source": [
    "tree = mglearn.plots.plot_tree_not_monotone()\n",
    "display(tree)"
   ]
  },
  {
   "cell_type": "markdown",
   "metadata": {},
   "source": [
    "- El gráfico muestra un conjunto de datos con dos características y dos clases. Aquí, toda la información está contenida en `X[1]` , y `X[0]` no se utiliza en absoluto. Pero la relación entre X[1] y la clase de salida no es monótona, lo que significa que no podemos decir `\"un valor alto de X[0] significa la clase 0, y un valor bajo significa la clase 1\" (o viceversa)`. Aunque hemos centrado nuestra discusión aquí en los árboles de decisión para la clasificación, todo lo que se ha dicho es igualmente cierto para los árboles de decisión para la regresión, como se implementa en `DecisionTreeRegressor`. \n",
    "\n",
    "- El uso y análisis de los árboles de regresión es muy similar al de los árboles de clasificación. Hay una propiedad particular del uso de modelos basados en árboles para regresión que queremos señalar, sin embargo, `DecisionTreeRegressor (y todos los otros modelos de regresión basados en árboles) no son capaces de extrapolar, o hacer predicciones fuera del rango de los datos de entrenamiento`. Veamos esto con más detalle, utilizando un conjunto de datos de los precios históricos de la memoria de los ordenadores (RAM). La siguiente figura muestra el conjunto de datos, con la fecha en el eje $x$ y el precio de un megabyte de RAM en ese año en el eje $y$:"
   ]
  },
  {
   "cell_type": "code",
   "execution_count": 22,
   "metadata": {},
   "outputs": [
    {
     "data": {
      "text/plain": [
       "Text(0, 0.5, 'Price in $/Mbyte')"
      ]
     },
     "execution_count": 22,
     "metadata": {},
     "output_type": "execute_result"
    },
    {
     "data": {
      "image/png": "[encoded data removed]",
      "text/plain": [
       "<Figure size 432x288 with 1 Axes>"
      ]
     },
     "metadata": {
      "needs_background": "light"
     },
     "output_type": "display_data"
    }
   ],
   "source": [
    "import pandas as pd\n",
    "ram_prices = pd.read_csv(\"https://raw.githubusercontent.com/lihkir/Data/main/ram_price.csv\")\n",
    "plt.semilogy(ram_prices.date, ram_prices.price)\n",
    "plt.xlabel(\"Year\")\n",
    "plt.ylabel(\"Price in $/Mbyte\")"
   ]
  },
  {
   "cell_type": "markdown",
   "metadata": {},
   "source": [
    "- Nótese que en la escala logarítmica del eje $y$, `la relación parece ser bastante lineal y, por tanto, debería ser relativamente fácil de predecir`. Vamos a hacer una predicción para los años posteriores al 2000 utilizando los datos históricos hasta esa fecha como única característica. Compararemos dos modelos sencillos: un `DecisionTreeRegressor` y `LinearRegression`. \n",
    "\n",
    "- Cambiamos la escala de los precios utilizando un logaritmo, para que la relación sea relativamente lineal. Esto no supone ninguna diferencia para el `DecisionTreeRegressor`, pero supone una gran diferencia para el `LinearRegression`. Después de entrenar los modelos y hacer predicciones, aplicamos la función exponencial para deshacer la transformación del logaritmo. Realizamos predicciones sobre todo el conjunto de datos para su visualización, pero para una evaluación cuantitativa, sólo consideraríamos el conjunto de datos de prueba"
   ]
  },
  {
   "cell_type": "code",
   "execution_count": 23,
   "metadata": {},
   "outputs": [],
   "source": [
    "from sklearn.tree import DecisionTreeRegressor\n",
    "from sklearn.linear_model import LinearRegression"
   ]
  },
  {
   "cell_type": "markdown",
   "metadata": {},
   "source": [
    "- Utilizamos los datos históricos para prever los precios después del año 2000. `Realizamos predicción de los precios en función de la fecha`. Utilizamos una transformación logarítmica para obtener una relación más sencilla de los datos con el objetivo"
   ]
  },
  {
   "cell_type": "code",
   "execution_count": 24,
   "metadata": {},
   "outputs": [],
   "source": [
    "\n",
    "data_train = ram_prices[ram_prices.date < 2000]\n",
    "data_test  = ram_prices[ram_prices.date >= 2000]\n",
    "\n",
    "X_train = data_train.date[:, np.newaxis] # Vector columna\n",
    "y_train = np.log(data_train.price)\n",
    "\n",
    "tree = DecisionTreeRegressor().fit(X_train, y_train)\n",
    "linear_reg = LinearRegression().fit(X_train, y_train)\n",
    "\n",
    "X_all = ram_prices.date[:, np.newaxis]\n",
    "pred_tree = tree.predict(X_all)\n",
    "pred_lr = linear_reg.predict(X_all)\n",
    "\n",
    "price_tree = np.exp(pred_tree)\n",
    "price_lr = np.exp(pred_lr)"
   ]
  },
  {
   "cell_type": "markdown",
   "metadata": {},
   "source": [
    "- Realizamos una figura para comparar las predicciones del árbol de decisión y del modelo de regresión lineal con la los datos reales de entrenamiento y de prueba"
   ]
  },
  {
   "cell_type": "code",
   "execution_count": 25,
   "metadata": {},
   "outputs": [
    {
     "data": {
      "image/png": "[encoded data removed]",
      "text/plain": [
       "<Figure size 432x288 with 1 Axes>"
      ]
     },
     "metadata": {
      "needs_background": "light"
     },
     "output_type": "display_data"
    }
   ],
   "source": [
    "plt.semilogy(data_train.date, data_train.price, label=\"Training data\")\n",
    "plt.semilogy(data_test.date, data_test.price, label=\"Test data\")\n",
    "plt.semilogy(ram_prices.date, price_tree, label=\"Tree prediction\")\n",
    "plt.semilogy(ram_prices.date, price_lr, label=\"Linear prediction\")\n",
    "plt.legend();"
   ]
  },
  {
   "cell_type": "markdown",
   "metadata": {},
   "source": [
    "- La diferencia entre los modelos es bastante sorprendente. El modelo lineal se aproxima a los datos con una línea, como sabíamos que haría. Esta línea proporciona una previsión bastante buena para los datos de prueba (los años posteriores al 2000), mientras que pasa por alto algunas de las variaciones más finas en los datos de entrenamiento y de prueba. `El modelo de árbol, por su parte, hace predicciones perfectas sobre los datos de entrenamiento`, no restringimos la complejidad del árbol, por lo que aprendió de memoria todo el conjunto de datos. Sin embargo, `una vez que salimos del rango para el que el arbol tiene datos, el modelo simplemente sigue prediciendo el último punto conocido`. El árbol no tiene la capacidad para generar `\"nuevas\"` respuestas, fuera de lo que se vio en los datos de de entrenamiento. Esta deficiencia se aplica a todos los modelos basados en árboles."
   ]
  },
  {
   "cell_type": "markdown",
   "metadata": {},
   "source": [
    "**`Puntos fuertes, puntos débiles y parámetros`**"
   ]
  },
  {
   "cell_type": "markdown",
   "metadata": {},
   "source": [
    "- Como ya se ha comentado, los parámetros que controlan la complejidad del modelo en los árboles de decisión son los parámetros de pre-selección que detienen la construcción del árbol antes de que esté completamente desarrollado. Por lo general, la elección de una de las estrategias de pre-poda y configuración de: `max_depth, max_leaf_nodes, min_samples_leaf` es suficiente para evitar el overfitting de la misma.\n",
    "\n",
    "- Los árboles de decisión tienen dos ventajas sobre muchos de los algoritmos que hemos analizado hasta ahora: `el modelo resultante puede ser fácilmente visualizado y entendido por personas no expertas (al menos para los árboles más pequeños)`, y los `algoritmos son completamente invariables a la escala de los datos`. Como `cada característica se procesa por separado`, y las posibles divisiones de los datos no dependen de la escala, no es necesario un preprocesamiento como la normalización o la estandarización de las características para los algoritmos de árboles de decisión. \n",
    "\n",
    "- En particular, los árboles de decisión funcionan bien cuando se tienen características que están en escalas completamente diferentes, o una mezcla de características binarias y continuas. `El principal inconveniente de los árboles de decisión es que, incluso con el uso de la pre-poda, tienden a sobreajustarse y a proporcionar un pobre rendimiento de generalización`. Por lo tanto, en la mayoría de las aplicaciones, los `métodos combiandos` que analizamos a continuación suelen utilizarse en lugar de un único árbol de decisión."
   ]
  },
  {
   "cell_type": "markdown",
   "metadata": {},
   "source": [
    "### Ensamble de árboles de decisión"
   ]
  },
  {
   "cell_type": "markdown",
   "metadata": {},
   "source": [
    "- `Los ensambles son métodos que combinan múltiples modelos de aprendizaje automático para crear modelos más potentes`. Hay muchos modelos en la literatura de aprendizaje automático que pertenecen a esta categoría, pero hay dos modelos de ensamble que han demostrado su eficacia en una amplia gama de conjuntos de datos de clasificación y regresión, ambos utilizan árboles de decisión como bloques de construcción: los `random forest` y los `gradient boosted decision trees.`"
   ]
  },
  {
   "cell_type": "markdown",
   "metadata": {},
   "source": [
    "**`Bosques aleatorios`**\n",
    "\n",
    "- Como acabamos de observar, uno de los principales inconvenientes de `los árboles de decisión es que tienden a sobreajustar los datos de entrenamiento. Los bosques aleatorios son una forma de abordar este problema`. Un bosque aleatorio es esencialmente una colección de árboles de decisión, donde cada árbol es ligeramente diferente de de los demás. La idea detrás de los bosques aleatorios es que cada árbol puede hacer un trabajo de predicción relativamente bien, pero es probable que se ajuste demasiado a una parte de los datos. `Si construimos muchos árboles, todos los cuales funcionan bien y se ajustan en exceso de diferentes maneras, podemos reducir la cantidad de sobreajuste promediando sus resultados`. Esta reducción de overfitting, al tiempo que se mantiene el poder de predicción de los árboles se puede verificar matemáticamente.\n",
    "\n",
    "- Para poner en práctica esta estrategia, tenemos que construir muchos árboles de decisión. Cada árbol debe hacer un trabajo aceptable de predicción del objetivo, y también debe ser diferente de los otros árboles. Los bosques aleatorios reciben su nombre de la inyección de aleatoriedad en la construcción de árboles para garantizar que cada árbol sea diferente. Hay dos formas de aleatorizar los árboles de un bosque aleatorio: `seleccionando los puntos de datos utilizados para construir un árbol y seleccionando las características en cada prueba de división`. Veamos este proceso con más detalle."
   ]
  },
  {
   "cell_type": "markdown",
   "metadata": {},
   "source": [
    "**`Construcción de bosques aleatorios`**\n",
    "\n",
    "- Para construir un modelo de bosque aleatorio (`random forest`), hay que decidir el número de árboles a construir (el parámetro `n_estimators` de `RandomForestRegressor` o `RandomForestClassifier`). Digamos que queremos construir 10 árboles. Estos árboles se construirán de forma completamente independiente unos de otros, y `el algoritmo hará elecciones aleatorias diferentes para cada árbol con el fin de asegurarse de que los árboles son distintos`. \n",
    "\n",
    "- Para construir un árbol, primero tomamos lo que se llama una `muestra bootstrap` de nuestros datos. Es decir, a partir de nuestras `n_samples` (puntos de datos), extraemos repetidamente un ejemplo al azar con reemplazo (lo que significa que la misma muestra puede ser elegida varias veces), `n_samples` veces. Esto creará un conjunto de datos que es tan grande como el conjunto de datos original, pero en el que faltarán algunos puntos de dato (aproximadamente un tercio), y algunos se repetirán.\n",
    "\n",
    "- Para ilustrarlo, digamos que queremos crear una `muestra bootstrap` de la lista `['a', 'b', 'c', 'd']`. Una posible muestra bootstrap sería `['b', 'd', 'd', 'c']`. Otra muestra posible sería `['d', 'a', 'd', 'a']`. A continuación, `se construye un árbol de decisión basado en este conjunto de datos (muestra bootstrap) recién creado`. Sin embargo, el algoritmo que hemos descrito para el árbol de decisión se ha modificado ligeramente. En lugar de buscar la mejor prueba para cada nodo, el algoritmo `selecciona aleatoriamente un subconjunto de características y busca la mejor prueba posible que incluya una de estas características`."
   ]
  },
  {
   "cell_type": "markdown",
   "metadata": {},
   "source": [
    "- El número de características que se seleccionan se controla con el parámetro `max_features`. La selección de un subconjunto de características se repite por separado en cada nodo, de modo que `cada nodo de un árbol puede tomar una decisión utilizando un subconjunto diferente de las características`. `El muestreo bootstrap hace que cada árbol de decisión del bosque aleatorio se construya en un conjunto de datos ligeramente diferente`. Debido a la selección de características en cada nodo, cada división de cada árbol opera con un subconjunto diferente de características. Juntos, estos dos mecanismos aseguran que todos los árboles del bosque aleatorio son diferentes.\n",
    "\n",
    "- En este proceso el parámetro `max_features` es crítico. Si establecemos `max_features` en `n_features`, `significa que cada división puede mirar todas las características del conjunto de datos, y no se inyectará aleatoriedad ninguna en la selección de características` (la aleatoriedad debida al bootstrap permanece, sin embargo). Si establecemos `max_features en 1, esto significa que las divisiones no tienen ninguna opción sobre qué característica probar`, y sólo pueden buscar sobre diferentes umbrales para la característica que fue seleccionada  al azar. Por lo tanto, un `max_feature` significa que los árboles del bosque aleatorio serán bastante similares y podrán con facilidad ajustarse a los datos, utilizando las características más distintivas. `Un max_features bajo significa que los árboles del bosque aleatorio serán bastante diferentes, y que cada árbol puede necesitar ser muy profundo para ajustarse bien a los datos`.\n",
    "\n",
    "- Para hacer una predicción utilizando el bosque aleatorio, el algoritmo realiza primero una predicción para cada árbol del bosque. `Para la regresión, podemos promediar estos resultados para obtener nuestra predicción final`. Para la clasificación, se utiliza una estrategia de `\"votación suave\"`. Esto significa que cada algoritmo hace una predicción `\"suave\"`, proporcionando una probabilidad para cada posible etiqueta de salida. `Las probabilidades predichas por todos los árboles se promedian y se predice la clase con la mayor probabilidad`."
   ]
  },
  {
   "cell_type": "markdown",
   "metadata": {},
   "source": [
    "```{figure} ./imgs/random-forest-diagram.png\n",
    ":name: random-forest-diagram\n",
    ":align: center\n",
    ":scale: 70\n",
    "```"
   ]
  },
  {
   "cell_type": "markdown",
   "metadata": {},
   "source": [
    "**`Análisis de los bosques aleatorios`**. Apliquemos un bosque aleatorio compuesto por cinco árboles al conjunto de datos `two_moons`"
   ]
  },
  {
   "cell_type": "code",
   "execution_count": 26,
   "metadata": {},
   "outputs": [],
   "source": [
    "from sklearn.ensemble import RandomForestClassifier\n",
    "from sklearn.datasets import make_moons\n",
    "from sklearn.model_selection import train_test_split\n",
    "import matplotlib.pyplot as plt\n",
    "import mglearn"
   ]
  },
  {
   "cell_type": "code",
   "execution_count": 27,
   "metadata": {},
   "outputs": [],
   "source": [
    "X, y = make_moons(n_samples=100, noise=0.25, random_state=3)"
   ]
  },
  {
   "cell_type": "code",
   "execution_count": 28,
   "metadata": {},
   "outputs": [
    {
     "data": {
      "text/plain": [
       "RandomForestClassifier(n_estimators=5, random_state=2)"
      ]
     },
     "execution_count": 28,
     "metadata": {},
     "output_type": "execute_result"
    }
   ],
   "source": [
    "X_train, X_test, y_train, y_test = train_test_split(X, y, stratify=y, random_state=42)\n",
    "forest = RandomForestClassifier(n_estimators=5, random_state=2)\n",
    "forest.fit(X_train, y_train)"
   ]
  },
  {
   "cell_type": "markdown",
   "metadata": {},
   "source": [
    "- `Los árboles que se construyen como parte del bosque aleatorio se almacenan en estimator_attribute`. Visualicemos los límites de decisión aprendidos por cada árbol, junto con su predicción agregada"
   ]
  },
  {
   "cell_type": "code",
   "execution_count": 29,
   "metadata": {},
   "outputs": [
    {
     "data": {
      "image/png": "[encoded data removed]",
      "text/plain": [
       "<Figure size 1440x720 with 6 Axes>"
      ]
     },
     "metadata": {},
     "output_type": "display_data"
    }
   ],
   "source": [
    "fig, axes = plt.subplots(2, 3, figsize=(20, 10))\n",
    "\n",
    "for i, (ax, tree) in enumerate(zip(axes.ravel(), forest.estimators_)):\n",
    "    ax.set_title(\"Tree {}\".format(i))\n",
    "    mglearn.plots.plot_tree_partition(X_train, y_train, tree, ax=ax)\n",
    "\n",
    "mglearn.plots.plot_2d_separator(forest, X_train, fill=True, ax=axes[-1, -1], alpha=.4)\n",
    "axes[-1, -1].set_title(\"Random Forest\")\n",
    "mglearn.discrete_scatter(X_train[:, 0], X_train[:, 1], y_train);"
   ]
  },
  {
   "cell_type": "markdown",
   "metadata": {},
   "source": [
    "- Se puede ver claramente que los límites de decisión aprendidos por los cinco árboles son bastante diferentes. Cada uno de ellos comete algunos errores, ya que algunos de los puntos que se representan aquí no se incluyeron en los conjuntos de entrenamiento de los árboles, debido al muestreo bootstrap. `El bosque aleatorio se ajusta menos que cualquiera de los árboles por separado y proporciona un límite de decisión mucho más intuitivo`. En cualquier aplicación real, utilizaríamos muchos más árboles (a menudo cientos o miles), lo que daría lugar a límites aún más suaves."
   ]
  },
  {
   "cell_type": "markdown",
   "metadata": {},
   "source": [
    "- Como otro ejemplo, apliquemos un bosque aleatorio compuesto por 100 árboles en el conjunto de datos `Breast Cancer`"
   ]
  },
  {
   "cell_type": "code",
   "execution_count": 30,
   "metadata": {},
   "outputs": [],
   "source": [
    "from sklearn.datasets import load_breast_cancer\n",
    "cancer = load_breast_cancer()"
   ]
  },
  {
   "cell_type": "code",
   "execution_count": 31,
   "metadata": {},
   "outputs": [
    {
     "name": "stdout",
     "output_type": "stream",
     "text": [
      "Accuracy on training set: 0.993\n",
      "Accuracy on test set: 0.965\n"
     ]
    }
   ],
   "source": [
    "X_train, X_test, y_train, y_test = train_test_split(cancer.data, cancer.target, random_state=0)\n",
    "forest = RandomForestClassifier(max_depth=4, n_estimators=100, random_state=0)\n",
    "forest.fit(X_train, y_train)\n",
    "print(\"Accuracy on training set: {:.3f}\".format(forest.score(X_train, y_train)))\n",
    "print(\"Accuracy on test set: {:.3f}\".format(forest.score(X_test, y_test)))"
   ]
  },
  {
   "cell_type": "markdown",
   "metadata": {},
   "source": [
    "- `El bosque aleatorio nos da una precisión del 97%, mejor que los modelos lineales o un árbol de decisión único, sin necesidad de ajustar ningún parámetro`. Podríamos ajustar la configuración de `max_features`, o aplicar la pre-selección como hicimos con el árbol de decisión simple. Sin embargo, a menudo los parámetros por defecto del bosque aleatorio ya funcionan bastante bien. `Al igual que el árbol de decisión, el bosque aleatorio proporciona importancias de características, que se calculan agregando las importancias de las características en los árboles del bosque`. Normalmente, las `importancias de las características proporcionadas por el bosque aleatorio son más fiables que las proporcionadas por un solo árbol`."
   ]
  },
  {
   "cell_type": "code",
   "execution_count": 32,
   "metadata": {},
   "outputs": [
    {
     "data": {
      "image/png": "[encoded data removed]",
      "text/plain": [
       "<Figure size 432x288 with 1 Axes>"
      ]
     },
     "metadata": {
      "needs_background": "light"
     },
     "output_type": "display_data"
    }
   ],
   "source": [
    "plot_feature_importances_cancer(forest)"
   ]
  },
  {
   "cell_type": "markdown",
   "metadata": {},
   "source": [
    "- Como puede ver, `el bosque aleatorio da una importancia no nula a muchas más características que el árbol simple`. Al igual que el árbol de decisión simple, el bosque aleatorio también da importancia a la característica `\"worst radius\"`, pero en realidad elige `\"worst perimeter\"` como la `característica más informativa`. `La aleatoriedad en la construcción del bosque aleatorio obliga al algoritmo a considerar muchas explicaciones posibles`. El resultado es que el bosque aleatorio capta una imagen mucho más amplia de los datos que un árbol simple."
   ]
  },
  {
   "cell_type": "markdown",
   "metadata": {},
   "source": [
    "```{admonition} Observación\n",
    ":class: tip\n",
    "\n",
    "La `importancia de la característica` se calcula como la disminución de la impureza del nodo ponderada por la probabilidad de alcanzar ese nodo. `La probabilidad del nodo puede calcularse mediante el número de muestras que llegan al nodo, dividido por el número total de muestras. Cuanto mayor sea el valor, más importante será la característica`. Si tenemos $C$ clases totales y $p(i)$ es la probabilidad de escoger un punto de datos con la clase $i$, entonces la `impureza de Gini` se calcula como\n",
    "\n",
    "$$\n",
    "G=\\sum_{i=1}^{C}p(i)(1-p(i)).\n",
    "$$\n",
    "```"
   ]
  },
  {
   "cell_type": "markdown",
   "metadata": {},
   "source": [
    "**`Puntos fuertes, puntos débiles y parámetros`**"
   ]
  },
  {
   "cell_type": "markdown",
   "metadata": {},
   "source": [
    "- Los bosques aleatorios para la regresión y la clasificación se encuentran actualmente entre los métodos de aprendizaje automático más utilizados. `Son muy potentes, suelen funcionar bien sin necesidad de ajustar mucho los parámetros y no requieren el escalado de los datos`. Esencialmente, los bosques aleatorios comparten todos los beneficios de los árboles de decisión, mientras que compensan algunas de sus deficiencias. Una razón para seguir utilizando los árboles de decisión es, **`si se necesita una representación compacta del proceso de toma de decisiones`**. Es básicamente imposible interpretar decenas o cientos de árboles en detalle, y los árboles de los bosques aleatorios tienden a ser más profundos que los árboles de decisión (debido al uso de subconjuntos de características). Por lo tanto, si se necesita resumir las predicciones de forma visual para los no expertos, un único árbol de decisión puede ser la mejor opción. \n",
    "\n",
    "- Aunque la construcción de bosques aleatorios en grandes conjuntos de datos puede llevar algo de tiempo, `se puede paralelizar a través de múltiples núcleos de CPU dentro de un ordenador fácilmente`. Si utiliza un procesador multinúcleo (como casi todos los ordenadores modernos),  puede utilizar el parámetro `n_jobs` para ajustar el número de núcleos a utilizar. El uso de más núcleos de la CPU dará lugar a un aumento lineal de la velocidad (utilizando dos núcleos, el entrenamiento del bosque aleatorio será el doble de rápido), pero especificar `n_jobs` mayor que el número de núcleos no ayudará. `Puede establecer n_jobs=-1 para utilizar todos los núcleos en su ordenador`.\n",
    "\n",
    "- Debe tener en cuenta que los bosques aleatorios, por su naturaleza, son aleatorios, y establecen diferentes estados aleatorios (o no establecen el `random_state` en absoluto) puede cambiar drásticamente el modelo que se construye. `Cuanto más árboles haya en el bosque, más robusto será frente a la elección del estado aleatorio`. Si quiere tener resultados reproducibles, es importante fijar el `random_state` a caulquier número entero. `Los bosques aleatorios no tienden a funcionar bien en datos muy dimensionales y escasos, como los datos de texto`. Para este tipo de datos, los modelos lineales pueden ser más apropiados. Los bosques aleatorios suelen funcionar bien incluso en conjuntos de datos muy grandes, y el entrenamiento se puede paralelizar fácilmente en muchos núcleos de la CPU de un ordenador potente.  Sin embargo, `los bosques aleatorios requieren más memoria y son más lentos de entrenar y predecir que los modelos lineales`. Si el tiempo y la memoria son importantes en una aplicación, puede tener sentido utilizar un modelo lineal en su lugar.\n",
    "\n",
    "- Los parámetros importantes a ajustar son `n_estimators , max_features`, y posiblemente opciones de pre-poda como `max_depth`. En el caso de `n_estimators`, un número mayor es siempre mejor. `Promediar más árboles dará lugar a un conjunto más robusto al reducir el sobreajuste`. Sin embargo, hay rendimientos decrecientes, y más árboles necesitan más memoria y más tiempo para entrenar. Una regla común es construir \"tantos como tenga tiempo/memoria\".  Como se ha descrito anteriormente, `max_features` determina el grado de aleatoriedad de cada árbol, y un `max_features pequeño reduce el sobreajuste`. En general, es una buena regla general utilizar los valores por defecto: `max_features=sqrt(n_features)` para la clasificación y `max_features=log2(n_features)` para la regresión. Añadir `max_features` o `max_leaf_nodes` puede mejorar a veces el rendimiento. También puede reducir drásticamente los requisitos de espacio y tiempo para el entrenamiento y la predicción."
   ]
  },
  {
   "cell_type": "markdown",
   "metadata": {},
   "source": [
    "**`Árboles de regresión de gradiente reforzado (máquinas de gradiente reforzado)`**"
   ]
  },
  {
   "cell_type": "markdown",
   "metadata": {},
   "source": [
    "- El árbol de regresión de gradiente reforzado es otro método de conjunto que combina múltiples árboles de decisión. A pesar de la `\"regresión\"` en el nombre, estos modelos pueden utilizarse para la regresión y la clasificación. A diferencia del enfoque de bosque aleatorio, `el refuerzo de gradiente funciona construyendo árboles en forma de serie, en el que cada árbol trata de corregir los errores del anterior`. Por defecto, no hay aleatoriedad en los árboles de regresión de gradiente; en su lugar, `se utiliza una fuerte pre-poda`. Los árboles de impulso por gradiente suelen utilizar árboles muy poco profundos, de una a cinco profundidades, lo que hace que el modelo sea más pequeño en términos de memoria y que las predicciones sean más rápidas.\n",
    "\n",
    "- La idea principal del `gradient boosting` es combinar muchos modelos simples (en este contexto conocidos como aprendices débiles), como árboles poco profundos. Cada árbol sólo puede proporcionar buenas predicciones sobre una parte de los datos, por lo que se añaden más y más árboles para mejorar el rendimiento. `Los árboles con refuerzo de gradiente suelen ser los ganadores de los concursos de aprendizaje automático y se utilizan mucho en la industria`. Suelen ser un poco más sensibles a los ajustes de los parámetros que los bosques aleatorios, pero pueden proporcionar una mayor precisión si los parámetros se ajustan correctamente.\n",
    "\n",
    "- Aparte de la pre-poda y el número de árboles en el conjunto, otro parámetro importante del gradient boosting es la `tasa de aprendizaje, que controla la intensidad con la que cada árbol trata de corregir los errores de los árboles anteriores`. Una tasa de aprendizaje alta significa que cada árbol puede hacer correcciones más fuertes, lo que permite modelos más complejos. Si se añaden más árboles al conjunto, lo que puede conseguirse aumentando `n_estimators`, también aumenta la complejidad del modelo, ya que éste tiene más oportunidades de corregir errores en el conjunto de entrenamiento."
   ]
  },
  {
   "cell_type": "markdown",
   "metadata": {},
   "source": [
    "- Este es un ejemplo del uso del clasificador `GradientBoosting` en el conjunto de datos del `Breast Cancer`. Por defecto, se utilizan 100 árboles de profundidad máxima 3 y una tasa de aprendizaje de 0.1"
   ]
  },
  {
   "cell_type": "code",
   "execution_count": 33,
   "metadata": {},
   "outputs": [],
   "source": [
    "from sklearn.ensemble import GradientBoostingClassifier\n",
    "from sklearn.model_selection import train_test_split\n",
    "from sklearn.datasets import load_breast_cancer\n",
    "import matplotlib.pyplot as plt\n",
    "import numpy as np\n",
    "cancer = load_breast_cancer()"
   ]
  },
  {
   "cell_type": "code",
   "execution_count": 34,
   "metadata": {},
   "outputs": [
    {
     "name": "stdout",
     "output_type": "stream",
     "text": [
      "Accuracy on training set: 1.000\n",
      "Accuracy on test set: 0.965\n"
     ]
    }
   ],
   "source": [
    "X_train, X_test, y_train, y_test = train_test_split(cancer.data, cancer.target, random_state=0)\n",
    "gbrt = GradientBoostingClassifier(random_state=0)\n",
    "gbrt.fit(X_train, y_train)\n",
    "print(\"Accuracy on training set: {:.3f}\".format(gbrt.score(X_train, y_train)))\n",
    "print(\"Accuracy on test set: {:.3f}\".format(gbrt.score(X_test, y_test)))"
   ]
  },
  {
   "cell_type": "markdown",
   "metadata": {},
   "source": [
    "- Como la `precisión del conjunto de entrenamiento es del 100%, es probable que estemos sobreajustando. Para reducir el sobreajuste, podemos aplicar una pre-poda más fuerte limitando la profundidad máxima o reducir la tasa de aprendizaje`"
   ]
  },
  {
   "cell_type": "code",
   "execution_count": 35,
   "metadata": {},
   "outputs": [
    {
     "name": "stdout",
     "output_type": "stream",
     "text": [
      "Accuracy on training set: 0.991\n",
      "Accuracy on test set: 0.972\n"
     ]
    }
   ],
   "source": [
    "gbrt = GradientBoostingClassifier(random_state=0, max_depth=1)\n",
    "gbrt.fit(X_train, y_train)\n",
    "print(\"Accuracy on training set: {:.3f}\".format(gbrt.score(X_train, y_train)))\n",
    "print(\"Accuracy on test set: {:.3f}\".format(gbrt.score(X_test, y_test)))"
   ]
  },
  {
   "cell_type": "code",
   "execution_count": 36,
   "metadata": {},
   "outputs": [
    {
     "name": "stdout",
     "output_type": "stream",
     "text": [
      "Accuracy on training set: 0.988\n",
      "Accuracy on test set: 0.965\n"
     ]
    }
   ],
   "source": [
    "gbrt = GradientBoostingClassifier(random_state=0, learning_rate=0.01)\n",
    "gbrt.fit(X_train, y_train)\n",
    "print(\"Accuracy on training set: {:.3f}\".format(gbrt.score(X_train, y_train)))\n",
    "print(\"Accuracy on test set: {:.3f}\".format(gbrt.score(X_test, y_test)))"
   ]
  },
  {
   "cell_type": "markdown",
   "metadata": {},
   "source": [
    "- Ambos métodos para disminuir la complejidad del modelo `redujeron la precisión del conjunto de entrenamiento, como era de esperar`. En este caso, `la reducción de la profundidad máxima de los árboles proporcionó una mejora significativa del modelo, mientras que la reducción de la tasa de aprendizaje sólo aumentó la precisión del conjunto de entrenamiento ligeramente`. En cuanto a los otros modelos basados en árboles de decisión, podemos volver a visualizar las características para obtener más información sobre nuestro modelo. Como utilizamos 100 árboles, es poco práctico inspeccionarlos todos, aunque todos tengan una profundidad de 1."
   ]
  },
  {
   "cell_type": "code",
   "execution_count": 37,
   "metadata": {},
   "outputs": [
    {
     "data": {
      "image/png": "[encoded data removed]",
      "text/plain": [
       "<Figure size 432x288 with 1 Axes>"
      ]
     },
     "metadata": {
      "needs_background": "light"
     },
     "output_type": "display_data"
    }
   ],
   "source": [
    "gbrt = GradientBoostingClassifier(random_state=0, max_depth=1)\n",
    "gbrt.fit(X_train, y_train)\n",
    "plot_feature_importances_cancer(gbrt)"
   ]
  },
  {
   "cell_type": "markdown",
   "metadata": {},
   "source": [
    "- Podemos ver que las importancias de las características de los árboles `gradient-boost` son algo similares a las de los bosques aleatorios, aunque el refuerzo del gradiente ignora por completo algunas de las características. Como tanto el refuerzo de gradiente como los bosques aleatorios funcionan bien en tipos de datos similares, `un enfoque común es probar primero los bosques aleatorios, que funcionan con bastante solidez. Si los bosques aleatorios funcionan bien, pero el tiempo de predicción es un problema, o si es importante exprimir el último porcentaje de precisión del modelo de aprendizaje automático, pasar a la refuerzo por gradiente suele ser útil`.\n",
    "\n",
    "- **`Si quiere aplicar el refuerzo de gradiente a un problema a gran escala, puede que merezca la pena investigar el paquete xgboost y su interfaz de Python, que hasta el momento es más rápido (y a veces más fácil de usar) que la implementación de scikit-learn en muchos conjuntos de datos`**."
   ]
  },
  {
   "cell_type": "markdown",
   "metadata": {},
   "source": [
    "**`Puntos fuertes, puntos débiles y parámetros`** \n",
    "\n",
    "- Los árboles de decisión con refuerzo de gradiente se encuentran entre los modelos más potentes y utilizados para el aprendizaje supervisado. `Su principal inconveniente es que requieren un ajuste cuidadoso de los parámetros y pueden tardar mucho tiempo de entrenamiento`. Al igual que otros modelos basados en árboles, el algoritmo funciona bien sin escalar y con una mezcla de características binarias y continuas. Al igual que otros modelos basados en árboles tampoco suele funcionar bien con datos dispersos de alta dimensión.\n",
    "\n",
    "- Los principales parámetros de los modelos de árbol de gradiente reforzado son el número de árboles, `n_estimators`, y el `learning_rate` que `controla el grado en que cada árbol puede corregir los errores de los árboles anteriores`. Estos dos parámetros están muy interconectados, ya que una tasa de aprendizaje más baja significa que se necesitan más árboles para construir un modelo de complejidad similar. A diferencia de los bosques aleatorios, en los que un valor de `n_estimators` es siempre mejor, el aumento de `n_estimators` en el `gradient boosting` conduce a un modelo más complejo, lo que puede llevar a un sobreajuste. Una práctica común es ajustar `n_estimators` dependiendo del presupuesto de tiempo y memoria, y luego buscar sobre diferentes tasas de aprendizaje.\n",
    "\n",
    "- Otro parámetro importante es `max_depth` (o alternativamente `max_leaf_nodes`), para reducir la complejidad de cada árbol. `Por lo general, la profundidad máxima es muy baja para los modelos de gradiente, a menudo no más allá de cinco divisiones`."
   ]
  },
  {
   "cell_type": "code",
   "execution_count": null,
   "metadata": {},
   "outputs": [],
   "source": []
  }
 ],
 "metadata": {
  "kernelspec": {
   "display_name": "ml_venv",
   "language": "python",
   "name": "ml_venv"
  },
  "language_info": {
   "codemirror_mode": {
    "name": "ipython",
    "version": 3
   },
   "file_extension": ".py",
   "mimetype": "text/x-python",
   "name": "python",
   "nbconvert_exporter": "python",
   "pygments_lexer": "ipython3",
   "version": "3.8.10"
  },
  "toc": {
   "base_numbering": 1,
   "nav_menu": {},
   "number_sections": false,
   "sideBar": false,
   "skip_h1_title": false,
   "title_cell": "Table of Contents",
   "title_sidebar": "Contents",
   "toc_cell": false,
   "toc_position": {},
   "toc_section_display": false,
   "toc_window_display": false
  },
  "vscode": {
   "interpreter": {
    "hash": "469db1fc29f1623adacfec949d628456f72ee59baa7f4914e56463dedadf3b2d"
   }
  },
  "widgets": {
   "application/vnd.jupyter.widget-state+json": {
    "state": {},
    "version_major": 2,
    "version_minor": 0
   }
  }
 },
 "nbformat": 4,
 "nbformat_minor": 4
}
